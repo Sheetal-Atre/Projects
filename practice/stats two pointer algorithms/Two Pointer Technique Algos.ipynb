{
 "cells": [
  {
   "cell_type": "code",
   "execution_count": 288,
   "metadata": {},
   "outputs": [],
   "source": [
    "import numpy as np"
   ]
  },
  {
   "cell_type": "code",
   "execution_count": null,
   "metadata": {},
   "outputs": [],
   "source": []
  },
  {
   "cell_type": "code",
   "execution_count": 10,
   "metadata": {},
   "outputs": [],
   "source": [
    "def pairExistsBrute( arr,  n,  S):\n",
    "    for i in range (0, n-2):\n",
    "        for j in range(i+1 , n-1):\n",
    "            if(arr[i] + arr[j] == S):\n",
    "                return (i,j)\n",
    "    return (-1,-1)"
   ]
  },
  {
   "cell_type": "code",
   "execution_count": 11,
   "metadata": {},
   "outputs": [
    {
     "name": "stdout",
     "output_type": "stream",
     "text": [
      "2 4\n"
     ]
    }
   ],
   "source": [
    "arr = [1,2,3,4,6]\n",
    "i,j = pairExistsBrute(arr, len(arr), 6)\n",
    "print(arr[i], arr[j])"
   ]
  },
  {
   "cell_type": "code",
   "execution_count": 18,
   "metadata": {},
   "outputs": [],
   "source": [
    "def pairExists(arr, n, S):\n",
    "    i = 0\n",
    "    j = n-1\n",
    "    while( i < j):\n",
    "        Y = arr[i] + arr[j]\n",
    "        if ( Y == S):\n",
    "            return (i,j)\n",
    "        elif ( Y < S ):\n",
    "            i = i + 1\n",
    "        elif ( Y > S ):\n",
    "            j = j - 1    \n",
    "    return (-1,-1)"
   ]
  },
  {
   "cell_type": "code",
   "execution_count": 19,
   "metadata": {},
   "outputs": [
    {
     "name": "stdout",
     "output_type": "stream",
     "text": [
      "2 4\n"
     ]
    }
   ],
   "source": [
    "arr = [1,2,3,4,6]\n",
    "i,j = pairExists(arr, len(arr), 6)\n",
    "print(arr[i], arr[j])"
   ]
  },
  {
   "cell_type": "code",
   "execution_count": 291,
   "metadata": {},
   "outputs": [
    {
     "data": {
      "text/plain": [
       "<__main__.LinkedList at 0x167acc32580>"
      ]
     },
     "execution_count": 291,
     "metadata": {},
     "output_type": "execute_result"
    }
   ],
   "source": [
    "#Creating a Linked List in Python:\n",
    "class Node:  \n",
    "    def __init__(self, data):  \n",
    "        self.data = data  \n",
    "        self.next = None \n",
    "class LinkedList: \n",
    "    def __init__(self): \n",
    "        self.head = None\n",
    "      \n",
    "    def push(self, new_data): \n",
    "        new_node = Node(new_data) \n",
    "        new_node.next = self.head \n",
    "        self.head = new_node\n",
    "\n",
    "list1 = LinkedList() \n",
    "list1.push(5) \n",
    "list1.push(4) \n",
    "list1.push(9) \n",
    "list1.push(8) \n",
    "list1.push(3) \n",
    "list1.push(1)\n",
    "list1\n",
    "\n"
   ]
  },
  {
   "cell_type": "code",
   "execution_count": 292,
   "metadata": {},
   "outputs": [],
   "source": [
    "def printMiddle(list1): \n",
    "    slow_ptr = list1.head \n",
    "    fast_ptr = list1.head \n",
    "\n",
    "    if list1.head is not None: \n",
    "        while (fast_ptr is not None and fast_ptr.next is not None): \n",
    "            fast_ptr = fast_ptr.next.next\n",
    "            slow_ptr = slow_ptr.next\n",
    "    return slow_ptr.data "
   ]
  },
  {
   "cell_type": "code",
   "execution_count": 293,
   "metadata": {},
   "outputs": [
    {
     "name": "stdout",
     "output_type": "stream",
     "text": [
      "The middle element is:  9\n"
     ]
    }
   ],
   "source": [
    "slow=printMiddle(list1)\n",
    "print(\"The middle element is: \", slow)"
   ]
  },
  {
   "cell_type": "code",
   "execution_count": 298,
   "metadata": {},
   "outputs": [],
   "source": [
    "def printMiddleBrute(list1): \n",
    "        node_count = 0\n",
    "        temp = list1.head\n",
    "        while temp is not None: \n",
    "            node_count = node_count + 1\n",
    "            temp = temp.next\n",
    "        i = 0\n",
    "        temp = list1.head\n",
    "        while i < node_count/2:\n",
    "            i = i+1\n",
    "            temp = temp.next\n",
    "            \n",
    "        return temp.data"
   ]
  },
  {
   "cell_type": "code",
   "execution_count": 299,
   "metadata": {},
   "outputs": [
    {
     "name": "stdout",
     "output_type": "stream",
     "text": [
      "The middle element is:  9\n"
     ]
    }
   ],
   "source": [
    "temp=printMiddleBrute(list1)\n",
    "print(\"The middle element is: \", temp)"
   ]
  },
  {
   "cell_type": "code",
   "execution_count": 97,
   "metadata": {},
   "outputs": [],
   "source": [
    "def findMaxSumBrute(arr, n, k):\n",
    "    bestSum = -99999999\n",
    "    for i in range (0, n):\n",
    "        S = 0\n",
    "        if i+k <= n:\n",
    "            for j in range(i,i+k) :            \n",
    "                S = S + arr[j];\n",
    "            bestSum = max(S, bestSum)\n",
    "    return bestSum\n"
   ]
  },
  {
   "cell_type": "code",
   "execution_count": 102,
   "metadata": {},
   "outputs": [
    {
     "name": "stdout",
     "output_type": "stream",
     "text": [
      "11\n"
     ]
    }
   ],
   "source": [
    "arr = [1,2,3,1,4,5,2,3]\n",
    "win_sz=3\n",
    "S = findMaxSumBrute(arr, len(arr),win_sz)\n",
    "print(S)"
   ]
  },
  {
   "cell_type": "code",
   "execution_count": 136,
   "metadata": {},
   "outputs": [],
   "source": [
    "def findMaxSum(arr,arr_sz,win_sz):\n",
    "    S = 0 \n",
    "    bestSum = -999999999\n",
    "    for i in range (0, win_sz):\n",
    "        S = S + arr[i]\n",
    "    \n",
    "    for i in range (1, arr_sz):\n",
    "        bestSum = max(bestSum, S)\n",
    "        if(i+win_sz)> arr_sz-1:\n",
    "            break\n",
    "        S = S - arr[i]\n",
    "        S = S + arr[i+win_sz]\n",
    "    return bestSum\n",
    "\n"
   ]
  },
  {
   "cell_type": "code",
   "execution_count": 137,
   "metadata": {},
   "outputs": [
    {
     "name": "stdout",
     "output_type": "stream",
     "text": [
      "11\n"
     ]
    }
   ],
   "source": [
    "arr = [1,2,3,1,4,5,2,3]\n",
    "S = findMaxSum(arr, len(arr), 3)\n",
    "print(S)"
   ]
  },
  {
   "cell_type": "code",
   "execution_count": 184,
   "metadata": {},
   "outputs": [],
   "source": [
    "def findSubString(string, len1, pat,len2):   \n",
    "    hash_pat,hash_str  = [0] * 256,[0] * 256\n",
    "    \n",
    "    # store occurrence of characters of pattern  \n",
    "    for i in range(0, len2):\n",
    "        c = ord(pat[i])\n",
    "        hash_pat[c] = hash_pat[c]+ 1\n",
    "        \n",
    "    # start traversing the string  \n",
    "    start, left, right,best_win_min_len = 0, -1, -1,99999999 \n",
    "    match_count = 0 \n",
    "    for i in range(0, len1):  \n",
    "        c = ord(string[i])\n",
    "        hash_str[c] = hash_str[c] + 1\n",
    "  \n",
    "        # If string's char matches with  \n",
    "        # pattern's char then increment count  \n",
    "        if (hash_pat[c] != 0 and hash_str[c] <= hash_pat[c]):  \n",
    "            match_count = match_count+ 1\n",
    "  \n",
    "        # if all the characters are matched  \n",
    "        if match_count == len2:  \n",
    "              \n",
    "            # Try to minimize the window i.e., check if  \n",
    "            # any character is occurring more no. of times  \n",
    "            # than its occurrence in pattern, if yes  \n",
    "            # then remove it from starting and also remove  \n",
    "            # the useless characters.\n",
    "            s=ord(string[start])\n",
    "            while (hash_str[s] > hash_pat[s] or hash_pat[s] == 0):                \n",
    "                if (hash_str[s] >  hash_pat[s]):  \n",
    "                    hash_str[s] = hash_str[s]- 1\n",
    "                start = start+ 1\n",
    "                s=ord(string[start])\n",
    "              \n",
    "            # update the best window size  \n",
    "            win_sz = i - start + 1\n",
    "            if best_win_min_len > win_sz:              \n",
    "                best_win_min_len = win_sz  \n",
    "                left = start\n",
    "                right = left + best_win_min_len\n",
    "                  \n",
    "    # Return substring starting from  \n",
    "    # start_index and length min_len  \n",
    "    return (left, right)"
   ]
  },
  {
   "cell_type": "code",
   "execution_count": 185,
   "metadata": {},
   "outputs": [
    {
     "name": "stdout",
     "output_type": "stream",
     "text": [
      "t stri\n"
     ]
    }
   ],
   "source": [
    "stri=\"this is a test string\"\n",
    "patt=\"tist\"\n",
    "start,end=findSubString(stri,len(stri),patt,len(patt))\n",
    "print(stri[start:end])"
   ]
  },
  {
   "cell_type": "code",
   "execution_count": 321,
   "metadata": {},
   "outputs": [],
   "source": [
    "def findSubStringBrute(string, len1, pat,len2):      \n",
    "    count_pat = [0] * 256 \n",
    "    for i in range(len2): \n",
    "        count_pat[ord(pat[i])] += 1\n",
    "\n",
    "    minl,left,right = 99999999999,-1,-1    \n",
    "    for i in range(0,len1): \n",
    "        for j in range(1,len1): \n",
    "            subs = string[i:j] \n",
    "            subs_lenght = len(subs)\n",
    "            \n",
    "            #get the substring count\n",
    "            count_sub = [0] * 256 \n",
    "            for x in range(subs_lenght): \n",
    "                try:\n",
    "                    count_sub[ord(subs[x])] += 1\n",
    "                except:\n",
    "#                     print(subs[x])\n",
    "                    pass\n",
    "\n",
    "            flag = False      \n",
    "            for x in range(len2): \n",
    "                o = ord(pat[x])\n",
    "                if count_pat[o] > 0 and count_pat[o] <= count_sub[o]:\n",
    "                    flag = True\n",
    "                else:\n",
    "                    flag = False\n",
    "                    break\n",
    "\n",
    "            # We have to check here both conditions together \n",
    "            # 1. substring's characters are equal to pattern's  characters \n",
    "            # 2. substing's length should be minimum  \n",
    "            if (subs_lenght < minl and flag == True): \n",
    "                minl = subs_lenght \n",
    "                left,right=i, j\n",
    "\n",
    "#     return minl\n",
    "    return(left,right)"
   ]
  },
  {
   "cell_type": "code",
   "execution_count": 313,
   "metadata": {},
   "outputs": [
    {
     "name": "stdout",
     "output_type": "stream",
     "text": [
      "t stri\n"
     ]
    }
   ],
   "source": [
    "stri=\"this is a test string\"\n",
    "patt=\"tist\"\n",
    "start,end=findSubStringBrute(stri,len(stri),patt,len(patt))\n",
    "\n",
    "print(stri[start:end])\n",
    "# print(minl)"
   ]
  },
  {
   "cell_type": "code",
   "execution_count": 324,
   "metadata": {},
   "outputs": [
    {
     "name": "stdout",
     "output_type": "stream",
     "text": [
      "10000\n"
     ]
    }
   ],
   "source": []
  },
  {
   "cell_type": "code",
   "execution_count": 327,
   "metadata": {},
   "outputs": [],
   "source": [
    "import time\n",
    "# generate random integer values\n",
    "from random import seed\n",
    "from random import randint\n",
    "\n",
    "\n",
    "def run_check(total_nos):\n",
    "    # seed random number generator\n",
    "    seed(1)\n",
    "\n",
    "    arr = []\n",
    "    # generate some integers\n",
    "    for i in range(total_nos):\n",
    "        value = randint(0, 10)\n",
    "        arr.append(value)\n",
    "    print(len(arr))\n",
    "\n",
    "    win_sz=5\n",
    "\n",
    "    list1 = LinkedList() \n",
    "    for i in arr:\n",
    "        list1.push(i)\n",
    "\n",
    "    start_time = time.time()\n",
    "    i,j = pairExistsBrute(arr, len(arr), 6)\n",
    "    end_time = time.time()\n",
    "    print(\"Sum of 2 nos Brute : \", end_time-start_time,\":::\", arr[i], arr[j])\n",
    "\n",
    "    start_time = time.time()\n",
    "    i,j = pairExists(arr, len(arr), 6)\n",
    "    end_time = time.time()\n",
    "    print(\"Sum of 2 nos Two Ptr: \",end_time-start_time,\":::\",  arr[i], arr[j])\n",
    "\n",
    "    start_time = time.time()\n",
    "    mid=printMiddleBrute(list1)\n",
    "    end_time = time.time()\n",
    "    print(\"Middle element of linked list Brute : \",end_time-start_time,\":::\", mid)\n",
    "\n",
    "    start_time = time.time()\n",
    "    mid=printMiddle(list1)\n",
    "    end_time = time.time()\n",
    "    print(\"Middle element of linked list Two Ptr: \",end_time-start_time,\":::\", mid)\n",
    "\n",
    "\n",
    "    start_time = time.time()\n",
    "    S = findMaxSumBrute(arr, len(arr),win_sz)\n",
    "    end_time = time.time()\n",
    "    print(\"Max sum of m consecutive Brute: \",end_time-start_time,\":::\",S)\n",
    "\n",
    "    start_time = time.time()\n",
    "    S = findMaxSum(arr, len(arr), win_sz)\n",
    "    end_time = time.time()\n",
    "    print(\"Max sum of m consecutive Two Ptr: \",end_time-start_time,\":::\",S)\n",
    "\n",
    "\n",
    "# data = open('data_2paras.txt', 'r').read()\n",
    "# patt=\"the\"\n",
    "\n",
    "# start_time = time.time()\n",
    "# start,end=findSubStringBrute(data,len(data),patt,len(patt))\n",
    "# end_time = time.time()\n",
    "# print(\"Smallest substring Brute :\",end_time-start_time,\":::\",data[start:end])\n",
    "\n",
    "# start_time = time.time()\n",
    "# start,end=findSubString(data,len(data),patt,len(patt))\n",
    "# end_time = time.time()\n",
    "# print(\"Smallest substring Two Pointer :\",end_time-start_time,\":::\",data[start:end])\n"
   ]
  },
  {
   "cell_type": "code",
   "execution_count": 328,
   "metadata": {},
   "outputs": [
    {
     "name": "stdout",
     "output_type": "stream",
     "text": [
      "100\n",
      "Sum of 2 nos Brute :  0.0 ::: 2 4\n",
      "Sum of 2 nos Two Ptr:  0.0 ::: 2 2\n",
      "Middle element of linked list Brute :  0.0 ::: 8\n",
      "Middle element of linked list Two Ptr:  0.0 ::: 8\n",
      "Max sum of m consecutive Brute:  0.0 ::: 43\n",
      "Max sum of m consecutive Two Ptr:  0.0 ::: 38\n",
      "1000\n",
      "Sum of 2 nos Brute :  0.0 ::: 2 4\n",
      "Sum of 2 nos Two Ptr:  0.0 ::: 10 10\n",
      "Middle element of linked list Brute :  0.0 ::: 7\n",
      "Middle element of linked list Two Ptr:  0.0 ::: 7\n",
      "Max sum of m consecutive Brute:  0.0 ::: 45\n",
      "Max sum of m consecutive Two Ptr:  0.0 ::: 40\n",
      "10000\n",
      "Sum of 2 nos Brute :  0.0 ::: 2 4\n",
      "Sum of 2 nos Two Ptr:  0.015587329864501953 ::: 2 2\n",
      "Middle element of linked list Brute :  0.0 ::: 2\n",
      "Middle element of linked list Two Ptr:  0.0 ::: 2\n",
      "Max sum of m consecutive Brute:  0.015621423721313477 ::: 49\n",
      "Max sum of m consecutive Two Ptr:  0.0 ::: 44\n",
      "30000\n",
      "Sum of 2 nos Brute :  0.0 ::: 2 4\n",
      "Sum of 2 nos Two Ptr:  0.0 ::: 2 2\n",
      "Middle element of linked list Brute :  0.015623331069946289 ::: 4\n",
      "Middle element of linked list Two Ptr:  0.0 ::: 4\n",
      "Max sum of m consecutive Brute:  0.03127932548522949 ::: 49\n",
      "Max sum of m consecutive Two Ptr:  0.022167444229125977 ::: 44\n",
      "50000\n",
      "Sum of 2 nos Brute :  0.0 ::: 2 4\n",
      "Sum of 2 nos Two Ptr:  0.0 ::: 7 7\n",
      "Middle element of linked list Brute :  0.015624761581420898 ::: 5\n",
      "Middle element of linked list Two Ptr:  0.0 ::: 5\n",
      "Max sum of m consecutive Brute:  0.04686284065246582 ::: 49\n",
      "Max sum of m consecutive Two Ptr:  0.03483843803405762 ::: 44\n"
     ]
    }
   ],
   "source": [
    "run_check(100)\n",
    "run_check(1000)\n",
    "run_check(10000)\n",
    "run_check(30000)\n",
    "run_check(50000)"
   ]
  },
  {
   "cell_type": "code",
   "execution_count": 329,
   "metadata": {},
   "outputs": [
    {
     "name": "stdout",
     "output_type": "stream",
     "text": [
      "100000\n",
      "Sum of 2 nos Brute :  0.0 ::: 2 4\n",
      "Sum of 2 nos Two Ptr:  0.01566290855407715 ::: 5 5\n",
      "Middle element of linked list Brute :  0.031208038330078125 ::: 7\n",
      "Middle element of linked list Two Ptr:  0.0156557559967041 ::: 7\n",
      "Max sum of m consecutive Brute:  0.10019993782043457 ::: 50\n",
      "Max sum of m consecutive Two Ptr:  0.05341005325317383 ::: 45\n",
      "200000\n",
      "Sum of 2 nos Brute :  0.0 ::: 2 4\n",
      "Sum of 2 nos Two Ptr:  0.0 ::: 2 4\n",
      "Middle element of linked list Brute :  0.05335569381713867 ::: 5\n",
      "Middle element of linked list Two Ptr:  0.015659093856811523 ::: 5\n",
      "Max sum of m consecutive Brute:  0.23183178901672363 ::: 50\n",
      "Max sum of m consecutive Two Ptr:  0.08469271659851074 ::: 45\n",
      "500000\n",
      "Sum of 2 nos Brute :  0.0 ::: 2 4\n",
      "Sum of 2 nos Two Ptr:  0.11589694023132324 ::: 10 10\n",
      "Middle element of linked list Brute :  0.18486309051513672 ::: 5\n",
      "Middle element of linked list Two Ptr:  0.1001126766204834 ::: 5\n",
      "Max sum of m consecutive Brute:  0.5169763565063477 ::: 50\n",
      "Max sum of m consecutive Two Ptr:  0.2540614604949951 ::: 45\n"
     ]
    }
   ],
   "source": [
    "run_check(100000)\n",
    "run_check(200000)\n",
    "run_check(500000)\n",
    "\n"
   ]
  },
  {
   "cell_type": "code",
   "execution_count": 330,
   "metadata": {},
   "outputs": [
    {
     "name": "stdout",
     "output_type": "stream",
     "text": [
      "1000000\n",
      "Sum of 2 nos Brute :  0.0 ::: 2 4\n",
      "Sum of 2 nos Two Ptr:  0.2475292682647705 ::: 5 5\n",
      "Middle element of linked list Brute :  0.23179221153259277 ::: 10\n",
      "Middle element of linked list Two Ptr:  0.08464717864990234 ::: 10\n",
      "Max sum of m consecutive Brute:  1.1185171604156494 ::: 50\n",
      "Max sum of m consecutive Two Ptr:  0.46979570388793945 ::: 45\n",
      "2000000\n",
      "Sum of 2 nos Brute :  0.0 ::: 2 4\n",
      "Sum of 2 nos Two Ptr:  0.5479798316955566 ::: 10 10\n",
      "Middle element of linked list Brute :  0.4010121822357178 ::: 5\n",
      "Middle element of linked list Two Ptr:  0.21624016761779785 ::: 5\n",
      "Max sum of m consecutive Brute:  2.3743250370025635 ::: 50\n",
      "Max sum of m consecutive Two Ptr:  1.0339598655700684 ::: 45\n",
      "3000000\n",
      "Sum of 2 nos Brute :  0.0 ::: 2 4\n",
      "Sum of 2 nos Two Ptr:  0.8396601676940918 ::: 3 3\n",
      "Middle element of linked list Brute :  0.7018232345581055 ::: 7\n",
      "Middle element of linked list Two Ptr:  0.3007533550262451 ::: 7\n",
      "Max sum of m consecutive Brute:  3.482668876647949 ::: 50\n",
      "Max sum of m consecutive Two Ptr:  1.5798578262329102 ::: 45\n",
      "5000000\n",
      "Sum of 2 nos Brute :  0.0 ::: 2 4\n",
      "Sum of 2 nos Two Ptr:  1.3190383911132812 ::: 5 5\n",
      "Middle element of linked list Brute :  1.0872464179992676 ::: 0\n",
      "Middle element of linked list Two Ptr:  0.4855763912200928 ::: 0\n",
      "Max sum of m consecutive Brute:  6.220639228820801 ::: 50\n",
      "Max sum of m consecutive Two Ptr:  2.6739847660064697 ::: 45\n",
      "7500000\n",
      "Sum of 2 nos Brute :  0.0 ::: 2 4\n",
      "Sum of 2 nos Two Ptr:  2.092036724090576 ::: 0 0\n",
      "Middle element of linked list Brute :  1.6117801666259766 ::: 7\n",
      "Middle element of linked list Two Ptr:  0.7901108264923096 ::: 7\n",
      "Max sum of m consecutive Brute:  8.983084917068481 ::: 50\n",
      "Max sum of m consecutive Two Ptr:  4.049860000610352 ::: 45\n",
      "9000000\n",
      "Sum of 2 nos Brute :  0.0 ::: 2 4\n",
      "Sum of 2 nos Two Ptr:  2.667675256729126 ::: 3 3\n",
      "Middle element of linked list Brute :  2.0241611003875732 ::: 7\n",
      "Middle element of linked list Two Ptr:  0.9334561824798584 ::: 7\n",
      "Max sum of m consecutive Brute:  11.529385089874268 ::: 50\n",
      "Max sum of m consecutive Two Ptr:  4.7767653465271 ::: 45\n"
     ]
    }
   ],
   "source": [
    "run_check(1000000)\n",
    "run_check(2000000)\n",
    "run_check(3000000)\n",
    "run_check(5000000)\n",
    "run_check(7500000)\n",
    "run_check(9000000)"
   ]
  },
  {
   "cell_type": "code",
   "execution_count": null,
   "metadata": {},
   "outputs": [
    {
     "name": "stdout",
     "output_type": "stream",
     "text": [
      "10000000\n",
      "Sum of 2 nos Brute :  0.0 ::: 2 4\n",
      "Sum of 2 nos Two Ptr:  2.599637985229492 ::: 6 6\n",
      "Middle element of linked list Brute :  2.453005075454712 ::: 5\n",
      "Middle element of linked list Two Ptr:  1.0870206356048584 ::: 5\n",
      "Max sum of m consecutive Brute:  11.619394302368164 ::: 50\n",
      "Max sum of m consecutive Two Ptr:  5.46578311920166 ::: 45\n",
      "20000000\n",
      "Sum of 2 nos Brute :  0.0 ::: 2 4\n",
      "Sum of 2 nos Two Ptr:  5.7483556270599365 ::: 2 2\n",
      "Middle element of linked list Brute :  4.7141642570495605 ::: 6\n",
      "Middle element of linked list Two Ptr:  2.2218339443206787 ::: 6\n",
      "Max sum of m consecutive Brute:  25.48144793510437 ::: 50\n",
      "Max sum of m consecutive Two Ptr:  11.049089908599854 ::: 45\n"
     ]
    }
   ],
   "source": [
    "run_check(10000000)\n",
    "run_check(20000000)\n",
    "# run_check(30000000)\n",
    "# run_check(50000000)"
   ]
  },
  {
   "cell_type": "code",
   "execution_count": 22,
   "metadata": {},
   "outputs": [
    {
     "data": {
      "text/html": [
       "<div>\n",
       "<style scoped>\n",
       "    .dataframe tbody tr th:only-of-type {\n",
       "        vertical-align: middle;\n",
       "    }\n",
       "\n",
       "    .dataframe tbody tr th {\n",
       "        vertical-align: top;\n",
       "    }\n",
       "\n",
       "    .dataframe thead th {\n",
       "        text-align: right;\n",
       "    }\n",
       "</style>\n",
       "<table border=\"1\" class=\"dataframe\">\n",
       "  <thead>\n",
       "    <tr style=\"text-align: right;\">\n",
       "      <th></th>\n",
       "      <th>no of array elements</th>\n",
       "      <th>Sum of 2 nos Brute</th>\n",
       "      <th>Sum of 2 nos Two Ptr</th>\n",
       "      <th>Middle element of linked list Brute</th>\n",
       "      <th>Middle element of linked list Two Ptr</th>\n",
       "      <th>Max sum of m consecutive Brute</th>\n",
       "      <th>Max sum of m consecutive Two Ptr</th>\n",
       "    </tr>\n",
       "  </thead>\n",
       "  <tbody>\n",
       "    <tr>\n",
       "      <th>0</th>\n",
       "      <td>100</td>\n",
       "      <td>0</td>\n",
       "      <td>0.000000</td>\n",
       "      <td>0.000000</td>\n",
       "      <td>0.000000</td>\n",
       "      <td>0.000000</td>\n",
       "      <td>0.000000</td>\n",
       "    </tr>\n",
       "    <tr>\n",
       "      <th>1</th>\n",
       "      <td>1000</td>\n",
       "      <td>0</td>\n",
       "      <td>0.000000</td>\n",
       "      <td>0.000000</td>\n",
       "      <td>0.000000</td>\n",
       "      <td>0.000000</td>\n",
       "      <td>0.000000</td>\n",
       "    </tr>\n",
       "    <tr>\n",
       "      <th>2</th>\n",
       "      <td>10000</td>\n",
       "      <td>0</td>\n",
       "      <td>0.015587</td>\n",
       "      <td>0.000000</td>\n",
       "      <td>0.000000</td>\n",
       "      <td>0.015621</td>\n",
       "      <td>0.000000</td>\n",
       "    </tr>\n",
       "    <tr>\n",
       "      <th>3</th>\n",
       "      <td>30000</td>\n",
       "      <td>0</td>\n",
       "      <td>0.000000</td>\n",
       "      <td>0.015623</td>\n",
       "      <td>0.000000</td>\n",
       "      <td>0.031279</td>\n",
       "      <td>0.022167</td>\n",
       "    </tr>\n",
       "    <tr>\n",
       "      <th>4</th>\n",
       "      <td>50000</td>\n",
       "      <td>0</td>\n",
       "      <td>0.000000</td>\n",
       "      <td>0.015625</td>\n",
       "      <td>0.000000</td>\n",
       "      <td>0.046863</td>\n",
       "      <td>0.034838</td>\n",
       "    </tr>\n",
       "    <tr>\n",
       "      <th>5</th>\n",
       "      <td>100000</td>\n",
       "      <td>0</td>\n",
       "      <td>0.015663</td>\n",
       "      <td>0.031208</td>\n",
       "      <td>0.015656</td>\n",
       "      <td>0.100200</td>\n",
       "      <td>0.053410</td>\n",
       "    </tr>\n",
       "    <tr>\n",
       "      <th>6</th>\n",
       "      <td>200000</td>\n",
       "      <td>0</td>\n",
       "      <td>0.000000</td>\n",
       "      <td>0.053356</td>\n",
       "      <td>0.015659</td>\n",
       "      <td>0.231832</td>\n",
       "      <td>0.084693</td>\n",
       "    </tr>\n",
       "    <tr>\n",
       "      <th>7</th>\n",
       "      <td>500000</td>\n",
       "      <td>0</td>\n",
       "      <td>0.115897</td>\n",
       "      <td>0.184863</td>\n",
       "      <td>0.100113</td>\n",
       "      <td>0.516976</td>\n",
       "      <td>0.254061</td>\n",
       "    </tr>\n",
       "    <tr>\n",
       "      <th>8</th>\n",
       "      <td>1000000</td>\n",
       "      <td>0</td>\n",
       "      <td>0.247529</td>\n",
       "      <td>0.231792</td>\n",
       "      <td>0.084647</td>\n",
       "      <td>1.118517</td>\n",
       "      <td>0.469796</td>\n",
       "    </tr>\n",
       "    <tr>\n",
       "      <th>9</th>\n",
       "      <td>2000000</td>\n",
       "      <td>0</td>\n",
       "      <td>0.547980</td>\n",
       "      <td>0.401012</td>\n",
       "      <td>0.216240</td>\n",
       "      <td>2.374325</td>\n",
       "      <td>1.033960</td>\n",
       "    </tr>\n",
       "    <tr>\n",
       "      <th>10</th>\n",
       "      <td>3000000</td>\n",
       "      <td>0</td>\n",
       "      <td>0.839660</td>\n",
       "      <td>0.701823</td>\n",
       "      <td>0.300753</td>\n",
       "      <td>3.482669</td>\n",
       "      <td>1.579858</td>\n",
       "    </tr>\n",
       "    <tr>\n",
       "      <th>11</th>\n",
       "      <td>5000000</td>\n",
       "      <td>0</td>\n",
       "      <td>1.319038</td>\n",
       "      <td>1.087246</td>\n",
       "      <td>0.485576</td>\n",
       "      <td>6.220639</td>\n",
       "      <td>2.673985</td>\n",
       "    </tr>\n",
       "    <tr>\n",
       "      <th>12</th>\n",
       "      <td>7500000</td>\n",
       "      <td>0</td>\n",
       "      <td>2.092037</td>\n",
       "      <td>1.611780</td>\n",
       "      <td>0.790111</td>\n",
       "      <td>8.983085</td>\n",
       "      <td>4.049860</td>\n",
       "    </tr>\n",
       "    <tr>\n",
       "      <th>13</th>\n",
       "      <td>9000000</td>\n",
       "      <td>0</td>\n",
       "      <td>2.667675</td>\n",
       "      <td>2.024161</td>\n",
       "      <td>0.933456</td>\n",
       "      <td>11.529385</td>\n",
       "      <td>4.776765</td>\n",
       "    </tr>\n",
       "    <tr>\n",
       "      <th>14</th>\n",
       "      <td>10000000</td>\n",
       "      <td>0</td>\n",
       "      <td>2.599638</td>\n",
       "      <td>2.453005</td>\n",
       "      <td>1.087021</td>\n",
       "      <td>11.619394</td>\n",
       "      <td>5.465783</td>\n",
       "    </tr>\n",
       "    <tr>\n",
       "      <th>15</th>\n",
       "      <td>20000000</td>\n",
       "      <td>0</td>\n",
       "      <td>5.748356</td>\n",
       "      <td>4.714164</td>\n",
       "      <td>2.221834</td>\n",
       "      <td>25.481448</td>\n",
       "      <td>11.049090</td>\n",
       "    </tr>\n",
       "  </tbody>\n",
       "</table>\n",
       "</div>"
      ],
      "text/plain": [
       "    no of array elements  Sum of 2 nos Brute  Sum of 2 nos Two Ptr  \\\n",
       "0                    100                   0              0.000000   \n",
       "1                   1000                   0              0.000000   \n",
       "2                  10000                   0              0.015587   \n",
       "3                  30000                   0              0.000000   \n",
       "4                  50000                   0              0.000000   \n",
       "5                 100000                   0              0.015663   \n",
       "6                 200000                   0              0.000000   \n",
       "7                 500000                   0              0.115897   \n",
       "8                1000000                   0              0.247529   \n",
       "9                2000000                   0              0.547980   \n",
       "10               3000000                   0              0.839660   \n",
       "11               5000000                   0              1.319038   \n",
       "12               7500000                   0              2.092037   \n",
       "13               9000000                   0              2.667675   \n",
       "14              10000000                   0              2.599638   \n",
       "15              20000000                   0              5.748356   \n",
       "\n",
       "    Middle element of linked list Brute  \\\n",
       "0                              0.000000   \n",
       "1                              0.000000   \n",
       "2                              0.000000   \n",
       "3                              0.015623   \n",
       "4                              0.015625   \n",
       "5                              0.031208   \n",
       "6                              0.053356   \n",
       "7                              0.184863   \n",
       "8                              0.231792   \n",
       "9                              0.401012   \n",
       "10                             0.701823   \n",
       "11                             1.087246   \n",
       "12                             1.611780   \n",
       "13                             2.024161   \n",
       "14                             2.453005   \n",
       "15                             4.714164   \n",
       "\n",
       "    Middle element of linked list Two Ptr  Max sum of m consecutive Brute  \\\n",
       "0                                0.000000                        0.000000   \n",
       "1                                0.000000                        0.000000   \n",
       "2                                0.000000                        0.015621   \n",
       "3                                0.000000                        0.031279   \n",
       "4                                0.000000                        0.046863   \n",
       "5                                0.015656                        0.100200   \n",
       "6                                0.015659                        0.231832   \n",
       "7                                0.100113                        0.516976   \n",
       "8                                0.084647                        1.118517   \n",
       "9                                0.216240                        2.374325   \n",
       "10                               0.300753                        3.482669   \n",
       "11                               0.485576                        6.220639   \n",
       "12                               0.790111                        8.983085   \n",
       "13                               0.933456                       11.529385   \n",
       "14                               1.087021                       11.619394   \n",
       "15                               2.221834                       25.481448   \n",
       "\n",
       "    Max sum of m consecutive Two Ptr  \n",
       "0                           0.000000  \n",
       "1                           0.000000  \n",
       "2                           0.000000  \n",
       "3                           0.022167  \n",
       "4                           0.034838  \n",
       "5                           0.053410  \n",
       "6                           0.084693  \n",
       "7                           0.254061  \n",
       "8                           0.469796  \n",
       "9                           1.033960  \n",
       "10                          1.579858  \n",
       "11                          2.673985  \n",
       "12                          4.049860  \n",
       "13                          4.776765  \n",
       "14                          5.465783  \n",
       "15                         11.049090  "
      ]
     },
     "execution_count": 22,
     "metadata": {},
     "output_type": "execute_result"
    }
   ],
   "source": [
    "import matplotlib.pyplot as plt\n",
    "import pandas as pd\n",
    "import seaborn as sns\n",
    "\n",
    "df=pd.read_csv('result_2ptr_test.csv')\n",
    "df\n"
   ]
  },
  {
   "cell_type": "code",
   "execution_count": 43,
   "metadata": {},
   "outputs": [
    {
     "data": {
      "image/png": "[encoded data removed]",
      "text/plain": [
       "<Figure size 432x288 with 1 Axes>"
      ]
     },
     "metadata": {
      "needs_background": "light"
     },
     "output_type": "display_data"
    }
   ],
   "source": [
    "# plot with various axes scales\n",
    "plt.plot(df['no of array elements'],df['Sum of 2 nos Brute'], \n",
    "             label='Sum of 2 nos Brute',marker = 'o')\n",
    "plt.plot(df['no of array elements'],df['Sum of 2 nos Two Ptr'],\n",
    "         label='Sum of 2 nos Two Ptr',marker = 'o')\n",
    "plt.xlabel('no of array elements')\n",
    "plt.ylabel('Time')\n",
    "plt.title('Performance')\n",
    "plt.grid(True)\n",
    "plt.legend()\n",
    "\n",
    "\n",
    "plt.show()"
   ]
  },
  {
   "cell_type": "code",
   "execution_count": 44,
   "metadata": {},
   "outputs": [
    {
     "data": {
      "image/png": "[encoded data removed]",
      "text/plain": [
       "<Figure size 432x288 with 1 Axes>"
      ]
     },
     "metadata": {
      "needs_background": "light"
     },
     "output_type": "display_data"
    }
   ],
   "source": [
    "\n",
    "plt.plot(df['no of array elements'],df['Middle element of linked list Brute'], \n",
    "         label='Middle element of linked list Brute',marker = 'o')\n",
    "plt.plot(df['no of array elements'],df['Middle element of linked list Two Ptr'], \n",
    "         label='Middle element of linked list Two Ptr',marker = 'o')\n",
    "plt.xlabel('no of array elements')\n",
    "plt.ylabel('Time')\n",
    "plt.title('Performance')\n",
    "plt.grid(True)\n",
    "plt.legend()\n",
    "plt.show()\n",
    "\n"
   ]
  },
  {
   "cell_type": "code",
   "execution_count": 45,
   "metadata": {},
   "outputs": [
    {
     "data": {
      "image/png": "[encoded data removed]",
      "text/plain": [
       "<Figure size 432x288 with 1 Axes>"
      ]
     },
     "metadata": {
      "needs_background": "light"
     },
     "output_type": "display_data"
    }
   ],
   "source": [
    "plt.plot(df['no of array elements'],df['Max sum of m consecutive Brute'], \n",
    "         label='Max sum of m consecutive Brute',marker = 'o')\n",
    "plt.plot(df['no of array elements'],df['Max sum of m consecutive Two Ptr'], \n",
    "         label='Max sum of m consecutive Two Ptr',marker = 'o')\n",
    "plt.xlabel('no of array elements')\n",
    "plt.ylabel('Time')\n",
    "plt.title('Performance')\n",
    "plt.grid(True)\n",
    "plt.legend()\n",
    "plt.show()"
   ]
  },
  {
   "cell_type": "code",
   "execution_count": null,
   "metadata": {},
   "outputs": [],
   "source": []
  }
 ],
 "metadata": {
  "kernelspec": {
   "display_name": "Python 3",
   "language": "python",
   "name": "python3"
  },
  "language_info": {
   "codemirror_mode": {
    "name": "ipython",
    "version": 3
   },
   "file_extension": ".py",
   "mimetype": "text/x-python",
   "name": "python",
   "nbconvert_exporter": "python",
   "pygments_lexer": "ipython3",
   "version": "3.8.2"
  }
 },
 "nbformat": 4,
 "nbformat_minor": 4
}
