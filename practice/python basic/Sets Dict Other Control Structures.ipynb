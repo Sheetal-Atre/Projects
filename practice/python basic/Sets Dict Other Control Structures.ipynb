{
 "cells": [
  {
   "cell_type": "markdown",
   "metadata": {},
   "source": [
    "Intersection\n",
    "\n",
    "Which of the following codes can be used to find intersection of sets A, B and C.\n",
    "\n",
    "\n"
   ]
  },
  {
   "cell_type": "code",
   "execution_count": 12,
   "metadata": {},
   "outputs": [
    {
     "name": "stdout",
     "output_type": "stream",
     "text": [
      "{2}\n",
      "{2}\n"
     ]
    }
   ],
   "source": [
    "A=set([1,2,3])\n",
    "B=set([2,3,4])\n",
    "C=set([0,1,2])\n",
    "\n",
    "print(set.intersection(A, B, C))\n",
    "\n",
    "print(A.intersection(B, C))\n",
    "\n",
    "#A.intersection([B, C])#TypeError: unhashable type: 'set'\n",
    "\n",
    "#set.intersection([A, B, C])#TypeError: descriptor 'intersection' for 'set' objects doesn't apply to a 'list' object"
   ]
  },
  {
   "cell_type": "markdown",
   "metadata": {},
   "source": [
    "Immutables\n",
    "\n",
    "Which of the following data structures are immutable?\n",
    "\n"
   ]
  },
  {
   "cell_type": "code",
   "execution_count": 14,
   "metadata": {},
   "outputs": [
    {
     "ename": "SyntaxError",
     "evalue": "invalid syntax (<ipython-input-14-aa6ef9ca9dd6>, line 1)",
     "output_type": "error",
     "traceback": [
      "\u001b[1;36m  File \u001b[1;32m\"<ipython-input-14-aa6ef9ca9dd6>\"\u001b[1;36m, line \u001b[1;32m1\u001b[0m\n\u001b[1;33m    immutable:\u001b[0m\n\u001b[1;37m              ^\u001b[0m\n\u001b[1;31mSyntaxError\u001b[0m\u001b[1;31m:\u001b[0m invalid syntax\n"
     ]
    }
   ],
   "source": [
    "immutable:\n",
    "Elements of sets --- Y\n",
    "Tuples\n",
    " \n",
    "mutable:\n",
    "Lists\n",
    "Dictionary\n",
    "Sets\n",
    "\n"
   ]
  },
  {
   "cell_type": "code",
   "execution_count": 15,
   "metadata": {},
   "outputs": [
    {
     "ename": "NameError",
     "evalue": "name 'Dictionary' is not defined",
     "output_type": "error",
     "traceback": [
      "\u001b[1;31m---------------------------------------------------------------------------\u001b[0m",
      "\u001b[1;31mNameError\u001b[0m                                 Traceback (most recent call last)",
      "\u001b[1;32m<ipython-input-15-0108d2d9f918>\u001b[0m in \u001b[0;36m<module>\u001b[1;34m\u001b[0m\n\u001b[1;32m----> 1\u001b[1;33m \u001b[0mDictionary\u001b[0m\u001b[1;33m\u001b[0m\u001b[1;33m\u001b[0m\u001b[0m\n\u001b[0m\u001b[0;32m      2\u001b[0m \u001b[1;33m\u001b[0m\u001b[0m\n\u001b[0;32m      3\u001b[0m \u001b[0mget_ipython\u001b[0m\u001b[1;33m(\u001b[0m\u001b[1;33m)\u001b[0m\u001b[1;33m.\u001b[0m\u001b[0mrun_line_magic\u001b[0m\u001b[1;33m(\u001b[0m\u001b[1;34m'pinfo'\u001b[0m\u001b[1;33m,\u001b[0m \u001b[1;34m'dictionary'\u001b[0m\u001b[1;33m)\u001b[0m\u001b[1;33m\u001b[0m\u001b[1;33m\u001b[0m\u001b[0m\n\u001b[0;32m      4\u001b[0m \u001b[1;33m\u001b[0m\u001b[0m\n\u001b[0;32m      5\u001b[0m \u001b[1;33m\u001b[0m\u001b[0m\n",
      "\u001b[1;31mNameError\u001b[0m: name 'Dictionary' is not defined"
     ]
    }
   ],
   "source": [
    "Dictionary\n",
    "\n",
    "Which of the following will create a dictionary?\n",
    "\n",
    "\n"
   ]
  },
  {
   "cell_type": "code",
   "execution_count": 18,
   "metadata": {},
   "outputs": [
    {
     "name": "stdout",
     "output_type": "stream",
     "text": [
      "<class 'dict'>\n",
      "<class 'dict'>\n",
      "<class 'dict'>\n"
     ]
    }
   ],
   "source": [
    "d = {}\n",
    "print(type(d))\n",
    "\n",
    "#d = ('a':1, 'b':2)SyntaxError: invalid syntax\n",
    "\n",
    "d=dict(a=1, b=2)\n",
    "print(type(d))\n",
    "\n",
    "#d={'a'=1, 'b'=2}SyntaxError: invalid syntax\n",
    "\n",
    "d={'a':1, 'b':2}\n",
    "print(type(d))\n"
   ]
  },
  {
   "cell_type": "code",
   "execution_count": 19,
   "metadata": {},
   "outputs": [
    {
     "ename": "NameError",
     "evalue": "name 'Keys' is not defined",
     "output_type": "error",
     "traceback": [
      "\u001b[1;31m---------------------------------------------------------------------------\u001b[0m",
      "\u001b[1;31mNameError\u001b[0m                                 Traceback (most recent call last)",
      "\u001b[1;32m<ipython-input-19-b8ce7ee369d4>\u001b[0m in \u001b[0;36m<module>\u001b[1;34m\u001b[0m\n\u001b[1;32m----> 1\u001b[1;33m \u001b[0mKeys\u001b[0m\u001b[1;33m\u001b[0m\u001b[1;33m\u001b[0m\u001b[0m\n\u001b[0m\u001b[0;32m      2\u001b[0m \u001b[1;33m\u001b[0m\u001b[0m\n\u001b[0;32m      3\u001b[0m \u001b[0mget_ipython\u001b[0m\u001b[1;33m(\u001b[0m\u001b[1;33m)\u001b[0m\u001b[1;33m.\u001b[0m\u001b[0mrun_line_magic\u001b[0m\u001b[1;33m(\u001b[0m\u001b[1;34m'pinfo'\u001b[0m\u001b[1;33m,\u001b[0m \u001b[1;34m'return'\u001b[0m\u001b[1;33m)\u001b[0m\u001b[1;33m\u001b[0m\u001b[1;33m\u001b[0m\u001b[0m\n\u001b[0;32m      4\u001b[0m \u001b[1;33m\u001b[0m\u001b[0m\n",
      "\u001b[1;31mNameError\u001b[0m: name 'Keys' is not defined"
     ]
    }
   ],
   "source": [
    "Keys\n",
    "\n",
    "What will the following code return?\n",
    "\n"
   ]
  },
  {
   "cell_type": "code",
   "execution_count": 20,
   "metadata": {},
   "outputs": [
    {
     "ename": "KeyError",
     "evalue": "'e'",
     "output_type": "error",
     "traceback": [
      "\u001b[1;31m---------------------------------------------------------------------------\u001b[0m",
      "\u001b[1;31mKeyError\u001b[0m                                  Traceback (most recent call last)",
      "\u001b[1;32m<ipython-input-20-0256b7aecbd4>\u001b[0m in \u001b[0;36m<module>\u001b[1;34m\u001b[0m\n\u001b[0;32m      1\u001b[0m \u001b[0md\u001b[0m\u001b[1;33m=\u001b[0m\u001b[1;33m{\u001b[0m\u001b[1;34m'a'\u001b[0m\u001b[1;33m:\u001b[0m\u001b[1;36m64\u001b[0m\u001b[1;33m,\u001b[0m \u001b[1;34m'b'\u001b[0m\u001b[1;33m:\u001b[0m\u001b[1;36m65\u001b[0m\u001b[1;33m,\u001b[0m \u001b[1;34m'c'\u001b[0m\u001b[1;33m:\u001b[0m\u001b[1;36m66\u001b[0m\u001b[1;33m,\u001b[0m \u001b[1;34m'd'\u001b[0m\u001b[1;33m:\u001b[0m\u001b[1;36m67\u001b[0m\u001b[1;33m}\u001b[0m\u001b[1;33m\u001b[0m\u001b[1;33m\u001b[0m\u001b[0m\n\u001b[1;32m----> 2\u001b[1;33m \u001b[0mprint\u001b[0m\u001b[1;33m(\u001b[0m\u001b[0md\u001b[0m\u001b[1;33m[\u001b[0m\u001b[1;34m'e'\u001b[0m\u001b[1;33m]\u001b[0m\u001b[1;33m)\u001b[0m\u001b[1;33m\u001b[0m\u001b[1;33m\u001b[0m\u001b[0m\n\u001b[0m",
      "\u001b[1;31mKeyError\u001b[0m: 'e'"
     ]
    }
   ],
   "source": [
    "d={'a':64, 'b':65, 'c':66, 'd':67}\n",
    "print(d['e'])\n"
   ]
  },
  {
   "cell_type": "code",
   "execution_count": 21,
   "metadata": {},
   "outputs": [
    {
     "ename": "NameError",
     "evalue": "name 'Keys' is not defined",
     "output_type": "error",
     "traceback": [
      "\u001b[1;31m---------------------------------------------------------------------------\u001b[0m",
      "\u001b[1;31mNameError\u001b[0m                                 Traceback (most recent call last)",
      "\u001b[1;32m<ipython-input-21-34200bf30704>\u001b[0m in \u001b[0;36m<module>\u001b[1;34m\u001b[0m\n\u001b[1;32m----> 1\u001b[1;33m \u001b[0mKeys\u001b[0m\u001b[1;33m\u001b[0m\u001b[1;33m\u001b[0m\u001b[0m\n\u001b[0m\u001b[0;32m      2\u001b[0m \u001b[1;33m\u001b[0m\u001b[0m\n\u001b[0;32m      3\u001b[0m \u001b[0mget_ipython\u001b[0m\u001b[1;33m(\u001b[0m\u001b[1;33m)\u001b[0m\u001b[1;33m.\u001b[0m\u001b[0mrun_line_magic\u001b[0m\u001b[1;33m(\u001b[0m\u001b[1;34m'pinfo'\u001b[0m\u001b[1;33m,\u001b[0m \u001b[1;34m'code'\u001b[0m\u001b[1;33m)\u001b[0m\u001b[1;33m\u001b[0m\u001b[1;33m\u001b[0m\u001b[0m\n\u001b[0;32m      4\u001b[0m \u001b[1;33m\u001b[0m\u001b[0m\n",
      "\u001b[1;31mNameError\u001b[0m: name 'Keys' is not defined"
     ]
    }
   ],
   "source": [
    "Keys\n",
    "\n",
    "What will be the output of the following code?\n",
    "\n"
   ]
  },
  {
   "cell_type": "code",
   "execution_count": 22,
   "metadata": {},
   "outputs": [
    {
     "name": "stdout",
     "output_type": "stream",
     "text": [
      "dict_keys(['a', 'b', 'c', 'd'])\n"
     ]
    }
   ],
   "source": [
    "d={'a':64, 'b':65, 'c':66, 'd':67}\n",
    "print(d.keys())\n"
   ]
  },
  {
   "cell_type": "code",
   "execution_count": 23,
   "metadata": {},
   "outputs": [
    {
     "ename": "SyntaxError",
     "evalue": "invalid syntax (<ipython-input-23-c170cbb2161a>, line 3)",
     "output_type": "error",
     "traceback": [
      "\u001b[1;36m  File \u001b[1;32m\"<ipython-input-23-c170cbb2161a>\"\u001b[1;36m, line \u001b[1;32m3\u001b[0m\n\u001b[1;33m    Dictionary can be seen as a map between two entities called keys and values.\u001b[0m\n\u001b[1;37m               ^\u001b[0m\n\u001b[1;31mSyntaxError\u001b[0m\u001b[1;31m:\u001b[0m invalid syntax\n"
     ]
    }
   ],
   "source": [
    "Values?\n",
    "\n",
    "Dictionary can be seen as a map between two entities called keys and values.\n",
    "All the keys in the list can be accessed by d.keys() where d is the dictionary. \n",
    "How are values accessed in the dictionary?\n",
    "\n",
    "Assume name of the dictionary is d.\n",
    "\n",
    "\n"
   ]
  },
  {
   "cell_type": "code",
   "execution_count": 32,
   "metadata": {},
   "outputs": [
    {
     "data": {
      "text/plain": [
       "dict_values([64, 65, 66, 67])"
      ]
     },
     "execution_count": 32,
     "metadata": {},
     "output_type": "execute_result"
    }
   ],
   "source": [
    "d={'a':64, 'b':65, 'c':66, 'd':67}\n",
    "\n",
    "#d.vals#AttributeError: 'dict' object has no attribute 'vals'\n",
    "\n",
    "#d.vals()#AttributeError: 'dict' object has no attribute 'vals'\n",
    "\n",
    "#d.value()#AttributeError: 'dict' object has no attribute 'value'\n",
    "\n",
    "d.values()#dict_values([64, 65, 66, 67])\n",
    "\n",
    "#d.values#<function dict.values>"
   ]
  },
  {
   "cell_type": "code",
   "execution_count": 33,
   "metadata": {},
   "outputs": [
    {
     "ename": "SyntaxError",
     "evalue": "invalid syntax (<ipython-input-33-a4a8ee6e492e>, line 1)",
     "output_type": "error",
     "traceback": [
      "\u001b[1;36m  File \u001b[1;32m\"<ipython-input-33-a4a8ee6e492e>\"\u001b[1;36m, line \u001b[1;32m1\u001b[0m\n\u001b[1;33m    Deleting Key\u001b[0m\n\u001b[1;37m             ^\u001b[0m\n\u001b[1;31mSyntaxError\u001b[0m\u001b[1;31m:\u001b[0m invalid syntax\n"
     ]
    }
   ],
   "source": [
    "Deleting Key\n",
    "What command should be used to delete the entry?\n",
    "\n"
   ]
  },
  {
   "cell_type": "code",
   "execution_count": 47,
   "metadata": {},
   "outputs": [
    {
     "name": "stdout",
     "output_type": "stream",
     "text": [
      "{'Python': 40, 'R': 45}\n",
      "{'Python': 40}\n"
     ]
    }
   ],
   "source": [
    "dict_1 = {\"Python\":40, \"R\":45}\n",
    "print(dict_1)\n",
    "#dict_1.delete('R':45)#SyntaxError: invalid syntax\n",
    "#print(dict_1)\n",
    "\n",
    "del dict_1['R']#KeyError: 'R'\n",
    "print(dict_1)\n",
    "\n",
    "#dict_1.delete('R')#AttributeError: 'dict' object has no attribute 'delete'\n",
    "#print(dict_1)\n",
    "\n",
    "#del dict_1('R':40)#SyntaxError: invalid syntax\n",
    "#print(dict_1)\n",
    "\n"
   ]
  },
  {
   "cell_type": "markdown",
   "metadata": {},
   "source": [
    "Remove Duplicates\n",
    "Description\n",
    "Sometimes the data has few duplicate values which will affect the analysis done. In this problem, you will be given a list. You have to find and delete the duplicates and print the updated list with no duplicates.\n",
    "\n",
    "----------------------------------------------------------------------\n",
    "Input:\n",
    "A list of integers.\n",
    "\n",
    "Output:\n",
    "A list of integers, with duplicates removed if any.\n",
    "\n",
    "----------------------------------------------------------------------\n",
    "Sample input:\n",
    "[8, 9, 2, 2, 3, 4, 5, 2]\n",
    "\n",
    "Sample output:\n",
    "[8, 9, 2, 3, 4, 5]\n",
    "\n",
    "----------------------------------------------------------------------\n",
    "Sample input:\n",
    "[4, 4, 4, 4]\n",
    "\n",
    "Sample output:\n",
    "[4]\n",
    "\n",
    "----------------------------------------------------------------------\n",
    "Note the order of the data did not change in input and output."
   ]
  },
  {
   "cell_type": "code",
   "execution_count": 7,
   "metadata": {},
   "outputs": [
    {
     "name": "stdout",
     "output_type": "stream",
     "text": [
      "[8, 9, 2, 2, 3, 4, 5, 2]\n",
      "[8, 9, 2, 3, 4, 5]\n"
     ]
    }
   ],
   "source": [
    "import ast\n",
    "from collections import OrderedDict\n",
    "mylist = ast.literal_eval(input())\n",
    "\n",
    "d = OrderedDict.fromkeys(mylist)\n",
    "keylist = list(d.keys())\n",
    "print(keylist)"
   ]
  },
  {
   "cell_type": "raw",
   "metadata": {},
   "source": [
    "Dictionary And List\n",
    "Description\n",
    "You will be converting a dictionary, of string(keys) and list of string (values),  to a list of strings. Please check the sample input/output for clarification.\n",
    "\n",
    "\n",
    "Input:\n",
    "A dictionary with keys as strings and values as a list of strings.\n",
    "\n",
    "Output:\n",
    "A list of strings\n",
    "\n",
    "\n",
    "Sample input:\n",
    "{‘Mobile’: [‘Redmi’, ‘Samsung’, ‘Realme’], \n",
    "‘Laptop’: [‘Dell’, ‘HP’],\n",
    "‘TV’: [‘Videocon’, ‘Sony’] }\n",
    "\n",
    "Sample output:\n",
    "[‘Mobile_Redmi’, ‘Mobile_Samsung’, ‘Mobile_Realme’, ‘Laptop_Dell’, ‘Laptop_HP’, ‘TV_Videocon’, ‘TV_Sony’]\n",
    "\n",
    "\n",
    "Sample input:\n",
    "{ 'Pen': ['Gel', 'Ink', 'ball'],\n",
    "'Mobile': ['Android', 'apple'] }\n",
    "\n",
    "Sample output:\n",
    "['Pen_Gel', 'Pen_Ink', 'Pen_ball', 'Mobile_Android', 'Mobile_apple']"
   ]
  },
  {
   "cell_type": "code",
   "execution_count": 14,
   "metadata": {},
   "outputs": [
    {
     "name": "stdout",
     "output_type": "stream",
     "text": [
      "['Mobile_Redmi', 'Mobile_Samsung', 'Mobile_Realme', 'Laptop_Dell', 'Laptop_HP', 'TV_Videocon', 'TV_Sony']\n"
     ]
    }
   ],
   "source": [
    "#input has been taken for you\n",
    "import ast\n",
    "#input_str = input()\n",
    "#input dictionary has been received in input_dict\n",
    "#input_dict = ast.literal_eval(input_str)\n",
    "input_dict={'Mobile': ['Redmi', 'Samsung', 'Realme'], \n",
    "'Laptop': ['Dell', 'HP'],\n",
    "'TV': ['Videocon', 'Sony'] }\n",
    "\n",
    "outlist = []\n",
    "#start writing your code here\n",
    "for product in input_dict:\n",
    "    brandlist = input_dict.get(product)\n",
    "    for brand in brandlist:\n",
    "        outlist.append(product+\"_\"+brand)\n",
    "\n",
    "print(outlist)\n"
   ]
  },
  {
   "cell_type": "raw",
   "metadata": {},
   "source": [
    "upGrad String\n",
    "Description\n",
    "For the purpose of this question, we will define something called an upGrad string. Note that this definition is not valid outside this question. A string upGrad string if the frequency of its characters is something like 1, 2, 3, 4, .... That is a character appears only once, another appears twice, another appears thrice and so on. For example string '$yrr$ssrsr' is a beautiful string since the frequency of y:1, $:2, s:3, r:4, however string '$yrr$ssrsr%' will not be beautiful since it has two characters (y and %) with frequency 1. The frequency of characters should be of form 1, 2, 3, 4, 5... only.\n",
    "Given a string, can you determine if the string is upGrad string or no?\n",
    "\n",
    "\n",
    "Input:\n",
    "A string\n",
    "\n",
    "Output:\n",
    "Boolean depending whether the string is upGrad string or not\n",
    "\n",
    "\n",
    "Sample input:\n",
    "$yrr$ssrsr\n",
    "\n",
    "Sample output:\n",
    "True\n",
    "\n",
    "\n",
    "Sample input:\n",
    "$yrr$ssrsr%\n",
    "\n",
    "Sample output:\n",
    "False\n",
    "\n",
    "Sample input:\n",
    "ab#ab#aba\n",
    "\n",
    "Sample output:\n",
    "False\n",
    "\n",
    "Sample input:\n",
    "ab#ab#ab6a\n",
    "\n",
    "Sample output:\n",
    "True\n",
    "Execution time limit"
   ]
  },
  {
   "cell_type": "code",
   "execution_count": 25,
   "metadata": {},
   "outputs": [
    {
     "name": "stdout",
     "output_type": "stream",
     "text": [
      "True\n",
      "False\n",
      "False\n",
      "True\n"
     ]
    }
   ],
   "source": [
    "#input has been taken for you\n",
    "#s=input()\n",
    "\n",
    "\n",
    "#start writing your code to check if s is upgrad string or no\n",
    "\n",
    "def is_upgrad_string(string): \n",
    "    d={}\n",
    "    for i in string:\n",
    "        if i not in d.keys():\n",
    "            d[i]=1\n",
    "        else:\n",
    "            d[i] += 1\n",
    "    #print(d)\n",
    "    \n",
    "    vallist=list(d.values())\n",
    "    n = len(vallist)\n",
    "    for i in range (1, n+1):\n",
    "        if i not in vallist:\n",
    "            return False\n",
    "#         cntlist = [i for x in vallist]\n",
    "#         if(len(cntlist) > 1):\n",
    "#             return False\n",
    "    return True\n",
    "\n",
    "print(is_upgrad_string(s))\n",
    "\n",
    "print(is_upgrad_string(\"$yrr$ssrsr\"))#T\n",
    "print(is_upgrad_string(\"$yrr$ssrsr%\"))#F\n",
    "print(is_upgrad_string(\"ab#ab#aba\"))#F\n",
    "print(is_upgrad_string(\"ab#ab#ab6a\"))#T\n",
    "\n",
    "\n",
    "\n",
    "\n",
    "#$yrr$ssrsr\n",
    "\n"
   ]
  },
  {
   "cell_type": "raw",
   "metadata": {},
   "source": [
    "Balanced Brackets\n",
    "Description\n",
    "You will be given a string with a lot of brackets. You have to print if the brackets are balanced or not. Remember, there are three types of brackets: ‘( )’,  ‘{ }’ and ‘[ ]’.\n",
    "\n",
    "----------------------------------------------------------------------\n",
    "Input:\n",
    "A string\n",
    "\n",
    "Output:\n",
    "Yes, if the brackets are balanced.\n",
    "No otherwise.\n",
    "\n",
    "----------------------------------------------------------------------\n",
    "Sample input:\n",
    "){[[]]}())()\n",
    "\n",
    "Sample output:\n",
    "\n",
    "No\n",
    "\n",
    "\n",
    "----------------------------------------------------------------------\n",
    "Sample input 2:\n",
    "[](){[]()(){}}\n",
    "\n",
    "Sample output 2:\n",
    "\n",
    "Yes\n",
    "\n",
    "Execution time limit"
   ]
  },
  {
   "cell_type": "code",
   "execution_count": 51,
   "metadata": {},
   "outputs": [
    {
     "name": "stdout",
     "output_type": "stream",
     "text": [
      "Yes\n"
     ]
    }
   ],
   "source": [
    "#s=input()\n",
    "#s=\"){[[]]}())()\"\n",
    "s=\"[](){[]()(){}}\"\n",
    "\n",
    "def bracket_match(string):\n",
    "    d={\"]\":\"[\",\"}\":\"{\",\")\":\"(\"}\n",
    "\n",
    "    mystack = []\n",
    "    for i in string:\n",
    "        if i == '[' or i == '{' or i == '(':\n",
    "            mystack.append(i)\n",
    "        elif i == ']' or i == '}' or i == ')':\n",
    "            if len(mystack) <= 0:\n",
    "                return \"No\"\n",
    "            else:\n",
    "                tos = mystack.pop()\n",
    "                c = d.get(i)\n",
    "                if tos != c:\n",
    "                    return \"No\"\n",
    "        else:\n",
    "            pass\n",
    "\n",
    "\n",
    "    if len(mystack) == 0:\n",
    "        return \"Yes\"\n",
    "    else:\n",
    "        return \"No\"\n",
    "\n",
    "print(bracket_match(s))\n"
   ]
  },
  {
   "cell_type": "raw",
   "metadata": {},
   "source": [
    "Cheapest Item\n",
    "Description\n",
    "You will be given a dictionary with keys as items and values as their prices. You have to print the cheapest item. \n",
    "\n",
    "----------------------------------------------------------------------\n",
    "Sample input:\n",
    "A single line non-empty dictionary\n",
    "\n",
    "Sample output:\n",
    "cheapest_item name: cheapest_item_cost\n",
    "\n",
    "----------------------------------------------------------------------\n",
    "Sample input:\n",
    "{'mobile1':10000, 'mobile2':11000, 'mobile3':13000, 'mobile4':9000, 'mobile5':15000, 'mobile6':16000, 'mobile7':17000, 'mobile8':18000, 'mobile9':19000}\n",
    "\n",
    "Sample output:\n",
    "mobile4: 9000\n",
    "\n",
    "Note: in case of a tie, whichever item came first should be the output."
   ]
  },
  {
   "cell_type": "code",
   "execution_count": 58,
   "metadata": {},
   "outputs": [
    {
     "name": "stdout",
     "output_type": "stream",
     "text": [
      "mobile4: 9000\n"
     ]
    }
   ],
   "source": [
    "import ast\n",
    "\n",
    "#mydict = ast.literal_eval(input())\n",
    "mydict = {'mobile1':10000, 'mobile2':11000, 'mobile3':13000, 'mobile4':9000, 'mobile5':15000, 'mobile6':16000, 'mobile7':17000, 'mobile8':18000, 'mobile9':19000}\n",
    "def cheapest_mobile(mobiledic):\n",
    "    pricelist = list(mobiledic.values())\n",
    "    cheapest = min(pricelist)\n",
    "\n",
    "    for mobile,price in mobiledic.items():\n",
    "        if price == cheapest:\n",
    "            return mobile + \": \" + str(price)\n",
    "print(cheapest_mobile(mydict))"
   ]
  },
  {
   "cell_type": "raw",
   "metadata": {},
   "source": [
    "Maximum Distance\n",
    "Description\n",
    "You will be given a list of repeated elements. You have to find the maximum distance between two same elements. The answer will be zero if there are no repeated elements.\n",
    "\n",
    "----------------------------------------------------------------------\n",
    "Input:\n",
    "A non-empty list of integers.\n",
    "\n",
    "Output:\n",
    "A single integer denoting the maximum distance between two same integers.\n",
    "\n",
    "----------------------------------------------------------------------\n",
    "Sample input:\n",
    "[1, 2, 3, 2, 5, 1, 2, 4, 6, 2, 7, 8, 6]\n",
    "\n",
    "Sample output:\n",
    "8\n",
    "\n",
    "Explanation:\n",
    "Max distance for 1: 5\n",
    "Max distance for 2: 8\n",
    "Max distance for 3: 0\n",
    "Max distance for 4: 0\n",
    "Max distance for 5: 0\n",
    "Max distance for 6: 4\n",
    "Max distance for 7: 0\n",
    "Max distance for 8: 0"
   ]
  },
  {
   "cell_type": "code",
   "execution_count": 67,
   "metadata": {},
   "outputs": [
    {
     "name": "stdout",
     "output_type": "stream",
     "text": [
      "8\n"
     ]
    }
   ],
   "source": [
    "import ast\n",
    "mylist = ast.literal_eval(input())\n",
    "#mylist=[1, 2, 3, 2, 5, 1, 2, 4, 6, 2, 7, 8, 6]\n",
    "\n",
    "\n",
    "def get_max_distance(mylist):\n",
    "    d={}\n",
    "    \n",
    "    #create dict {no:indexlist} \n",
    "    index = 1    \n",
    "    for i in mylist:\n",
    "        if i in d:\n",
    "            indexlist = d.get(i) \n",
    "            indexlist.append(index)\n",
    "        else:\n",
    "            indexlist=[index]\n",
    "            d[i]=indexlist\n",
    "        #print(d)\n",
    "        index += 1\n",
    "        #print(d)\n",
    "\n",
    "    #create new dict {no:maxindex-minindex} \n",
    "    distances={}\n",
    "    for i,indexlist in d.items():\n",
    "        distances[i] = max(indexlist)-min(indexlist)\n",
    "    #print(distances)\n",
    "\n",
    "    #now return max dist from the distances\n",
    "    distancelist = distances.values()\n",
    "    return max(distancelist)\n",
    "\n",
    "print(get_max_distance(mylist))\n",
    "\n",
    "    "
   ]
  },
  {
   "cell_type": "raw",
   "metadata": {},
   "source": [
    "Vote for Food\n",
    "Description\n",
    "Your team is going for camping and you are taking a vote to decide what food to pack for dinner.\n",
    "Everyone gets a vote and the food item that gets at least one more than half of the votes wins. None of the items wins if nothing gets at least one more than half votes. Assume that every person gets only one vote.\n",
    "The input will contain a list of food items where each occurrence of an item represents one vote. You should print the winning food item as output. If there is no clear winner, print \"NOTA\". \n",
    "\n",
    "Sample Input:\n",
    "[\"pasta\",\"pasta\",\"pasta\",\"pasta\",\"pasta\",\"paratha\",\"paratha\",\"paratha\"]\n",
    "Sample Output:\n",
    "pasta\n",
    "\n",
    "This question was asked in a Data Analyst interview.\n",
    "Execution time limit"
   ]
  },
  {
   "cell_type": "code",
   "execution_count": 80,
   "metadata": {},
   "outputs": [
    {
     "name": "stdout",
     "output_type": "stream",
     "text": [
      "paratha\n"
     ]
    }
   ],
   "source": [
    "import ast,sys\n",
    "#input_str = sys.stdin.read()\n",
    "#votes = ast.literal_eval(input_str)\n",
    "votes=[\"pasta\",\"pasta\",\"pasta\",\"pasta\",\"pasta\",\"paratha\",\"paratha\",\"paratha\"]\n",
    "votes=[\"pasta\",\"pasta\",\"pasta\",\"paratha\",\"paratha\",\"paratha\"]\n",
    "votes=[\"pasta\",\"pasta\",\"paratha\",\"paratha\",\"paratha\"]\n",
    "\n",
    "def get_votes(votes):\n",
    "    half_votes=len(votes)//2\n",
    "\n",
    "    #use the get(i,0) to initialize the val to 0\n",
    "    cntdict={}\n",
    "    for i in votes:\n",
    "          cntdict[i] = cntdict.get(i, 0) + 1\n",
    "            \n",
    "    winner=\"NOTA\"\n",
    "    for key,val in cntdict.items():\n",
    "        if val > half_votes :\n",
    "            winner = key\n",
    "    return winner      \n",
    "print(get_votes(votes))"
   ]
  },
  {
   "cell_type": "raw",
   "metadata": {},
   "source": [
    "Flatten a dictionary\n",
    "Description\n",
    "\n",
    "Consider a nested dictionary as follows:\n",
    "\n",
    "{'Fruit': 1, 'Vegetable': {'Cabbage': 2, 'Cauliflower': 3}, 'Spices': 4}\n",
    "\n",
    "Your task is to flatten a nested dictionary and join the nested keys with the \"_\" character. For the above dictionary, the flattened dictionary would be as follows:\n",
    "\n",
    "{'Fruit': 1, 'Vegetable_Cabbage': 2, 'Vegetable_Cauliflower': 3, 'Spices': 4}\n",
    "\n",
    "\n",
    "The input will have a nested dictionary.\n",
    "\n",
    "The output should have two lists. The first list will have keys and the second list should have values. Both lists should be sorted.\n",
    "\n",
    "Sample Input:\n",
    "\n",
    "{'Fruit': 1, 'Vegetable': {'Cabbage': 2, 'Cauliflower': 3}, 'Spices': 4}\n",
    "\n",
    "Sample Output:\n",
    "\n",
    "['Fruit', 'Spices', 'Vegetable_Cabbage', 'Vegetable_Cauliflower']\n",
    "[1, 2, 3, 4]\n",
    "\n",
    "\n",
    "\n",
    "You will find the inbuilt function isinstance() of python quite useful here. Read more about it here.\n"
   ]
  },
  {
   "cell_type": "code",
   "execution_count": 88,
   "metadata": {},
   "outputs": [
    {
     "name": "stdout",
     "output_type": "stream",
     "text": [
      "['Fruit', 'Spices', 'Vegetable_Cabbage', 'Vegetable_Cauliflower']\n",
      "[1, 2, 3, 4]\n"
     ]
    }
   ],
   "source": [
    "#import ast,sys\n",
    "#input_str = sys.stdin.read()\n",
    "#input_dict = dict(ast.literal_eval(input_str))\n",
    "input_dict = {'Fruit': 1, 'Vegetable': {'Cabbage': 2, 'Cauliflower': 3}, 'Spices': 4}\n",
    "\n",
    "def flatten_dict(dd, separator='_', prefix=''):\n",
    "    #complete this function\n",
    "    d={}    \n",
    "    for key, value in dd.items():\n",
    "        if isinstance(value, dict):\n",
    "            for innerkey, innerval in value.items():\n",
    "                d[key+\"_\"+innerkey] = innerval\n",
    "        else:\n",
    "            d[key]=value\n",
    "    #print(d)\n",
    "    return d\n",
    "out1=list(flatten_dict(input_dict).keys())\n",
    "out2=list(flatten_dict(input_dict).values())\n",
    "out1.sort()\n",
    "out2.sort()\n",
    "print(out1)\n",
    "print(out2)\n"
   ]
  },
  {
   "cell_type": "code",
   "execution_count": null,
   "metadata": {},
   "outputs": [],
   "source": []
  }
 ],
 "metadata": {
  "kernelspec": {
   "display_name": "Python 3",
   "language": "python",
   "name": "python3"
  },
  "language_info": {
   "codemirror_mode": {
    "name": "ipython",
    "version": 3
   },
   "file_extension": ".py",
   "mimetype": "text/x-python",
   "name": "python",
   "nbconvert_exporter": "python",
   "pygments_lexer": "ipython3",
   "version": "3.8.2"
  }
 },
 "nbformat": 4,
 "nbformat_minor": 4
}
