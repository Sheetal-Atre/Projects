{
 "cells": [
  {
   "cell_type": "code",
   "execution_count": 1,
   "metadata": {},
   "outputs": [
    {
     "name": "stdout",
     "output_type": "stream",
     "text": [
      "64\n"
     ]
    }
   ],
   "source": [
    "p = 4**3\n",
    "print(p)"
   ]
  },
  {
   "cell_type": "code",
   "execution_count": 3,
   "metadata": {},
   "outputs": [
    {
     "name": "stdout",
     "output_type": "stream",
     "text": [
      "1\n"
     ]
    }
   ],
   "source": [
    "a = 21 % 4\n",
    "print(a)"
   ]
  },
  {
   "cell_type": "code",
   "execution_count": 4,
   "metadata": {},
   "outputs": [
    {
     "name": "stdout",
     "output_type": "stream",
     "text": [
      "4\n"
     ]
    }
   ],
   "source": [
    "d = 23//5\n",
    "print(d)"
   ]
  },
  {
   "cell_type": "code",
   "execution_count": 8,
   "metadata": {},
   "outputs": [
    {
     "name": "stdout",
     "output_type": "stream",
     "text": [
      "True\n",
      "True\n",
      "True\n"
     ]
    }
   ],
   "source": [
    "#Which of the following will give a syntax error?\n",
    "\n",
    "#if (1):\n",
    "#print (True)\n",
    "\n",
    "if (1):\n",
    "\n",
    "    print (True)\n",
    "\n",
    "#if (1) print(True)\n",
    "\n",
    "if (-1):\n",
    "\n",
    "    print('True')\n",
    "\n",
    "if (1):\n",
    "\n",
    "    print ('True')\n",
    "\n",
    "#if (1)\n",
    "\n",
    "#    print (True)\n"
   ]
  },
  {
   "cell_type": "code",
   "execution_count": 9,
   "metadata": {},
   "outputs": [
    {
     "name": "stdout",
     "output_type": "stream",
     "text": [
      "0\n",
      "1\n",
      "2\n"
     ]
    }
   ],
   "source": [
    "for i in range(3):\n",
    "    print(i)"
   ]
  },
  {
   "cell_type": "code",
   "execution_count": 10,
   "metadata": {},
   "outputs": [
    {
     "name": "stdout",
     "output_type": "stream",
     "text": [
      "1\n",
      "11 12 13 \n",
      "14\n",
      "2\n",
      "36\n",
      "14\n",
      "3\n",
      "11 12 13\n",
      "14\n",
      "4\n",
      "11 12 13\n",
      "14\n",
      "5\n",
      "11 12 13\n",
      "14\n",
      "6\n",
      "111213\n",
      "14\n"
     ]
    }
   ],
   "source": [
    "#Which of the following will give output as:\n",
    "#11 12 13\n",
    "#14\n",
    " \n",
    "\n",
    "print(\"1\")\n",
    "print('11 12 13 \\n14')\n",
    "\n",
    "a=11\n",
    "\n",
    "b=12\n",
    "\n",
    "c=13 \n",
    "\n",
    "d=14\n",
    "\n",
    "print(\"2\")\n",
    "print(a+b+c)\n",
    "print(d)\n",
    "\n",
    "a=11\n",
    "\n",
    "b=12\n",
    "\n",
    "c=13 \n",
    "\n",
    "d=14\n",
    "\n",
    "print(\"3\")\n",
    "print(a,b,c)\n",
    "print(d)\n",
    "\n",
    "a=11\n",
    "\n",
    "b=12\n",
    "\n",
    "c=13 \n",
    "\n",
    "d=14\n",
    "\n",
    "print(\"4\")\n",
    "print('{0} {1} {2}'.format(a,b,c) )\n",
    "\n",
    "print(d)\n",
    "\n",
    "a=11\n",
    "\n",
    "b=12\n",
    "\n",
    "c=13 \n",
    "\n",
    "d=14\n",
    "\n",
    "print(\"5\")\n",
    "print('%d %d %d' %(a,b,c))\n",
    "\n",
    "print(d)\n",
    "\n",
    "a=11\n",
    "\n",
    "b=12\n",
    "\n",
    "c=13 \n",
    "\n",
    "d=14\n",
    "print(\"6\")\n",
    "\n",
    "print(f'{a}{b}{c}')\n",
    "\n",
    "print(d)\n"
   ]
  },
  {
   "cell_type": "code",
   "execution_count": 155,
   "metadata": {},
   "outputs": [
    {
     "name": "stdout",
     "output_type": "stream",
     "text": [
      "shahrukh_khan@linkedin and salman_khan@linkedin have 1 - mutual connections\n",
      "----------------\n",
      "Mutual Connections: \n",
      "karan johar@linkedin\n",
      "----------------\n",
      "----------------\n",
      "\n",
      "\n",
      "\n",
      "\n",
      "karan_johar@linkedin and salman_khan@linkedin have 0 - mutual connections\n",
      "----------------\n",
      "Mutual Connections: \n",
      "----------------\n",
      "----------------\n",
      "\n",
      "\n",
      "\n",
      "\n",
      "shahrukh_khan@linkedin and karan_johar@linkedin have 1 - mutual connections\n",
      "----------------\n",
      "Mutual Connections: \n",
      "amir khan@linkedin\n",
      "----------------\n",
      "----------------\n",
      "\n",
      "\n",
      "\n",
      "\n",
      "amir_khan@linkedin and karan_johar@linkedin have 0 - mutual connections\n",
      "----------------\n",
      "Mutual Connections: \n",
      "----------------\n",
      "----------------\n",
      "\n",
      "\n",
      "\n",
      "\n"
     ]
    }
   ],
   "source": [
    "#program finds how closely or loosely connected a person is\n",
    "\n",
    "#key- unique id derived from URL, if URL is karan_johar@linkedin then key = karan_johar\n",
    "#value -set of all friend connections \n",
    "friends_database = dict(\n",
    "    karan_johar=set(['salman khan@linkedin', 'amir khan@linkedin']),\n",
    "    salman_khan = set(['karan johar@linkedin']),\n",
    "    shahrukh_khan = set(['karan johar@linkedin', 'amir khan@linkedin']),\n",
    "    amir_khan= set([]))\n",
    " \n",
    "#prints count and list of mutual connections on console \n",
    "#mutual_friend_dict: map of key - value pairs which are to be printed \n",
    "def show(mutual_friend_dict):\n",
    "    heading = str(mutual_friend_dict.get('friend1'))\n",
    "    heading += \" and \"+ str(mutual_friend_dict.get('friend2'))\n",
    "    heading += \" have \"+str(mutual_friend_dict.get('count'))+\" - mutual connections\" \n",
    "    print(heading)\n",
    "    print(\"----------------\")\n",
    "    print(\"Mutual Connections: \")  \n",
    "    friends= list(set(mutual_friend_dict.get('connections')))\n",
    "    for friend in friends:\n",
    "        print(friend)\n",
    "    print(\"----------------\")\n",
    "    print(\"----------------\\n\\n\\n\\n\")\n",
    "\n",
    "#find list of \n",
    "def find_mutual_connections(person1_url, person2_url):   \n",
    "    #get the user name from URL when person logs in     \n",
    "    person1_id = person1_url.split('@')[0]\n",
    "    person2_id = person2_url.split('@')[0]\n",
    "\n",
    "    #find the set of friends for the person from the db\n",
    "    person1_friends=friends_database.get(person1_id)    \n",
    "    person2_friends=friends_database.get(person2_id)\n",
    "    \n",
    "    #find the common friends, and count in both sets\n",
    "    mutual_connections = set(person1_friends).intersection(person2_friends)\n",
    "    mutual_connection_count = len(mutual_connections)\n",
    "    \n",
    "    #return result\n",
    "    return dict(friend1=person1_url,\n",
    "                friend2=person2_url,\n",
    "                count=mutual_connection_count,\n",
    "                connections=mutual_connections)\n",
    "\n",
    "#test function to find and print\n",
    "def test(url1, url2):\n",
    "    mutual_friend_dict = find_mutual_connections(url1, url2) \n",
    "    show(mutual_friend_dict)\n",
    "\n",
    "#run few sample tests\n",
    "test('shahrukh_khan@linkedin','salman_khan@linkedin')\n",
    "test('karan_johar@linkedin','salman_khan@linkedin')\n",
    "test('shahrukh_khan@linkedin','karan_johar@linkedin')\n",
    "test('amir_khan@linkedin','karan_johar@linkedin')"
   ]
  },
  {
   "cell_type": "code",
   "execution_count": 157,
   "metadata": {},
   "outputs": [
    {
     "name": "stdout",
     "output_type": "stream",
     "text": [
      "10,20\n",
      "x before swapping: 10\n",
      "y before swapping: 20\n",
      "x after swapping: 20\n",
      "y after swapping: 10\n"
     ]
    }
   ],
   "source": [
    "\n",
    "#input() takes input in form of the string\n",
    "in_string=input()\n",
    "\n",
    "#here extract the two numbers from the string\n",
    "x = int(in_string.split(\",\")[0])\n",
    "y = int(in_string.split(\",\")[1])\n",
    "\n",
    "\n",
    "#print x and y before swapping\n",
    "print('x before swapping: {0}'.format(x))\n",
    "print('y before swapping: {0}'.format(y))\n",
    "\n",
    "\n",
    "#Writing your swapping code here\n",
    "#use unpacking\n",
    "y,x = x,y\n",
    "\n",
    "\n",
    "#print x and y after swapping\n",
    "print('x after swapping: {0}'.format(x))\n",
    "print('y after swapping: {0}'.format(y))\n"
   ]
  },
  {
   "cell_type": "code",
   "execution_count": 187,
   "metadata": {},
   "outputs": [
    {
     "ename": "IndentationError",
     "evalue": "expected an indented block (<ipython-input-187-52c9cc5b2bd5>, line 3)",
     "output_type": "error",
     "traceback": [
      "\u001b[1;36m  File \u001b[1;32m\"<ipython-input-187-52c9cc5b2bd5>\"\u001b[1;36m, line \u001b[1;32m3\u001b[0m\n\u001b[1;33m    a = a+b\u001b[0m\n\u001b[1;37m    ^\u001b[0m\n\u001b[1;31mIndentationError\u001b[0m\u001b[1;31m:\u001b[0m expected an indented block\n"
     ]
    }
   ],
   "source": [
    "#Ref : other class opinions:\n",
    "def way1(a,b):\n",
    "a = a+b\n",
    "b=a-b\n",
    "a=a-b\n",
    "print(a,b)\n",
    "\n",
    "def way2(a,b):\n",
    "a = a-b\n",
    "b = a+b\n",
    "a = b-a\n",
    "print(a,b)\n",
    "\n",
    "def way3(a,b):\n",
    "a = a*b\n",
    "b=int(a/b)\n",
    "a=int(a/b)\n",
    "print(a,b)\n",
    "\n",
    "def way4(a,b):\n",
    "a = a/b\n",
    "b = a*b\n",
    "a = b/a\n",
    "print(a,b)\n",
    "\n",
    "#Ref : crash course python - session 1 and 2 by Chetri sir\n",
    "def way5(a,b):\n",
    "b,a=a,b\n",
    "\n",
    "#Ref : https://betterexplained.com/articles/swap-two-variables-using-xor/\n",
    "def way6(a,b):\n",
    "a = (a^b)\n",
    "b = (a^b)\n",
    "a = (a^b) "
   ]
  },
  {
   "cell_type": "markdown",
   "metadata": {},
   "source": [
    "Beautiful Pretty Sexy\n",
    "Description\n",
    "A number k is beautiful if it is of the form 3n+1, is pretty if it is of the form 3n+2 and is sexy if it is of form 3n.\n",
    "Given a number k, print if it is beautiful, pretty or sexy.\n",
    "\n",
    "Sample input:\n",
    "21\n",
    "\n",
    "Sample output:\n",
    "sexy\n",
    "\n",
    "Sample input:\n",
    "22\n",
    "\n",
    "Sample output:\n",
    "beautiful\n",
    "\n",
    "Sample input:\n",
    "23\n",
    "\n",
    "Sample output:\n",
    "pretty\n",
    "\n",
    "Execution time limit\n",
    "\n",
    "Default. \n"
   ]
  },
  {
   "cell_type": "code",
   "execution_count": 195,
   "metadata": {},
   "outputs": [],
   "source": []
  },
  {
   "cell_type": "code",
   "execution_count": 203,
   "metadata": {},
   "outputs": [
    {
     "name": "stdout",
     "output_type": "stream",
     "text": [
      "23\n",
      "pretty\n"
     ]
    }
   ],
   "source": [
    "\n",
    "k=int(input())\n",
    "#no=21\n",
    "#3*k+1 = no \n",
    "\n",
    "if (k - 1)%3  == 0:\n",
    "    print(\"beautiful\")\n",
    "elif(k -2)%3 == 0:\n",
    "    print(\"pretty\")\n",
    "elif(k%3) ==0.0 :\n",
    "    print(\"sexy\")\n",
    "else:\n",
    "    print(k/3)\n"
   ]
  },
  {
   "cell_type": "code",
   "execution_count": 214,
   "metadata": {},
   "outputs": [
    {
     "name": "stdout",
     "output_type": "stream",
     "text": [
      "10:00\n",
      "10:00\n"
     ]
    }
   ],
   "source": [
    "#Take input here\n",
    "#we will take input using ast sys\n",
    "import ast\n",
    "#input_str = input()\n",
    "\n",
    "#ast.literal_eval() will evaluate the string and make a data structure for the same\n",
    "#here the input is a list since input is in '[...]', so ast.literal_eval() will\n",
    "#make a list with the same data as passed\n",
    "#input_list = ast.literal_eval(input_str)\n",
    "\n",
    "input_list=[7,True]\n",
    "input_list=[3,True]\n",
    "\n",
    "#the data or the two values in list is now changed to separate variables\n",
    "day_of_the_week = input_list[0] #first element is an integer denoting the day of the week\n",
    "is_on_vacation = input_list[1] #this is a boolean denoting if its vacation or not\n",
    "\n",
    "# write your code here\n",
    "def alarm_time(day_of_the_week, is_on_vacation):\n",
    "    weekends=[6,7]\n",
    "    if is_on_vacation == True:\n",
    "        #While on a vacation, \n",
    "        #it should ring at \"10:00\" on weekdays. \n",
    "        # not ring on weekends, that is, it should return \"off\".\n",
    "        if day_of_the_week in weekends:\n",
    "            return 'off'\n",
    "        else:\n",
    "            return '10:00'\n",
    "    else:\n",
    "        #When not on a vacation, \n",
    "        #when on weekdays, the alarm should ring at \"7:00\" \n",
    "        #and on the weekends (Saturday and Sunday) it should ring at \"10:00\". \n",
    "        if day_of_the_week in weekends:\n",
    "            return '10:00'\n",
    "        else:\n",
    "            return '7:00'\n",
    "            \n",
    "print(alarm_time(day_of_the_week, is_on_vacation))\n",
    "\n",
    "print(alarm_time(day_of_the_week,is_on_vacation))\n"
   ]
  },
  {
   "cell_type": "markdown",
   "metadata": {},
   "source": [
    "Factorial\n",
    "Description\n",
    "Factorial is a mathematical function denoted by '!'. It is defined as\n",
    "\n",
    "n factorial = n!= 1*2*3...*(n-1)*n\n",
    "\n",
    "In this question, you have to make a function that will take an integer as input, and return the factorial of that integer if that integer is greater than or equal to zero and return -1 if the number is less than zero or negative.\n",
    "\n",
    "Note: the function doesn't return print the factorial but returns it.\n",
    "----------------------------------------------------------------------\n",
    "Input:\n",
    "An integer n\n",
    "\n",
    "Output:\n",
    "The function returns n! if n is greater than or equal to 0.\n",
    "0! = 1\n",
    "and the function returns -1 if the number is less than 0.\n",
    "\n",
    "----------------------------------------------------------------------\n",
    "Sample input:\n",
    "3\n",
    "\n",
    "Sample output:\n",
    "6\n",
    "\n",
    "----------------------------------------------------------------------\n",
    "Sample input:\n",
    "-4\n",
    "\n",
    "Sample output:\n",
    "-1"
   ]
  },
  {
   "cell_type": "code",
   "execution_count": 215,
   "metadata": {},
   "outputs": [
    {
     "name": "stdout",
     "output_type": "stream",
     "text": [
      "-4\n",
      "-1\n"
     ]
    }
   ],
   "source": [
    "#take the input here\n",
    "number=int(input())\n",
    "\n",
    "\n",
    "\n",
    "#the function definition starts here\n",
    "def factorial(n):\n",
    "    #write the funtion here that finds and RETURNS factorial of next\n",
    "    if n == 0: \n",
    "        return 1\n",
    "    elif n < 0:\n",
    "        return -1\n",
    "    fact = 1\n",
    "    for i in range (1,n+1):\n",
    "        fact *= i\n",
    "    return fact\n",
    "    \n",
    "\n",
    "\n",
    "#function definition ends here\n",
    "\n",
    "#do not alter the code typed below\n",
    "k=factorial(number)\n",
    "print(k)"
   ]
  },
  {
   "cell_type": "markdown",
   "metadata": {},
   "source": [
    "Reverse The Digits\n",
    "Description\n",
    "You will be given a number. You have to reverse the digits of the number and print it.\n",
    "\n",
    "----------------------------------------------------------------------\n",
    "Input:\n",
    "A positive integer greater than zero\n",
    "\n",
    "Output:\n",
    "The number in reverse order. Check sample outputs for more details.\n",
    "\n",
    "----------------------------------------------------------------------\n",
    "Sample input:\n",
    "345200\n",
    "\n",
    "Sample output:\n",
    "2543\n",
    "\n",
    "----------------------------------------------------------------------\n",
    "Sample input:\n",
    "6752343\n",
    "\n",
    "Sample output:\n",
    "3432576"
   ]
  },
  {
   "cell_type": "code",
   "execution_count": 236,
   "metadata": {},
   "outputs": [
    {
     "name": "stdout",
     "output_type": "stream",
     "text": [
      "3432576\n",
      "2543\n"
     ]
    }
   ],
   "source": [
    "def reverse_no(n):\n",
    "    digits=len(str(n))\n",
    "    \n",
    "    iter = 10**digits\n",
    "    val=0\n",
    "    while n > 0:\n",
    "        r=n%10\n",
    "        iter=iter/10\n",
    "        val += int(r*iter)\n",
    "        n = n//10\n",
    "    return val\n",
    "\n",
    "print(reverse_no(6752343))\n",
    "print(reverse_no(345200))"
   ]
  },
  {
   "cell_type": "markdown",
   "metadata": {},
   "source": [
    "How Many Chocolates?\n",
    "Description\n",
    "Sanjay loves chocolates. He goes to a shop to buy his favourite chocolate. There he notices there is an offer going on, upon bringing 3 wrappers of the same chocolate, you will get new chocolate for free. If Sanjay has m Rupees. How many chocolates will he be able to eat if each chocolate costs c Rupees?\n",
    "\n",
    "----------------------------------------------------------------------\n",
    "Input:\n",
    "Two positive integers m and c separated by a comma. The first integer is m and the second integer is c \n",
    "\n",
    "Output:\n",
    "A single integer denoting the number of chocolates Sanjay was able to eat in total.\n",
    "\n",
    "----------------------------------------------------------------------\n",
    "Sample input:\n",
    "15, 2\n",
    "\n",
    "Sample output:\n",
    "10\n",
    "\n",
    "Explanation:\n",
    "First, he will get 15/2=7 chocolates. He then will return 6 wrappers for 2 chocolates. And lastly, these two wrappers and the one he previously had will get him one more chocolate, making a total of 7+2+1=10 chocolates.\n",
    "\n",
    "----------------------------------------------------------------------\n",
    "Sample input:\n",
    "3,1\n",
    "\n",
    "Sample output:\n",
    "4\n",
    "\n",
    "Further we can solve it for r other than 3\n"
   ]
  },
  {
   "cell_type": "code",
   "execution_count": 273,
   "metadata": {},
   "outputs": [
    {
     "name": "stdout",
     "output_type": "stream",
     "text": [
      "3,1,3\n",
      "4\n"
     ]
    }
   ],
   "source": [
    "#take input here\n",
    "l = input().split(',')\n",
    "m=int(l[0])\n",
    "c=int(l[1])\n",
    "r=int(l[2])\n",
    "\n",
    "\n",
    "#start writing your code here\n",
    "def visit_shop(m, c, w, r):\n",
    "    chocos=0\n",
    "\n",
    "    #initially Sanjay buys chocolates with money \n",
    "    if m > c:\n",
    "        chocos = m//c \n",
    "        m = m%c\n",
    "        return m, chocos, 0\n",
    "\n",
    "    #he buys chocolates only with wrappers\n",
    "    if w //r > 0:\n",
    "        chocos = w//r\n",
    "        w = w%r\n",
    "        return m, chocos,w\n",
    "    \n",
    "    #no money, no chocolates, no wrappers\n",
    "    return m,0,0\n",
    "    \n",
    "def count_choco(money,cost_per_choco, exchg_wrappers):\n",
    "    total_chocos = 0\n",
    "    wrappers=0\n",
    "    is_visit_shop = True\n",
    "    \n",
    "    while is_visit_shop == True:\n",
    "        money,chocos,wrappers = visit_shop(money,cost_per_choco,wrappers,exchg_wrappers)#15//2 = 7\n",
    "        #print(m,chocos,w)\n",
    "        \n",
    "        #when Sanjay returns with 0 chocolates and 0 wrappers, stop going to shop for more\n",
    "        if chocos == 0 and wrappers == 0:\n",
    "            is_visit_shop = False\n",
    "            break \n",
    "            \n",
    "        #add total chocos Sanjay ate and add wrappers he collected\n",
    "        total_chocos += chocos\n",
    "        wrappers+=chocos\n",
    "    print(total_chocos) \n",
    "    \n",
    "#dont forget to print the number of chocolates Sanjay can eat\n",
    "count_choco(m,c,r)"
   ]
  },
  {
   "cell_type": "code",
   "execution_count": 276,
   "metadata": {},
   "outputs": [
    {
     "name": "stdout",
     "output_type": "stream",
     "text": [
      "32\n"
     ]
    }
   ],
   "source": [
    "print(m,end='')\n",
    "print(2)"
   ]
  },
  {
   "cell_type": "markdown",
   "metadata": {},
   "source": [
    "Print The Pattern\n",
    "Description\n",
    "Printing different patterns is a very good exercise to reinforce iteration through loops and strong logic building. Here you will be given a positive integer and you will generate pattern based on that integer.\n",
    "\n",
    "----------------------------------------------------------------------\n",
    "Input:\n",
    "A positive integer n\n",
    "1 <= n <=20\n",
    "\n",
    "Output:\n",
    "A pattern as described by the Sample input and outputs below.\n",
    "\n",
    "----------------------------------------------------------------------\n",
    "Sample input:\n",
    "5\n",
    "\n",
    "Sample output:\n",
    "\n",
    "    *\n",
    "   *_*\n",
    "  *_*_*\n",
    " *_*_*_*\n",
    "*_*_*_*_*\n",
    "\n",
    "\n",
    "----------------------------------------------------------------------\n",
    "Sample input:\n",
    "3\n",
    "\n",
    "Sample output:\n",
    "\n",
    "  *\n",
    " *_*\n",
    "*_*_*\n",
    "\n",
    "Execution time limit"
   ]
  },
  {
   "cell_type": "code",
   "execution_count": 279,
   "metadata": {},
   "outputs": [
    {
     "name": "stdout",
     "output_type": "stream",
     "text": [
      "5\n",
      "    *\n",
      "   *_*\n",
      "  *_*_*\n",
      " *_*_*_*\n",
      "*_*_*_*_*\n"
     ]
    }
   ],
   "source": [
    "n=int(input())\n",
    "\n",
    "for i in range(1,n+1):\n",
    "    for j in range(n-i):\n",
    "        print(' ',end='')\n",
    "    for k in range(1,i):\n",
    "        print('*_',end='')\n",
    "    print('*')"
   ]
  },
  {
   "cell_type": "code",
   "execution_count": 280,
   "metadata": {},
   "outputs": [
    {
     "ename": "SyntaxError",
     "evalue": "invalid syntax (<ipython-input-280-f98c40d25513>, line 1)",
     "output_type": "error",
     "traceback": [
      "\u001b[1;36m  File \u001b[1;32m\"<ipython-input-280-f98c40d25513>\"\u001b[1;36m, line \u001b[1;32m1\u001b[0m\n\u001b[1;33m    Alphabetic patterns\u001b[0m\n\u001b[1;37m               ^\u001b[0m\n\u001b[1;31mSyntaxError\u001b[0m\u001b[1;31m:\u001b[0m invalid syntax\n"
     ]
    }
   ],
   "source": [
    "Alphabetic patterns\n",
    "Description\n",
    "Given a positive integer 'n' less than or equal to 26, you are required to print the below pattern \n",
    " \n",
    "Sample Input: 5 \n",
    " \n",
    "Sample Output : \n",
    "--------e--------l1= 8-s[4]-8\n",
    "------e-d-e------ l2=6-s[4]-s[3]-s[4]-6\n",
    "----e-d-c-d-e---- l3=4-s[4]-s[3]-s[2]-s[3]-s[4]-4\n",
    "--e-d-c-b-c-d-e-- l4=2\n",
    "e-d-c-b-a-b-c-d-e l5=\n",
    "--e-d-c-b-c-d-e-- l6=\n",
    "----e-d-c-d-e---- l7\n",
    "------e-d-e------ l8\n",
    "--------e-------- l9\n",
    " \n",
    "Sample Input  : 3 \n",
    " \n",
    "Sample Output : \n",
    "----c---- l1=4\n",
    "--c-b-c-- l2=2\n",
    "c-b-a-b-c l3=0\n",
    "--c-b-c-- l4=2\n",
    "----c---- l5=4\n",
    "\n",
    "Please note that this question was asked in a Data Scientist interview."
   ]
  },
  {
   "cell_type": "code",
   "execution_count": 386,
   "metadata": {},
   "outputs": [
    {
     "name": "stdout",
     "output_type": "stream",
     "text": [
      "3\n",
      "----c----\n",
      "--c-b-c--\n",
      "c-b-a-b-c\n",
      "--c-b-c--\n",
      "----c----\n"
     ]
    }
   ],
   "source": [
    "\n",
    "n = int(input())\n",
    "\n",
    "# Write your code below\n",
    "small = list(map(chr, range(ord('a'), ord('z')+1)))\n",
    "elmts_in_mid_line= n + (n-1) \n",
    "dashes_in_mid_line=elmts_in_mid_line-1\n",
    "total_elmts_in_mid=elmts_in_mid_line + dashes_in_mid_line\n",
    "#print(total_elmts_in_mid)\n",
    "\n",
    "strings=[]\n",
    "def print_top():\n",
    "    dashes=total_elmts_in_mid//2\n",
    "    \n",
    "    x=1\n",
    "    \n",
    "    for i in range(1,n+1):\n",
    "        string=\"\"\n",
    "        for j in range (0,dashes):\n",
    "            string=string+\"-\"\n",
    "    \n",
    "        x=x+1\n",
    "        for k in range(n-1,n-x,-1):\n",
    "            if(i == 1 and k == n-1):\n",
    "                 #print(small[k],end='')\n",
    "                string= string + small[k]  \n",
    "            else:\n",
    "                #print(small[k]+\"-\",end='')\n",
    "                string =string+small[k]+\"-\"\n",
    "    \n",
    "        for k in range(n-x+2,n,1):\n",
    "            if k == n-1:\n",
    "               # print(small[k],end='')\n",
    "                string= string + small[k] \n",
    "            else:\n",
    "                #print(small[k]+\"-\",end='')\n",
    "                string =string+small[k]+\"-\"\n",
    "    \n",
    "        for j in range (0,dashes):\n",
    "            #print('-',end='')\n",
    "            string=string+\"-\"\n",
    "        \n",
    "        strings.append(string)\n",
    "        dashes=dashes-2\n",
    "        print(string)\n",
    "def print_bottom():\n",
    "    strings.pop()\n",
    "    while len(strings) > 0:\n",
    "        print(strings.pop())\n",
    "def print_figure():\n",
    "    print_top()\n",
    "    print_bottom()\n",
    "print_figure()"
   ]
  },
  {
   "cell_type": "raw",
   "metadata": {},
   "source": [
    "Armstrong number\n",
    "Description\n",
    "Any number, say n is called an Armstrong number if it is equal to the sum of its digits, where each is raised to the power of number of digits in n.\n",
    "For example:\n",
    "153=13+53+33\n",
    "\n",
    "Write Python code to determine whether an entered three digit number is an Armstrong number or not. \n",
    "Assume that the number entered will strictly be a three digit number.\n",
    "Print \"True\" if it is an Armstrong number and print \"False\" if it is not.\n",
    "Sample Input:\n",
    "153\n",
    "Sample Output:\n",
    "True"
   ]
  },
  {
   "cell_type": "code",
   "execution_count": 396,
   "metadata": {},
   "outputs": [
    {
     "name": "stdout",
     "output_type": "stream",
     "text": [
      "153\n",
      "3 27 15\n",
      "5 152 1\n",
      "1 153 0\n",
      "153 0\n",
      "True\n"
     ]
    }
   ],
   "source": [
    "n = int(input())\n",
    "digits=3\n",
    "\n",
    "def check_armstrong(no):\n",
    "    sum=0\n",
    "    n=no\n",
    "    while n > 0:\n",
    "        r=n%10\n",
    "        sum += int(r**digits)\n",
    "        n = n//10\n",
    "        print(r,sum,n)\n",
    "    if sum == no :\n",
    "        print(True)\n",
    "    else:\n",
    "        print(False)\n",
    "check_armstrong(n)"
   ]
  },
  {
   "cell_type": "raw",
   "metadata": {},
   "source": [
    "Fibonacci Series\n",
    "Description\n",
    "Compute and display Fibonacci series upto n terms where n is a positive integer entered by the user.\n",
    "You can go here to read about Fibonacci series.\n",
    "Sample Input:\n",
    "5\n",
    "Sample Output:\n",
    "0\n",
    "1\n",
    "1\n",
    "2\n",
    "3"
   ]
  },
  {
   "cell_type": "code",
   "execution_count": 401,
   "metadata": {},
   "outputs": [
    {
     "name": "stdout",
     "output_type": "stream",
     "text": [
      "0\n",
      "1\n",
      "1\n",
      "2\n",
      "3\n"
     ]
    }
   ],
   "source": [
    "def fibonacci(n):\n",
    "    #initialize\n",
    "    n2=0\n",
    "    for i in range(0,n):\n",
    "        if i == 0:\n",
    "            n1=0 \n",
    "        elif i == 1:\n",
    "            n1 = 1 \n",
    "        else:\n",
    "            #swap nos\n",
    "            n2,n1=n1,n2\n",
    "            \n",
    "            #incr next no\n",
    "            n1=n2+n1\n",
    "            \n",
    "        #print the next no\n",
    "        print(n1)\n",
    "\n",
    "fibonacci(5)"
   ]
  },
  {
   "cell_type": "raw",
   "metadata": {},
   "source": [
    "Sum of Primes\n",
    "Description\n",
    "\n",
    "Write python code to find the sum of prime numbers from 2 to n where n is a positive integer entered by the user.\n",
    "\n",
    "Note: n can be non-prime or prime. You have to find sum of primes till n and not sum of n prime numbers. i.e. for input 10, output should be 17.\n",
    "\n",
    "Hint: You can try using lambda functions and comprehensions to reduce the lines of code you have to write.\n",
    "\n",
    "\n",
    "Input: A positive integer n.\n",
    "\n",
    "Output: A integer denoting the sum of primes less than or equal to n\n",
    "\n",
    "\n",
    "Sample Input:\n",
    "\n",
    "5\n",
    "\n",
    "Sample Output:\n",
    "\n",
    "10"
   ]
  },
  {
   "cell_type": "code",
   "execution_count": 408,
   "metadata": {},
   "outputs": [
    {
     "name": "stdout",
     "output_type": "stream",
     "text": [
      "2 True\n",
      "3 True\n",
      "5 True\n",
      "7 True\n",
      "17\n"
     ]
    }
   ],
   "source": [
    "#n = int(input())\n",
    "n=10\n",
    "\n",
    "def check_prime(no):\n",
    "    #2 is  prime no\n",
    "    if no == 2:\n",
    "        return True\n",
    "    \n",
    "    #even nos are not prime\n",
    "    if no % 2 == 0:\n",
    "        return False\n",
    "    \n",
    "    #as per wiki def of prime no  : if no number between 2 and sqrt(no) divides N then it means that N is prime \n",
    "    sqrt_no=no**0.5\n",
    "    for i in range(2,int(sqrt_no)+1):\n",
    "        if no %i == 0:\n",
    "            return False\n",
    "    return True\n",
    "\n",
    "def sum_of_prime(n):\n",
    "    sum=0\n",
    "    \n",
    "    for i in range(2,n+1):\n",
    "        is_prime=check_prime(i)\n",
    "        if is_prime == True:\n",
    "            sum = sum + i\n",
    "            \n",
    "    print(sum)\n",
    "    \n",
    "sum_of_prime(n)"
   ]
  },
  {
   "cell_type": "raw",
   "metadata": {},
   "source": [
    "Generalised Chocolate\n",
    "Description\n",
    "\n",
    "Earlier you solved the chocolate problem where Sanjay had m rupees and cost of each chocolate was c rupees. Shopkeeper gave away one chocolate for three wrappers. In this problem lets generalise the question saying, Sanjay has m rupees, each chocolate costs c rupees, shopkeeper will give away k chocolates for w wrappers. Can you find now how many chocolates Sanjay will be able to eat?\n",
    "\n",
    "\n",
    "\n",
    "Input: 4 integers separated by space in order m c w k\n",
    "\n",
    "integers c and w will be >0\n",
    "\n",
    "integers m and k will be >=0\n",
    "\n",
    "integer k will be <w\n",
    "\n",
    "\n",
    "Output: An integer denoting number of chocolates Sanjay will be able to get.\n",
    "\n",
    "\n",
    "\n",
    "Sample input:\n",
    "\n",
    "15, 2, 3, 1\n",
    "\n",
    "\n",
    "Sample output:\n",
    "\n",
    "10\n",
    "\n",
    "\n",
    "Explanation:\n",
    "\n",
    "Sanjay has 15 rupees, buys 7 chocolates for 2 rupees each.\n",
    "\n",
    "Sanjay now has 7 wrappers, exchanges 6 of them for 2 more chocolates.\n",
    "\n",
    "Sanjay now has 3 wrappers and exchanges them for 1 more chocolate making a total of 10 chocolates\n",
    "\n",
    "\n",
    "Sample input:\n",
    "\n",
    "15, 2, 3, 2\n",
    "\n",
    "\n",
    "Sample output:\n",
    "\n",
    "17\n",
    "\n",
    "\n",
    "Explanation:\n",
    "\n",
    "Sanjay has 15 rupees, buys 7 chocolates for 2 rupees each.\n",
    "\n",
    "Sanjay now has 7 wrappers, exchanges 6 of them for 4 more chocolates.\n",
    "\n",
    "Sanjay now has 5 wrappers and exchanges 3 of them for 2 more chocolates.\n",
    "\n",
    "Sanjay now has 4 wrappers and exchanges 3 of them for 2 more chocolates.\n",
    "\n",
    "Sanjay now has 3 wrappers and exchanges them for 2 chocolates making a total of 17 chocolates.\n",
    "\n",
    "\n",
    "Sanjay has 15 rupees, buys 7 chocolates for 2 rupees each.\n",
    "\n",
    "Sanjay now has 7 wrappers, exchanges 6 of them for 2 more chocolates.\n",
    "\n",
    "Sanjay now has 3 wrappers and exchanges them for 1 more chocolate making a total of 10 chocolates\n"
   ]
  },
  {
   "cell_type": "code",
   "execution_count": 2,
   "metadata": {},
   "outputs": [
    {
     "name": "stdout",
     "output_type": "stream",
     "text": [
      "15, 2, 3, 1\n",
      "here 1 7\n",
      "10\n"
     ]
    }
   ],
   "source": [
    "#take input here\n",
    "l = input().split(',')\n",
    "m=int(l[0])\n",
    "c=int(l[1])\n",
    "w=int(l[2])\n",
    "k=int(l[3])\n",
    "\n",
    "\n",
    "#start writing your code here\n",
    "def visit_shop(m, c, w, r,k):\n",
    "    chocos=0\n",
    "\n",
    "    #initially Sanjay buys chocolates with money \n",
    "    if m > c:\n",
    "        chocos = m//c \n",
    "        m = m%c\n",
    "        #print('here',m,chocos)\n",
    "        return m, chocos, 0\n",
    "\n",
    "    #he buys k chocolates only with wrappers\n",
    "    if w //r > 0:\n",
    "        chocos = w//r*k\n",
    "        w = w%r\n",
    "        return m, chocos,w\n",
    "    \n",
    "    #no money, no chocolates, no wrappers\n",
    "    return m,0,0\n",
    "    \n",
    "def count_chocos(money,cost_per_choco, exchg_wrappers,exchg_chocos):\n",
    "    total_chocos = 0\n",
    "    wrappers=0\n",
    "    is_visit_shop = True\n",
    "    chocos=0\n",
    "\n",
    "    while is_visit_shop == True:\n",
    "\n",
    "        money,chocos,wrappers = visit_shop(money,cost_per_choco,wrappers, exchg_wrappers,exchg_chocos)#15//2 = 7\n",
    "        #print(money,chocos,wrappers)\n",
    "        \n",
    "        #when Sanjay returns with 0 chocolates and 0 wrappers, stop going to shop for more\n",
    "        if chocos == 0 and wrappers == 0:\n",
    "            is_visit_shop = False\n",
    "            break \n",
    "            \n",
    "        #add total chocos Sanjay ate and add wrappers he collected\n",
    "        total_chocos += chocos\n",
    "        wrappers+=chocos\n",
    "    print(total_chocos) \n",
    "    \n",
    "#dont forget to print the number of chocolates Sanjay can eat\n",
    "count_chocos(m,c,w,k)\n"
   ]
  },
  {
   "cell_type": "code",
   "execution_count": null,
   "metadata": {},
   "outputs": [],
   "source": []
  }
 ],
 "metadata": {
  "kernelspec": {
   "display_name": "Python 3",
   "language": "python",
   "name": "python3"
  },
  "language_info": {
   "codemirror_mode": {
    "name": "ipython",
    "version": 3
   },
   "file_extension": ".py",
   "mimetype": "text/x-python",
   "name": "python",
   "nbconvert_exporter": "python",
   "pygments_lexer": "ipython3",
   "version": "3.8.2"
  }
 },
 "nbformat": 4,
 "nbformat_minor": 4
}
