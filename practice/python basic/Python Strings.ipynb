{
 "cells": [
  {
   "cell_type": "code",
   "execution_count": 1,
   "metadata": {},
   "outputs": [
    {
     "name": "stdout",
     "output_type": "stream",
     "text": [
      "3\n"
     ]
    }
   ],
   "source": [
    "print(chr(51))"
   ]
  },
  {
   "cell_type": "code",
   "execution_count": 7,
   "metadata": {},
   "outputs": [
    {
     "data": {
      "text/plain": [
       "'{'"
      ]
     },
     "execution_count": 7,
     "metadata": {},
     "output_type": "execute_result"
    }
   ],
   "source": [
    "#Given an ASCII code, how will you find the character associated with it? Suppose the given ASCII code is 123.\n",
    "\n",
    "#char(123) #NameError: name 'char' is not defined\n",
    "\n",
    "#ord(123)#TypeError: ord() expected string of length 1, but int found\n",
    "\n",
    "chr(123)\n",
    "\n",
    "#ord('123')#TypeError: ord() expected a character, but string of length 3 found\n"
   ]
  },
  {
   "cell_type": "code",
   "execution_count": null,
   "metadata": {},
   "outputs": [],
   "source": []
  },
  {
   "cell_type": "code",
   "execution_count": 8,
   "metadata": {},
   "outputs": [
    {
     "data": {
      "text/plain": [
       "'a'"
      ]
     },
     "execution_count": 8,
     "metadata": {},
     "output_type": "execute_result"
    }
   ],
   "source": [
    "\" a \".strip()"
   ]
  },
  {
   "cell_type": "code",
   "execution_count": 14,
   "metadata": {},
   "outputs": [
    {
     "name": "stdout",
     "output_type": "stream",
     "text": [
      "upGrad\n",
      "upGrad\n",
      "upGrad\n"
     ]
    }
   ],
   "source": [
    "# String\n",
    "\n",
    "# Which of the following will give the output as 'upGrad'?\n",
    "\n",
    "# Multiple answers may be correct.\n",
    "\n",
    "#s = upGrad#NameError: name 'upGrad' is not defined\n",
    "\n",
    "#s = upgrad#NameError: name 'upgrad' is not defined\n",
    "\n",
    "\n",
    "#s = s[:2] + s[2].upper() + s[3:]#NameError: name 's' is not defined\n",
    "\n",
    "print('G'.join(['up','rad']))\n",
    "\n",
    "print('aabupGradaab'.strip('aab'))\n",
    "\n",
    "print('aabupGradaab'.strip('a').strip('b').strip('a'))\n"
   ]
  },
  {
   "cell_type": "raw",
   "metadata": {},
   "source": [
    "Palindrome String\n",
    "Description\n",
    "Write a program to check whether a string is a palindrome or not. Print 1 if the string is a palindrome and 0 otherwise.\n",
    "\n",
    "Note: Please ensure that your program should not be case-sensitive. So, if the input is, say, “HAnnah”, then, its output should be 1.\n",
    "\n",
    "----------------------------------------------------------------------\n",
    "Input:\n",
    "A string\n",
    "\n",
    "Output:\n",
    "1 if the string is a palindrome, 0 otherwise\n",
    "\n",
    "----------------------------------------------------------------------\n",
    "Sample input:\n",
    "HAnnah\n",
    "\n",
    "Sample output:\n",
    "1\n",
    "\n",
    "----------------------------------------------------------------------\n",
    "Sample input:\n",
    "Rebecca\n",
    "\n",
    "Sample output:\n",
    "0\n",
    "Execution ti"
   ]
  },
  {
   "cell_type": "code",
   "execution_count": 15,
   "metadata": {},
   "outputs": [
    {
     "name": "stdout",
     "output_type": "stream",
     "text": [
      "hAnnah\n",
      "1\n"
     ]
    }
   ],
   "source": [
    "# Read the input\n",
    "s = input()\n",
    "\n",
    "#check for palindrome here\n",
    "#lower \n",
    "s = s.lower()\n",
    "\n",
    "r =\"\"\n",
    "for i in s:\n",
    "    r = i+r\n",
    "    \n",
    "if r == s:\n",
    "    print(1)\n",
    "else:\n",
    "    print(0)\n",
    "s='hAnnah'"
   ]
  },
  {
   "cell_type": "raw",
   "metadata": {},
   "source": [
    "Reverse Words\n",
    "Description\n",
    "You will be given a sentence in the form of a string. You have to reverse the order of the words in the sentence. Remember not to reverse the individual words, but the order of words. Check the sample input-output for further clarification.\n",
    "\n",
    "----------------------------------------------------------------------\n",
    "Input:\n",
    "A string, which will consist of a few spaces.\n",
    "\n",
    "Output:\n",
    "The words in reverse order.\n",
    "\n",
    "----------------------------------------------------------------------\n",
    "Sample input:\n",
    "I love coding in python\n",
    "\n",
    "Sample output:\n",
    "python in coding love I\n",
    "\n",
    "----------------------------------------------------------------------\n",
    "Sample input:\n",
    "python is super easy and fun\n",
    "\n",
    "Sample output:\n",
    "fun and easy super is python"
   ]
  },
  {
   "cell_type": "code",
   "execution_count": 2,
   "metadata": {},
   "outputs": [
    {
     "name": "stdout",
     "output_type": "stream",
     "text": [
      "I love coding in python\n",
      "python in coding love I\n"
     ]
    }
   ],
   "source": [
    "#take input here\n",
    "\n",
    "sentence=input()\n",
    "\n",
    "#reverse the words of the sentence here\n",
    "words_list=sentence.split(\" \")\n",
    "\n",
    "#reverse_list=words_list[::-1]\n",
    "words_list.reverse()\n",
    "\n",
    "result = \" \".join(words_list)\n",
    "print(result)"
   ]
  },
  {
   "cell_type": "raw",
   "metadata": {},
   "source": [
    "No Spaces\n",
    "Description\n",
    "While naming entities, it is a common practice to avoid spaces. That is the reason you see so many people using underscores instead of spaces. \n",
    "You will be given a string, containing a few spaces and random upper and lower cases. You have to write a code that will add underscore in place of spaces and also capitalise the letters properly, i.e. the first letter after underscore should be in upper case and the first letter of the string should be in upper case, all of the other letters should be lower case. \n",
    "This type of activity is frequently encountered while starting to analyse data. This is called Data cleaning and you will learn more about it in upcoming modules.\n",
    "\n",
    "----------------------------------------------------------------------\n",
    "Input:\n",
    "A string of only alphabets and spaces\n",
    "\n",
    "Output:\n",
    "A string formatted as stated above. See sample input/output for more clarification,\n",
    "\n",
    "----------------------------------------------------------------------\n",
    "Sample input:\n",
    "caloRie consuMed\n",
    "\n",
    "Sample output:\n",
    "Calorie_Consumed\n",
    "\n",
    "----------------------------------------------------------------------\n",
    "Sample input:\n",
    "data science\n",
    "\n",
    "Sample output:\n",
    "Data_Science"
   ]
  },
  {
   "cell_type": "code",
   "execution_count": 5,
   "metadata": {},
   "outputs": [
    {
     "name": "stdout",
     "output_type": "stream",
     "text": [
      "caloRie consuMed\n",
      "Calorie_Consumed\n"
     ]
    }
   ],
   "source": [
    "#take input here\n",
    "s=input()\n",
    "\n",
    "#write code to format the string s as asked \n",
    "words=s.split(\" \")\n",
    "#title_list=[word[0].upper() + word[1:] for word in words]\n",
    "title_list=[word.title() for word in words]\n",
    "\n",
    "result = \"_\".join(title_list)\n",
    "print(result)\n"
   ]
  },
  {
   "cell_type": "raw",
   "metadata": {},
   "source": [
    "Shift Vowels\n",
    "Description\n",
    "Write a program that receives a string and shifts all the vowels present in it to the beginning. Output the resultant string. The order of all the vowels with respect to each other as well as the order of all the other characters with respect to each other should stay the same.\n",
    "\n",
    "----------------------------------------------------------------------\n",
    "Input:\n",
    "A string\n",
    "\n",
    "Output:\n",
    "Vowels shifted to the beginning in the input string.\n",
    "\n",
    "----------------------------------------------------------------------\n",
    "Sample input:\n",
    "programming\n",
    "\n",
    "Sample output:\n",
    "oaiprgrmmng\n",
    "\n",
    "----------------------------------------------------------------------\n",
    "Sample input:\n",
    "You love Python!\n",
    "\n",
    "Sample output:\n",
    "ouoeoY lv Pythn!\n",
    "\n",
    "----------------------------------------------------------------------\n",
    "Explanation:\n",
    "All the vowels have been shifted to the beginning in order. The order of all the other characters remains the same.\n"
   ]
  },
  {
   "cell_type": "code",
   "execution_count": 13,
   "metadata": {},
   "outputs": [
    {
     "name": "stdout",
     "output_type": "stream",
     "text": [
      "ouoeoY lv Pythn!\n"
     ]
    }
   ],
   "source": [
    "#s=\"programming\"\n",
    "s=\"You love Python!\"\n",
    "\n",
    "vowels = \"a,e,i,o,u,A,E,I,O,U\"\n",
    "v=vowels.split(\",\")\n",
    "#words=s.split(\" \")\n",
    "\n",
    "vowellist=[]\n",
    "consonantlist=[]\n",
    "\n",
    "for letter in s:\n",
    "    if letter in vowels:\n",
    "        vowellist.append(letter)\n",
    "    else:\n",
    "        consonantlist.append(letter)\n",
    "result=\"\".join(vowellist+consonantlist)\n",
    "print(result)\n",
    "\n"
   ]
  },
  {
   "cell_type": "raw",
   "metadata": {},
   "source": [
    "Common Prefix\n",
    "Description\n",
    "You will be given two strings. You have to find the largest prefix common in both the strings.\n",
    "\n",
    "----------------------------------------------------------------------\n",
    "Input:\n",
    "Two lines of input, one string on each line\n",
    "\n",
    "Output:\n",
    "The common largest prefix for both strings. Check sample input/output for clarification. -1 if no prefix is common.\n",
    "\n",
    "----------------------------------------------------------------------\n",
    "Sample input:\n",
    "abshdksajd\n",
    "abshiehand\n",
    "\n",
    "Sample output:\n",
    "absh\n",
    "\n",
    "----------------------------------------------------------------------\n",
    "Sample input:\n",
    "upgradData\n",
    "upGradScience\n",
    "\n",
    "Sample output:\n",
    "upgrad\n",
    "\n",
    "----------------------------------------------------------------------\n",
    "Note: the last sample input/output clearly shows the code is not case sensitive."
   ]
  },
  {
   "cell_type": "code",
   "execution_count": 25,
   "metadata": {},
   "outputs": [
    {
     "name": "stdout",
     "output_type": "stream",
     "text": [
      "q\n"
     ]
    }
   ],
   "source": [
    "#string1=\"upgradData\"\n",
    "#string2=\"upGradScience\"\n",
    "\n",
    "string1=\"q\"\n",
    "string2=\"qerer\"\n",
    "\n",
    "#input has been taken for you\n",
    "\n",
    "#start writing your code to find largest common prefix here\n",
    "min_len=min(len(string1), len(string2))\n",
    "\n",
    "result=\"\"\n",
    "for i in range(0,min_len):\n",
    "    if string1[i].lower() != string2[i].lower():\n",
    "        break\n",
    "    else:        \n",
    "        result += string1[i]\n",
    "if result==\"\":\n",
    "    print(-1)\n",
    "else:\n",
    "    print(result)\n"
   ]
  },
  {
   "cell_type": "raw",
   "metadata": {},
   "source": [
    "What If\n",
    "\n",
    "In this segment, you solved the problem to find common prefix from given only two strings. \n",
    "Can you now scale this problem up and find out the common prefix in a list of strings?"
   ]
  },
  {
   "cell_type": "code",
   "execution_count": 33,
   "metadata": {},
   "outputs": [
    {
     "name": "stdout",
     "output_type": "stream",
     "text": [
      "as\n"
     ]
    }
   ],
   "source": [
    "import functools as ft\n",
    "\n",
    "l=[\"asds\",\"asdsdretjv\",\"asdsr\",\"as\"]\n",
    "\n",
    "def func(string1, string2):\n",
    "    #start writing your code to find largest common prefix here\n",
    "    min_len=min(len(string1), len(string2))\n",
    "\n",
    "    result=\"\"\n",
    "    for i in range(0,min_len):\n",
    "        if string1[i].lower() != string2[i].lower():\n",
    "            break\n",
    "        else:        \n",
    "            result += string1[i]\n",
    "    if result==\"\":\n",
    "        return(-1)\n",
    "    else:\n",
    "        return(result)\n",
    "\n",
    "result=ft.reduce(func, l)    \n",
    "print(result)"
   ]
  },
  {
   "cell_type": "raw",
   "metadata": {},
   "source": [
    "Anagrams\n",
    "Description\n",
    "Two strings are anagrams of each other if you can rearrange the characters of one string to make the other string.\n",
    "Given two strings, can you find if they are anagrams or no?\n",
    "\n",
    "----------------------------------------------------------------------\n",
    "Input:\n",
    "Two lines of input, each line will contain a string without space.\n",
    "\n",
    "Output:\n",
    "True or False based on whether the strings are anagrams or not.\n",
    "\n",
    "----------------------------------------------------------------------\n",
    "Sample input:\n",
    "thing\n",
    "night\n",
    "\n",
    "Sample output:\n",
    "True\n",
    "\n",
    "----------------------------------------------------------------------\n",
    "Sample input:\n",
    "upgrad\n",
    "found\n",
    "\n",
    "Sample output:\n",
    "False\n",
    "\n",
    "----------------------------------------------------------------------\n",
    "Note: the code will be case-Sensitive\n",
    "Hint: if the length of the strings doesn't match, the strings are obviously not anagrams."
   ]
  },
  {
   "cell_type": "code",
   "execution_count": 49,
   "metadata": {},
   "outputs": [
    {
     "name": "stdout",
     "output_type": "stream",
     "text": [
      "True\n"
     ]
    }
   ],
   "source": [
    "string1=\"thing\"\n",
    "string2=\"night\"\n",
    "\n",
    "string1=\"upgrad\"\n",
    "string2=\"found\"\n",
    "\n",
    "string1=\"upgrad\"\n",
    "string2=\"Upgrad\"\n",
    "\n",
    "string1=\"\"\n",
    "string2=\"Upgrad\"\n",
    "\n",
    "string1=\"\"\n",
    "string2=\"\"\n",
    "\n",
    "def check_anagram(string1, string2):\n",
    "    if len(string1) != len(string2):\n",
    "        return False\n",
    "\n",
    "    w1=[]\n",
    "    w1[:0]=string1\n",
    "    w2=[]\n",
    "    w2[:0]=string2\n",
    "    w11=sorted(w1)\n",
    "    w22=sorted(w2)\n",
    "\n",
    "    for i in range(len(string1)):\n",
    "        if w11[i]!=w22[i]:\n",
    "            return False\n",
    "    return True\n",
    "\n",
    "print(check_anagram(string1, string2))"
   ]
  },
  {
   "cell_type": "raw",
   "metadata": {},
   "source": [
    "Find Extra Character\n",
    "Description\n",
    "Given two strings, one of the strings will contain an extra character. Find the extra character. The number of all the other characters in both the strings will be the same. Check the sample input/output for more clarification.\n",
    "\n",
    "The code will be case sensitive.\n",
    "\n",
    "----------------------------------------------------------------------\n",
    "Input:\n",
    "Two strings on two separate lines. \n",
    "\n",
    "Output:\n",
    "One Character which is extra in one of the strings\n",
    "\n",
    "----------------------------------------------------------------------\n",
    "Sample input:\n",
    "abcd\n",
    "cedab\n",
    "\n",
    "Sample output:\n",
    "e"
   ]
  },
  {
   "cell_type": "code",
   "execution_count": 51,
   "metadata": {},
   "outputs": [
    {
     "name": "stdout",
     "output_type": "stream",
     "text": [
      "True\n"
     ]
    }
   ],
   "source": [
    "\n",
    "\n",
    "#write code to find the extra character here\n",
    "def find_extra_char(string1, string2):\n",
    "    string=\"\"\n",
    "    otherstring=\"\"\n",
    "    if len(string1) > len(string2):\n",
    "        string = string1\n",
    "        otherstring=string2\n",
    "    else:\n",
    "        string = string2\n",
    "        otherstring=string1\n",
    "        \n",
    "    for i in string:\n",
    "        if string.count(i) != otherstring.count(i):\n",
    "            return i\n",
    "        \n",
    "    return \"\"\n",
    "\n",
    "print(find_extra_char(string1, string2))"
   ]
  },
  {
   "cell_type": "raw",
   "metadata": {},
   "source": [
    "Integer or String\n",
    "Description\n",
    "You have been using ast.literal_eval() to take input in a suitable format. Have you thought of how does it distinguish between different data types and data structures? We will solve a similar but smaller problem here. You will be given a string as input. You just have to determine if the string can be an integer or no?\n",
    "This is also encountered a lot in Data Science. Upon taking a lot of data, sometimes integer values are treated as a string, and due to that a lot of functionalities of integer data which you will learn ahead are rendered useless.\n",
    "\n",
    "----------------------------------------------------------------------\n",
    "Input:\n",
    "A single line of string\n",
    "\n",
    "Output:\n",
    "INT if the input string is an integer and STR otherwise.\n",
    "\n",
    "----------------------------------------------------------------------\n",
    "Sample input:\n",
    "12\n",
    "\n",
    "Sample output:\n",
    "INT\n",
    "\n",
    "----------------------------------------------------------------------\n",
    "Sample input:\n",
    "12.4\n",
    "\n",
    "Sample output:\n",
    "STR\n",
    "\n",
    "Explanation: You only have to print INT if its an integer, in this case, it is a float.\n",
    "\n",
    "----------------------------------------------------------------------\n",
    "Sample input:\n",
    "43a\n",
    "\n",
    "Sample output:\n",
    "STR"
   ]
  },
  {
   "cell_type": "code",
   "execution_count": 95,
   "metadata": {},
   "outputs": [
    {
     "name": "stdout",
     "output_type": "stream",
     "text": [
      "INT\n",
      "STR\n",
      "STR\n",
      "\n",
      "STR\n",
      "STR\n",
      "STR\n",
      "\n",
      "STR\n",
      "INT\n",
      "STR\n",
      "STR\n"
     ]
    }
   ],
   "source": [
    "#string = \"12\"\n",
    "#string = \"43a\"\n",
    "#string = \"12.4\"\n",
    "#string = \"hi\"\n",
    "#string = \"hi10\"\n",
    "#string = \"1-1\"#STR\n",
    "#string=\"-10\"\n",
    "#string=\"-\"\n",
    "\n",
    "#inut has been taken for you\n",
    "#in_str=input()\n",
    "\n",
    "#find out if in_str is integer or not\n",
    "def get_datatype(string):\n",
    "    \n",
    "    digits= [str(i) for i in range(0,9)]\n",
    "    signs=[\"+\",\"-\"]\n",
    "    l=[]\n",
    "    l[:0]=string\n",
    "        \n",
    "    #input = \"\"\n",
    "    if len(l) == 0:\n",
    "        return \"STR\"\n",
    "    \n",
    "    # input  = \"-\"\n",
    "    if len(l) == 1 and l[0] in signs:\n",
    "        return \"STR\"\n",
    "    \n",
    "    #input = \"-12\", remove the sign before proceeding\n",
    "    if l[0] in signs:\n",
    "        l.pop(0)\n",
    "        \n",
    "    \n",
    "    for i in l:\n",
    "        if i not in digits:\n",
    "            return \"STR\"\n",
    "    return \"INT\"\n",
    "\n",
    "print(get_datatype(\"12\"))\n",
    "print(get_datatype(\"43a\"))\n",
    "print(get_datatype(\"12.4\"))\n",
    "print()\n",
    "print(get_datatype(\"hi\"))\n",
    "print(get_datatype(\"hi10\"))\n",
    "print(get_datatype(\"12hi\"))\n",
    "print()\n",
    "print(get_datatype(\"1-2\"))\n",
    "print(get_datatype(\"-12\"))\n",
    "print(get_datatype(\"-\"))\n",
    "print(get_datatype(\"\"))\n"
   ]
  },
  {
   "cell_type": "markdown",
   "metadata": {},
   "source": [
    "Reverse Words\n",
    "Description\n",
    "You will be given a sentence in the form of a string. You have to reverse the order of the words in the sentence. Remember not to reverse the individual words, but the order of words. Check the sample input-output for further clarification.\n",
    "\n",
    "----------------------------------------------------------------------\n",
    "Input:\n",
    "A string, which will consist of a few spaces.\n",
    "\n",
    "Output:\n",
    "The words in reverse order.\n",
    "\n",
    "----------------------------------------------------------------------\n",
    "Sample input:\n",
    "I love coding in python\n",
    "\n",
    "Sample output:\n",
    "python in coding love I\n",
    "\n",
    "----------------------------------------------------------------------\n",
    "Sample input:\n",
    "python is super easy and fun\n",
    "\n",
    "Sample output:\n",
    "fun and easy super is python"
   ]
  },
  {
   "cell_type": "code",
   "execution_count": 112,
   "metadata": {},
   "outputs": [
    {
     "name": "stdout",
     "output_type": "stream",
     "text": [
      "fun and easy super is python\n"
     ]
    }
   ],
   "source": [
    "#in_str=input()\n",
    "#in_str=\"I love coding in python\"\n",
    "in_str=\"python is super easy and fun\"\n",
    "def reverse_word(sentence):\n",
    "    words=sentence.split(\" \")\n",
    "    reverselist = words[::-1]\n",
    "    result=\"\"\n",
    "    for reverseword in reverselist:\n",
    "        result += \" \" + reverseword\n",
    "    return result.strip()\n",
    "\n",
    "print(reverse_word(in_str))\n",
    "    "
   ]
  },
  {
   "cell_type": "raw",
   "metadata": {},
   "source": [
    "Clean Numbers\n",
    "Description\n",
    "While extracting data from different sources, often numeric values come in string format and with commas like 1,000 or 23,321 and also sometimes with spaces in start and beginning of the string. For simplicity, we will consider only integer values imbedded with commas. You will take the input and print the cleaned integer without commas and spaces.\n",
    "\n",
    "----------------------------------------------------------------------\n",
    "Input:\n",
    "One line input of string, it will consist of only spaces commas and digits\n",
    "\n",
    "Output:\n",
    "Cleaned number\n",
    "\n",
    "----------------------------------------------------------------------\n",
    "Sample input:\n",
    "         3,213\n",
    "\n",
    "Sample output:\n",
    "3213\n",
    "\n",
    "----------------------------------------------------------------------\n",
    "Sample input:\n",
    "4,68,72,352          \n",
    "\n",
    "Sample output:\n",
    "46872352\n",
    "\n",
    "----------------------------------------------------------------------\n",
    "Note: Spaces will be either in the start or at the end."
   ]
  },
  {
   "cell_type": "code",
   "execution_count": 118,
   "metadata": {},
   "outputs": [
    {
     "name": "stdout",
     "output_type": "stream",
     "text": [
      "3213\n",
      "46872352\n",
      "-13213\n"
     ]
    }
   ],
   "source": [
    "#value=input()\n",
    "\n",
    "def clean_numbers(string):\n",
    "    string=string.strip()\n",
    "\n",
    "    listdig=string.split(\",\")\n",
    "    result=\"\"\n",
    "    for i in listdig:\n",
    "        result += \"\".join(i)\n",
    "    return (int(result))\n",
    "#print(clean_numbers(value))\n",
    "\n",
    "print(clean_numbers(\"         3,213\"))\n",
    "print(clean_numbers(\"4,68,72,352          \"))\n",
    "print(clean_numbers(\"         -13,213\"))\n"
   ]
  },
  {
   "cell_type": "markdown",
   "metadata": {},
   "source": [
    "Secret Message\n",
    "Description\n",
    "\n",
    "You write all your passwords in a diary so that you don't forget them. But clearly this is too risky, so you came up with a simple plan, you will simply write it by shifting all the alphabets by a certain step. For eg: if you decide your step to be 3, then 'a' will become 'd', and 'k' will become 'n' and so for all alphabets. The last alphabets will simply circle back to 'a'. In this case, 'y' will become 'b' and so on. Now you just have to remember the step size, can then you can check the password anytime you want. You decided to write code to do this, now that you have learned coding in python. Your code will take in the step size and what is written in the diary and give out the real password.\n",
    "\n",
    "\n",
    "----------------------------------------------------------------------\n",
    "\n",
    "Input:\n",
    "\n",
    "A list of two elements.\n",
    "\n",
    "The first element will be a string consisting of only alphabets which is taken from the diary and the second element will be the step size.\n",
    "\n",
    "\n",
    "Output:\n",
    "\n",
    "A string denoting the password\n",
    "\n",
    "\n",
    "----------------------------------------------------------------------\n",
    "\n",
    "Sample input:\n",
    "\n",
    "['ytKveh', 4]\n",
    "\n",
    "\n",
    "Sample output:\n",
    "\n",
    "upGrad\n",
    "\n",
    "\n",
    "Explanation:\n",
    "\n",
    "The password was 'upGrad'. Upon changing it by step of 4,\n",
    "\n",
    "u became y,\n",
    "\n",
    "p became t,\n",
    "\n",
    "G became K,\n",
    "\n",
    "r became v,\n",
    "\n",
    "a became e,\n",
    "\n",
    "d became h,\n",
    "\n",
    "and thus what was written in the diary was ytKveh \n",
    "\n",
    "\n",
    "----------------------------------------------------------------------\n",
    "\n",
    "Sample input:\n",
    "\n",
    "['banana', 7]\n",
    "\n",
    "\n",
    "Sample output:\n",
    "\n",
    "utgtgt"
   ]
  },
  {
   "cell_type": "code",
   "execution_count": 177,
   "metadata": {},
   "outputs": [],
   "source": [
    "# import ast\n",
    "# #string=\"banana\"\n",
    "# #l1=[chr(i) for i in range(ord('a'),ord('z')+1)]\n",
    "# #l2=[chr(i) for i in range(ord('A'),ord('Z')+1)]\n",
    "# #print(l1,\"\\n\",l2)\n",
    "# input_list = ast.literal_eval(input())\n",
    "# string=input_list[0]\n",
    "# k=input_list[1]\n",
    "\n",
    "\n",
    "# def undecrypt(string, k):\n",
    "#     a = ord('a')\n",
    "#     z = ord('z')\n",
    "\n",
    "#     A = ord('A')\n",
    "#     Z = ord('Z')\n",
    "\n",
    "#     w=\"\"\n",
    "#     for i in string:\n",
    "#         o = ord(i)\n",
    "#         step=k\n",
    "#         if a<=o<=z and o - step < a :\n",
    "\n",
    "#             #jump from w to a\n",
    "#             wtoa= o - a\n",
    "#             step -= wtoa \n",
    "\n",
    "#             #jump from a to z\n",
    "#             atoz = 1\n",
    "#             step -= atoz\n",
    "\n",
    "#             #jump backwards from z the remaining steps \n",
    "#             rev_from_z= z - step\n",
    "\n",
    "#             #append the character\n",
    "#             w = w + chr(rev_from_z)\n",
    "\n",
    "#         elif A<= o <= Z and o - step < A:\n",
    "#             #jump from w to a\n",
    "#             wtoA= o - A\n",
    "#             step -= wtoA\n",
    "\n",
    "#             #jump from a to z\n",
    "#             AtoZ = 1\n",
    "#             step -= AtoZ\n",
    "\n",
    "#             #jump backwards from z the remaining steps \n",
    "#             rev_from_Z= Z - step\n",
    "\n",
    "#             #append the character\n",
    "#             w = w + chr(rev_from_Z)\n",
    "#         else :\n",
    "#             w = w + chr(o -step)\n",
    "#     return w\n",
    "# print(undecrypt(string,k))\n",
    "# #print(undecrypt('ytKveh', 4))\n",
    "# #print(undecrypt('banana', 7))"
   ]
  },
  {
   "cell_type": "code",
   "execution_count": 178,
   "metadata": {},
   "outputs": [],
   "source": [
    "# a = ord('a')\n",
    "# z = ord('z')\n",
    "\n",
    "# A = ord('A')\n",
    "# Z = ord('Z')\n",
    "\n",
    "# print(a,z,A,Z,chr(97))"
   ]
  },
  {
   "cell_type": "code",
   "execution_count": 176,
   "metadata": {},
   "outputs": [
    {
     "name": "stdout",
     "output_type": "stream",
     "text": [
      "['ytKveh', 4]\n",
      "upGrad\n",
      "utgtgt\n"
     ]
    }
   ],
   "source": [
    "import ast\n",
    "input_list = ast.literal_eval(input())\n",
    "string=input_list[0]\n",
    "k=input_list[1]\n",
    "\n",
    "#l1=[chr(i) for i in range(ord('a'),ord('z')+1)]\n",
    "#l2=[chr(i) for i in range(ord('A'),ord('Z')+1)]\n",
    "#print(l1,\"\\n\",l2)\n",
    "\n",
    "#index('b') = 1\n",
    "#1-7 = -6\n",
    "#-6%26 = -2\n",
    "#[abcdef...uvwxyz]\n",
    "#l1[-2]=y\n",
    "\n",
    "#replace string instead of list \n",
    "lowers = 'abcdefghijklmnopqrstuvwxyz'      \n",
    "uppers = 'ABCDEFGHIJKLMNOPQRSTUVWXYZ'      \n",
    "\n",
    "def undecrypt(string, steps):\n",
    "    result = \"\"\n",
    "    for i in string:     \n",
    "        #append all non alpha as it is\n",
    "        if i.strip() and i in lowers: \n",
    "            lind = lowers.index(i)\n",
    "            index = (lind - steps) % 26\n",
    "            result = result + lowers[index]   \n",
    "        elif i.strip() and i in uppers: \n",
    "            ind=uppers.index(i)\n",
    "            index = (ind - steps) % 26\n",
    "            result = result + uppers[index]  \n",
    "        else:\n",
    "            result = result + i           \n",
    "    return result\n",
    "#print(undecrypt(string,k))\n",
    "\n",
    "print(undecrypt('ytKveh', 4))\n",
    "print(undecrypt('banana', 7))\n"
   ]
  },
  {
   "cell_type": "code",
   "execution_count": 173,
   "metadata": {},
   "outputs": [
    {
     "name": "stdout",
     "output_type": "stream",
     "text": [
      "1\n"
     ]
    }
   ],
   "source": [
    "lowers = 'abcdefghijklmnopqrstuvwxyz'      \n",
    "print(lowers.index('b'))"
   ]
  },
  {
   "cell_type": "markdown",
   "metadata": {},
   "source": [
    "A weird sum\n",
    "Description\n",
    "\n",
    "Write a program that computes the value of n+nn+nnn+nnnn+... nn...n ntimes with a given number as the value of n.\n",
    "\n",
    "\n",
    "For example, if n=3 , then you have to find the value of 3+33+333\n",
    "\n",
    "if n=10, then you have to find the value of 10 + 1010 + 101010 + 10101010 + 1010101010 + 101010101010 + 10101010101010 + 1010101010101010 +101010101010101010+ 10101010101010101010\n",
    "\n",
    "\n",
    "\n",
    "Note: n will always be a positive number"
   ]
  },
  {
   "cell_type": "code",
   "execution_count": 187,
   "metadata": {},
   "outputs": [
    {
     "name": "stdout",
     "output_type": "stream",
     "text": [
      "3\n",
      "369\n"
     ]
    }
   ],
   "source": [
    "no = int(input())\n",
    "\n",
    "def get_sum(n):\n",
    "    nosum = 0\n",
    "    for i in range(1, n+1):\n",
    "        strno =\"\"\n",
    "        for j in range(0,i):\n",
    "            strno = strno + str(n)\n",
    "        nosum = nosum + int(strno)\n",
    "    return nosum\n",
    "\n",
    "print(get_sum(no))"
   ]
  },
  {
   "cell_type": "code",
   "execution_count": null,
   "metadata": {},
   "outputs": [],
   "source": []
  },
  {
   "cell_type": "code",
   "execution_count": null,
   "metadata": {},
   "outputs": [],
   "source": []
  }
 ],
 "metadata": {
  "kernelspec": {
   "display_name": "Python 3",
   "language": "python",
   "name": "python3"
  },
  "language_info": {
   "codemirror_mode": {
    "name": "ipython",
    "version": 3
   },
   "file_extension": ".py",
   "mimetype": "text/x-python",
   "name": "python",
   "nbconvert_exporter": "python",
   "pygments_lexer": "ipython3",
   "version": "3.8.2"
  }
 },
 "nbformat": 4,
 "nbformat_minor": 4
}
