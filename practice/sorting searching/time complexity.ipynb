{
 "cells": [
  {
   "cell_type": "code",
   "execution_count": 13,
   "metadata": {},
   "outputs": [
    {
     "ename": "SyntaxError",
     "evalue": "invalid syntax (<ipython-input-13-e4fffeee2b65>, line 1)",
     "output_type": "error",
     "traceback": [
      "\u001b[1;36m  File \u001b[1;32m\"<ipython-input-13-e4fffeee2b65>\"\u001b[1;36m, line \u001b[1;32m1\u001b[0m\n\u001b[1;33m    Asymptotic analysis\u001b[0m\n\u001b[1;37m               ^\u001b[0m\n\u001b[1;31mSyntaxError\u001b[0m\u001b[1;31m:\u001b[0m invalid syntax\n"
     ]
    }
   ],
   "source": [
    "Asymptotic analysis\n",
    "We can have three cases to analyze an algorithm: \n",
    "1) The Worst Case \n",
    "2) Average Case \n",
    "3) Best Case\n",
    "\n",
    "1. worst case(Usually Done)\n",
    "- worst case happens when the element to be searched (x in the above code) is not present in the array\n",
    "\n",
    "2. Average Case Analysis (Sometimes done) \n",
    "take all possible inputs and calculate computing time for all of the inputs.\n",
    "Sum all the calculated values and divide the sum by total number of inputs.\n",
    "\n",
    "3. Best Case Analysis (Bogus) \n",
    "minimum number of operations to be executed"
   ]
  },
  {
   "cell_type": "raw",
   "metadata": {},
   "source": [
    "Time complexity of loops:\n",
    "\n",
    "1)O(1): \n",
    " if it doesn’t contain loop, recursion and call to any other non-constant time function.\n",
    "\n",
    "   // set of non-recursive and non-loop statements\n",
    "   For example swap() function has O(1) time complexity.\n",
    "   \n",
    "   A loop or recursion that runs a constant number of times is also considered as O(1). For example the following loop is O(1).\n",
    "\n",
    "   // Here c is a constant   \n",
    "   for (int i = 1; i <= c; i++) {  \n",
    "        // some O(1) expressions\n",
    "   }\n",
    "   \n",
    "   \n",
    "2.O(n):\n",
    "if the loop variables is incremented / decremented by a constant amount. \n",
    "\n",
    "// Here c is a positive integer constant   \n",
    "   for (int i = 1; i <= n; i += c) {  \n",
    "        // some O(1) expressions\n",
    "   }\n",
    "\n",
    "   for (int i = n; i > 0; i -= c) {\n",
    "        // some O(1) expressions\n",
    "   }\n",
    "   \n",
    "   \n",
    "3. O(n**c):\n",
    "Time complexity of nested loops is equal to the number of times the innermost statement is executed. \n",
    "For example Selection sort and Insertion Sort have O(n2) time complexity.\n",
    "\n",
    "for (int i = 1; i <=n; i += c) {\n",
    "       for (int j = 1; j <=n; j += c) {\n",
    "          // some O(1) expressions\n",
    "       }\n",
    "   }\n",
    "\n",
    "   for (int i = n; i > 0; i -= c) {\n",
    "       for (int j = i+1; j <=n; j += c) {\n",
    "          // some O(1) expressions\n",
    "   }\n",
    "   \n",
    "4. O(Logn) :\n",
    " if the loop variables is divided / multiplied by a constant amount.\n",
    " For example Binary Search(refer iterative implementation) has O(Logn) time complexity.\n",
    "\n",
    "   for (int i = 1; i <=n; i *= c) {\n",
    "       // some O(1) expressions\n",
    "   }\n",
    "   for (int i = n; i > 0; i /= c) {\n",
    "       // some O(1) expressions\n",
    "   }\n",
    "   \n",
    "   The series that we get in first loop is 1, c, c2, c3, … ck. If we put k equals to Logcn, we get cLogcn which is n.\n",
    "   \n",
    "5. O(LogLogn) :\n",
    "Time Complexity of a loop is considered as O(LogLogn) if the loop variables is reduced / increased exponentially by a constant amount.\n",
    "\n",
    "   // Here c is a constant greater than 1   \n",
    "   for (int i = 2; i <=n; i = pow(i, c)) { \n",
    "       // some O(1) expressions\n",
    "   }\n",
    "   //Here fun is sqrt or cuberoot or any other constant root\n",
    "   for (int i = n; i > 1; i = fun(i)) { \n",
    "       // some O(1) expressions\n",
    "   }\n",
    "   \n",
    "6. Recurrence relations:\n",
    "T(n) = aT(n/b) + f(n) where a >= 1 and b > 1\n",
    "There are following three cases:\n",
    "1. If f(n) = Θ(n**c) where c < Logb(a) then T(n) = Θ(n**Logb(a))\n",
    "2. If f(n) = Θ(n**c) where c = Logb(a) then T(n) = Θ(n**cLog n)\n",
    " Merge Sort: T(n) = 2T(n/2) + Θ(n). It falls in case 2 as c is 1 and Logb(a)] is also 1. So the solution is Θ(n Logn)\n",
    " Binary Search: T(n) = T(n/2) + Θ(1). It also falls in case 2 as c is 0 and Logb(a) is also 0. So the solution is Θ(Logn)\n",
    "3.If f(n) = Θ(n**c) where c > Logb(a) then T(n) = Θ(f(n))\n",
    "\n",
    "\n",
    "         { 3T(n-1), if n>0,\n",
    "T(n) =   { 1, otherwise\n",
    "\n",
    "of this function is O(3n).\n",
    "\n",
    "\n",
    "        { 2T(n-1) - 1, if n>0,\n",
    "T(n) =   { 1, otherwise\n",
    "T(n) = 1\n"
   ]
  },
  {
   "cell_type": "code",
   "execution_count": null,
   "metadata": {},
   "outputs": [],
   "source": [
    "1. ignore if loop(constant complexities) when higher order complexities exist\n",
    "2. consecutive loop complexities:\n",
    "     When there are consecutive loops, we calculate time complexity as sum of time complexities of individual loops.\n",
    "\n",
    "   for (int i = 1; i <=m; i += c) {  \n",
    "        // some O(1) expressions\n",
    "   }\n",
    "   for (int i = 1; i <=n; i += c) {\n",
    "        // some O(1) expressions\n",
    "   }\n",
    "   Time complexity of above code is O(m) + O(n) which is O(m+n)\n",
    "   If m == n, the time complexity becomes O(2n) which is O(n).   \n"
   ]
  },
  {
   "cell_type": "code",
   "execution_count": null,
   "metadata": {},
   "outputs": [],
   "source": []
  },
  {
   "cell_type": "code",
   "execution_count": 1,
   "metadata": {},
   "outputs": [
    {
     "ename": "SyntaxError",
     "evalue": "invalid syntax (<ipython-input-1-c77011344e3d>, line 1)",
     "output_type": "error",
     "traceback": [
      "\u001b[1;36m  File \u001b[1;32m\"<ipython-input-1-c77011344e3d>\"\u001b[1;36m, line \u001b[1;32m1\u001b[0m\n\u001b[1;33m    Time Complexity\u001b[0m\n\u001b[1;37m         ^\u001b[0m\n\u001b[1;31mSyntaxError\u001b[0m\u001b[1;31m:\u001b[0m invalid syntax\n"
     ]
    }
   ],
   "source": [
    "Time Complexity\n",
    "\n",
    "The time complexity of an algorithm is the run-time required by the algorithm to perform in the _____?\n",
    "\n",
    "Best-case scenario\n",
    "\n",
    "Average-case Scenario\n",
    "\n",
    "Worst-case Scenario\n",
    "Feedback :\n",
    "\n",
    "The time-complexity is always calculated for the run-time in the worst-case scenario.\n",
    "Correct\n",
    "\n",
    "All of the above\n"
   ]
  },
  {
   "cell_type": "code",
   "execution_count": 2,
   "metadata": {},
   "outputs": [
    {
     "ename": "SyntaxError",
     "evalue": "invalid syntax (<ipython-input-2-7e426b121f02>, line 3)",
     "output_type": "error",
     "traceback": [
      "\u001b[1;36m  File \u001b[1;32m\"<ipython-input-2-7e426b121f02>\"\u001b[1;36m, line \u001b[1;32m3\u001b[0m\n\u001b[1;33m    k= #fill in this line too\u001b[0m\n\u001b[1;37m       ^\u001b[0m\n\u001b[1;31mSyntaxError\u001b[0m\u001b[1;31m:\u001b[0m invalid syntax\n"
     ]
    }
   ],
   "source": [
    "import time \n",
    "mylist=[] #fill up the list with some integer values, as many as you want\n",
    "k= #fill in this line too\n",
    "start = time.process_time() \n",
    "for i in range(len(mylist)):\n",
    "\tif mylist[i]==k:\n",
    "\t\tprint(i)\n",
    "print(time.process_time() - start)\n",
    "\n",
    "\n",
    "O(N)"
   ]
  },
  {
   "cell_type": "code",
   "execution_count": 3,
   "metadata": {},
   "outputs": [
    {
     "ename": "SyntaxError",
     "evalue": "invalid syntax (<ipython-input-3-49da08f51898>, line 1)",
     "output_type": "error",
     "traceback": [
      "\u001b[1;36m  File \u001b[1;32m\"<ipython-input-3-49da08f51898>\"\u001b[1;36m, line \u001b[1;32m1\u001b[0m\n\u001b[1;33m    Time Complexity\u001b[0m\n\u001b[1;37m         ^\u001b[0m\n\u001b[1;31mSyntaxError\u001b[0m\u001b[1;31m:\u001b[0m invalid syntax\n"
     ]
    }
   ],
   "source": [
    "Time Complexity\n",
    "\n",
    "What will be the time complexity of an algorithm of the following number of operations?\n",
    "\n",
    "T(q)=q2−q\n",
    "\n",
    "O(q)\n",
    "\n",
    "O(q2)\n",
    "Feedback :\n",
    "\n",
    "The term (−q) can be ignored as compared to q2\n",
    "Correct\n",
    "\n",
    "O(−q)\n",
    "\n",
    "None of the above\n"
   ]
  },
  {
   "cell_type": "code",
   "execution_count": 4,
   "metadata": {},
   "outputs": [
    {
     "ename": "SyntaxError",
     "evalue": "invalid syntax (<ipython-input-4-dc0c2dbe4226>, line 1)",
     "output_type": "error",
     "traceback": [
      "\u001b[1;36m  File \u001b[1;32m\"<ipython-input-4-dc0c2dbe4226>\"\u001b[1;36m, line \u001b[1;32m1\u001b[0m\n\u001b[1;33m    Determining the time complexity\u001b[0m\n\u001b[1;37m                ^\u001b[0m\n\u001b[1;31mSyntaxError\u001b[0m\u001b[1;31m:\u001b[0m invalid syntax\n"
     ]
    }
   ],
   "source": [
    "Determining the time complexity\n",
    "\n",
    "What is the time complexity of the following algorithm?\n",
    "\n",
    "def my_function(p):\n",
    "    a = 0\n",
    "    for i in range(2,p):\n",
    "       a = a + 1\n",
    "       print(a)\n",
    "\n",
    " \n",
    "\n",
    "O(p)\n",
    "Feedback :\n",
    "\n",
    "The loop is running (p-1) times. Hence, we can say that the function describing the runtime of the code is T(n) = p - 1, which is represented in Big-O as O(p) (after ignoring the 1).\n",
    "Correct\n",
    "\n",
    "O(1)\n",
    "\n",
    "O(p2)\n",
    "\n",
    "O(p2−1)"
   ]
  },
  {
   "cell_type": "code",
   "execution_count": 5,
   "metadata": {},
   "outputs": [
    {
     "ename": "SyntaxError",
     "evalue": "invalid syntax (<ipython-input-5-a43bc61a0814>, line 1)",
     "output_type": "error",
     "traceback": [
      "\u001b[1;36m  File \u001b[1;32m\"<ipython-input-5-a43bc61a0814>\"\u001b[1;36m, line \u001b[1;32m1\u001b[0m\n\u001b[1;33m    Determining the time complexity\u001b[0m\n\u001b[1;37m                ^\u001b[0m\n\u001b[1;31mSyntaxError\u001b[0m\u001b[1;31m:\u001b[0m invalid syntax\n"
     ]
    }
   ],
   "source": [
    "Determining the time complexity\n",
    "\n",
    "What is the time complexity of the following function?\n",
    "\n",
    "def my_function(n):\n",
    "   i = 0\n",
    "   while(i < n):\n",
    "      print(i)\n",
    "      i = i+1\n",
    "      if(i > 25):\n",
    "       break\n",
    "\n",
    " \n",
    "\n",
    "O(1)\n",
    "Feedback :\n",
    "\n",
    "Notice how the loop runs for only a constant number of times, i.e. 25, when the input is very large. Hence, it will have a constant runtime. So, the time complexity is expressed as O(1).\n",
    "Correct\n",
    "\n",
    "O(25n)\n",
    "\n",
    "O(n)\n",
    "\n",
    "O(n2)\n"
   ]
  },
  {
   "cell_type": "code",
   "execution_count": 6,
   "metadata": {},
   "outputs": [
    {
     "ename": "SyntaxError",
     "evalue": "invalid syntax (<ipython-input-6-4f6173c026bd>, line 1)",
     "output_type": "error",
     "traceback": [
      "\u001b[1;36m  File \u001b[1;32m\"<ipython-input-6-4f6173c026bd>\"\u001b[1;36m, line \u001b[1;32m1\u001b[0m\n\u001b[1;33m    Reduction of Time Complexity\u001b[0m\n\u001b[1;37m              ^\u001b[0m\n\u001b[1;31mSyntaxError\u001b[0m\u001b[1;31m:\u001b[0m invalid syntax\n"
     ]
    }
   ],
   "source": [
    "Reduction of Time Complexity\n",
    "\n",
    "What will the time complexity of the following function of the algorithm be?\n",
    "\n",
    " T(n)=5n3+3n2+4\n",
    "\n",
    "O(n2)\n",
    "\n",
    "O(n3)\n",
    "Feedback :\n",
    "\n",
    "As seen in this section, the lower order terms such as 3n² and 4 can be ignored. And the constant preceding the highest order term isn’t written either. Hence, you ignore the ‘5’ in 5n³. So, the time-complexity becomes O(n³).\n",
    "Correct\n",
    "\n",
    "O(1)\n",
    "\n",
    "O(n3log(n2))\n"
   ]
  },
  {
   "cell_type": "code",
   "execution_count": 9,
   "metadata": {},
   "outputs": [
    {
     "ename": "SyntaxError",
     "evalue": "invalid syntax (<ipython-input-9-f01ad1fa6f5e>, line 1)",
     "output_type": "error",
     "traceback": [
      "\u001b[1;36m  File \u001b[1;32m\"<ipython-input-9-f01ad1fa6f5e>\"\u001b[1;36m, line \u001b[1;32m1\u001b[0m\n\u001b[1;33m    Reduction of Time Complexity\u001b[0m\n\u001b[1;37m              ^\u001b[0m\n\u001b[1;31mSyntaxError\u001b[0m\u001b[1;31m:\u001b[0m invalid syntax\n"
     ]
    }
   ],
   "source": [
    "Reduction of Time Complexity\n",
    "\n",
    "What will the Big-O notation for the following functions be?\n",
    "\n",
    "    T(n)=2n2+3\n",
    "    T(n)=3n3+5n2+2n+7\n",
    "    T(n)=6n+1\n",
    "\n",
    "O(n2),O(n3),O(n)\n",
    "Feedback :\n",
    "\n",
    "As seen before, the reduced time-complexities will be O(n²), O(n³), and O(n).\n",
    "Correct\n",
    "\n",
    "O(n),O(n3),O(n2)\n",
    "\n",
    "O(n2),O(n2),O(n)\n",
    "\n",
    "O(n3),O(n2),O(n)\n",
    "\n"
   ]
  },
  {
   "cell_type": "code",
   "execution_count": 8,
   "metadata": {},
   "outputs": [
    {
     "ename": "SyntaxError",
     "evalue": "invalid syntax (<ipython-input-8-7d9ca69e5a5e>, line 1)",
     "output_type": "error",
     "traceback": [
      "\u001b[1;36m  File \u001b[1;32m\"<ipython-input-8-7d9ca69e5a5e>\"\u001b[1;36m, line \u001b[1;32m1\u001b[0m\n\u001b[1;33m    Comparison of Efficiencies\u001b[0m\n\u001b[1;37m               ^\u001b[0m\n\u001b[1;31mSyntaxError\u001b[0m\u001b[1;31m:\u001b[0m invalid syntax\n"
     ]
    }
   ],
   "source": [
    "Comparison of Efficiencies\n",
    "\n",
    "Arrange the given functions in an order of decreasing efficiency and choose the right option.\n",
    "\n",
    "    T(n)=6n2+2n+3\n",
    "    T(n)=87\n",
    "    T(n)=n2+n+1\n",
    "    T(n)=7n+9\n",
    "\n",
    "2 > 4 > 3 > 1\n",
    "\n",
    "4 > 2 > 3 > 1\n",
    "\n",
    "2 > 4 > 1 = 3\n",
    "Feedback :\n",
    "\n",
    "For the four functions, the time-complexities are O(n²), O(1), O(n²), and O(n), respectively. Hence, the order of decreasing efficiency becomes 2 >  4 > 1 = 3.\n",
    "Correct\n",
    "\n",
    "4 > 2 > 1 = 3\n"
   ]
  },
  {
   "cell_type": "code",
   "execution_count": 10,
   "metadata": {},
   "outputs": [
    {
     "ename": "SyntaxError",
     "evalue": "invalid syntax (<ipython-input-10-69df0c7252b3>, line 1)",
     "output_type": "error",
     "traceback": [
      "\u001b[1;36m  File \u001b[1;32m\"<ipython-input-10-69df0c7252b3>\"\u001b[1;36m, line \u001b[1;32m1\u001b[0m\n\u001b[1;33m    Determining the time complexity\u001b[0m\n\u001b[1;37m                ^\u001b[0m\n\u001b[1;31mSyntaxError\u001b[0m\u001b[1;31m:\u001b[0m invalid syntax\n"
     ]
    }
   ],
   "source": [
    "Determining the time complexity\n",
    "\n",
    "What is the time complexity of the following function?\n",
    "\n",
    "def my_function(n):\n",
    "     for i in range(n):\n",
    "        j = 1\n",
    "        while(j <= n):\n",
    "            j = j + 1\n",
    "\n",
    "O(n)\n",
    "\n",
    "O(nlogn)\n",
    "\n",
    "O(n2)\n",
    "Feedback :\n",
    "\n",
    "For every ‘i’ in the outer for loop, the inner while loop is running ‘n’ times (from j = 1 to j = n). Hence, the total number of times the loop runs = n*n = n². So, the time complexity becomes O(n²).\n",
    "Correct\n",
    "\n",
    "O(n3)"
   ]
  },
  {
   "cell_type": "code",
   "execution_count": 12,
   "metadata": {},
   "outputs": [
    {
     "ename": "SyntaxError",
     "evalue": "invalid syntax (<ipython-input-12-58cc4c99576c>, line 1)",
     "output_type": "error",
     "traceback": [
      "\u001b[1;36m  File \u001b[1;32m\"<ipython-input-12-58cc4c99576c>\"\u001b[1;36m, line \u001b[1;32m1\u001b[0m\n\u001b[1;33m    Determining the time complexity\u001b[0m\n\u001b[1;37m                ^\u001b[0m\n\u001b[1;31mSyntaxError\u001b[0m\u001b[1;31m:\u001b[0m invalid syntax\n"
     ]
    }
   ],
   "source": [
    "Determining the time complexity\n",
    "It is used in Grover's algorithm is a quantum algorithm for searching an unsorted database of n entries in O(sqrt(n)) time.\n",
    "What will the time complexity of the following algorithm be?\n",
    "\n",
    "def my_function(n):\n",
    "  \n",
    "  for i in range(0, n, int(n**0.5)):\n",
    "    print(i)\n",
    "\n",
    "O(1)\n",
    "\n",
    "O(√n)\n",
    "Feedback :\n",
    "\n",
    "The loop runs from 0 to n with a step size of √n. Therefore, it runs √n times. Hence, the time complexity becomes O(√n). Note: For large inputs, √n becomes significantly smaller than n.\n",
    "Correct\n",
    "\n",
    "O(n)\n",
    "\n",
    "O(n2)\n"
   ]
  },
  {
   "cell_type": "code",
   "execution_count": 14,
   "metadata": {},
   "outputs": [
    {
     "ename": "SyntaxError",
     "evalue": "invalid syntax (<ipython-input-14-b190c8d19589>, line 1)",
     "output_type": "error",
     "traceback": [
      "\u001b[1;36m  File \u001b[1;32m\"<ipython-input-14-b190c8d19589>\"\u001b[1;36m, line \u001b[1;32m1\u001b[0m\n\u001b[1;33m    function(int n)\u001b[0m\n\u001b[1;37m                 ^\u001b[0m\n\u001b[1;31mSyntaxError\u001b[0m\u001b[1;31m:\u001b[0m invalid syntax\n"
     ]
    }
   ],
   "source": [
    "\n",
    "function(int n)\n",
    "{\n",
    "    if (n==1)\n",
    "       return;\n",
    "    for (int i=1; i<=n; i++)\n",
    "    {\n",
    "        // Inner loop executes only one\n",
    "        // time due to break statement.\n",
    "        for (int j=1; j<=n; j++)\n",
    "        {\n",
    "            printf(\"*\");\n",
    "            break;\n",
    "        }\n",
    "    }\n",
    "}\n",
    "\n",
    "\n",
    "O(n)"
   ]
  },
  {
   "cell_type": "code",
   "execution_count": 15,
   "metadata": {},
   "outputs": [
    {
     "ename": "SyntaxError",
     "evalue": "invalid syntax (<ipython-input-15-d63eb2668838>, line 1)",
     "output_type": "error",
     "traceback": [
      "\u001b[1;36m  File \u001b[1;32m\"<ipython-input-15-d63eb2668838>\"\u001b[1;36m, line \u001b[1;32m1\u001b[0m\n\u001b[1;33m    void function(int n)\u001b[0m\n\u001b[1;37m         ^\u001b[0m\n\u001b[1;31mSyntaxError\u001b[0m\u001b[1;31m:\u001b[0m invalid syntax\n"
     ]
    }
   ],
   "source": [
    "\n",
    "void function(int n)\n",
    "{\n",
    "    int count = 0;\n",
    "    for (int i=n/2; i<=n; i++)\n",
    " \n",
    "        // Executes O(Log n) times\n",
    "        for (int j=1; j<=n; j = 2 * j)\n",
    " \n",
    "            // Executes O(Log n) times\n",
    "            for (int k=1; k<=n; k = k * 2)\n",
    "                count++;\n",
    "}\n",
    "\n",
    "Time Complexity of the above function O(n (log**2[n]).\n"
   ]
  },
  {
   "cell_type": "code",
   "execution_count": 17,
   "metadata": {},
   "outputs": [
    {
     "ename": "SyntaxError",
     "evalue": "invalid syntax (<ipython-input-17-2de4b4ae304d>, line 1)",
     "output_type": "error",
     "traceback": [
      "\u001b[1;36m  File \u001b[1;32m\"<ipython-input-17-2de4b4ae304d>\"\u001b[1;36m, line \u001b[1;32m1\u001b[0m\n\u001b[1;33m    void function(int n)\u001b[0m\n\u001b[1;37m         ^\u001b[0m\n\u001b[1;31mSyntaxError\u001b[0m\u001b[1;31m:\u001b[0m invalid syntax\n"
     ]
    }
   ],
   "source": [
    "\n",
    "void function(int n)\n",
    "{\n",
    "    int count = 0;\n",
    " \n",
    "    // outer loop executes n/2 times\n",
    "    for (int i=n/2; i<=n; i++)\n",
    " \n",
    "        // middle loop executes  n/2 times\n",
    "        for (int j=1; j+n/2<=n; j = j++)\n",
    " \n",
    "            // inner loop executes logn times\n",
    "            for (int k=1; k<=n; k = k * 2)\n",
    "                count++;\n",
    "}\n",
    "\n",
    "Time Complexity of the above function O(n**2*logn)."
   ]
  },
  {
   "cell_type": "code",
   "execution_count": 18,
   "metadata": {},
   "outputs": [
    {
     "ename": "SyntaxError",
     "evalue": "invalid syntax (<ipython-input-18-d2f9b5520824>, line 1)",
     "output_type": "error",
     "traceback": [
      "\u001b[1;36m  File \u001b[1;32m\"<ipython-input-18-d2f9b5520824>\"\u001b[1;36m, line \u001b[1;32m1\u001b[0m\n\u001b[1;33m    void function(int n)\u001b[0m\n\u001b[1;37m         ^\u001b[0m\n\u001b[1;31mSyntaxError\u001b[0m\u001b[1;31m:\u001b[0m invalid syntax\n"
     ]
    }
   ],
   "source": [
    "\n",
    "void function(int n)\n",
    "{\n",
    "    int i = 1, s =1;\n",
    "    while (s <= n)\n",
    "    {\n",
    "        i++;\n",
    "        s += i;\n",
    "        printf(\"*\");\n",
    "    }\n",
    "}\n",
    "\n",
    "Time Complexity of the above function O(√n)."
   ]
  },
  {
   "cell_type": "code",
   "execution_count": 19,
   "metadata": {},
   "outputs": [
    {
     "ename": "SyntaxError",
     "evalue": "invalid syntax (<ipython-input-19-9ff9c4a65431>, line 1)",
     "output_type": "error",
     "traceback": [
      "\u001b[1;36m  File \u001b[1;32m\"<ipython-input-19-9ff9c4a65431>\"\u001b[1;36m, line \u001b[1;32m1\u001b[0m\n\u001b[1;33m    void function(int n)\u001b[0m\n\u001b[1;37m         ^\u001b[0m\n\u001b[1;31mSyntaxError\u001b[0m\u001b[1;31m:\u001b[0m invalid syntax\n"
     ]
    }
   ],
   "source": [
    "\n",
    "void function(int n)\n",
    "{\n",
    "    int count = 0;\n",
    " \n",
    "    // executes n times\n",
    "    for (int i=0; i<n; i++)\n",
    " \n",
    "        // executes O(n*n) times.\n",
    "        for (int j=i; j< i*i; j++)\n",
    "            if (j%i == 0)\n",
    "            {\n",
    "                // executes j times = O(n*n) times\n",
    "                for (int k=0; k<j; k++)\n",
    "                    printf(\"*\");\n",
    "            }\n",
    "}\n",
    "\n",
    "Time Complexity of the above function O(n**5)."
   ]
  },
  {
   "cell_type": "code",
   "execution_count": 20,
   "metadata": {},
   "outputs": [
    {
     "ename": "SyntaxError",
     "evalue": "invalid syntax (<ipython-input-20-fff5a08b44ab>, line 1)",
     "output_type": "error",
     "traceback": [
      "\u001b[1;36m  File \u001b[1;32m\"<ipython-input-20-fff5a08b44ab>\"\u001b[1;36m, line \u001b[1;32m1\u001b[0m\n\u001b[1;33m    int a = 0, b = 0;\u001b[0m\n\u001b[1;37m        ^\u001b[0m\n\u001b[1;31mSyntaxError\u001b[0m\u001b[1;31m:\u001b[0m invalid syntax\n"
     ]
    }
   ],
   "source": [
    "\n",
    "int a = 0, b = 0; \n",
    "\n",
    "//first loop is O(N) \n",
    "for (i = 0; i < N; i++) { \n",
    "    a = a + rand(); \n",
    "} \n",
    "\n",
    "//second loop is O(M)\n",
    "for (j = 0; j < M; j++) { \n",
    "    b = b + rand(); \n",
    "} \n",
    "\n",
    "Since we don’t know which is bigger, we say this is O(N + M). This can also be written as O(max(N, M)).\n",
    "Since there is no additional space being utilized, the space complexity is constant / O(1)\n",
    "3. O(N + M) time, O(1) space"
   ]
  },
  {
   "cell_type": "code",
   "execution_count": 21,
   "metadata": {},
   "outputs": [
    {
     "ename": "SyntaxError",
     "evalue": "invalid syntax (<ipython-input-21-393f8716debb>, line 1)",
     "output_type": "error",
     "traceback": [
      "\u001b[1;36m  File \u001b[1;32m\"<ipython-input-21-393f8716debb>\"\u001b[1;36m, line \u001b[1;32m1\u001b[0m\n\u001b[1;33m    int a = 0;\u001b[0m\n\u001b[1;37m        ^\u001b[0m\n\u001b[1;31mSyntaxError\u001b[0m\u001b[1;31m:\u001b[0m invalid syntax\n"
     ]
    }
   ],
   "source": [
    "\n",
    "int a = 0; \n",
    "for (i = 0; i < N; i++) { \n",
    "    for (j = N; j > i; j--) { \n",
    "        a = a + i + j; \n",
    "    } \n",
    "} \n",
    "\n",
    "4. O(N*N)\n",
    "\n",
    "The above code runs total no of times\n",
    "= N + (N – 1) + (N – 2) + … 1 + 0\n",
    "= N * (N + 1) / 2\n"
   ]
  },
  {
   "cell_type": "code",
   "execution_count": 22,
   "metadata": {},
   "outputs": [
    {
     "ename": "SyntaxError",
     "evalue": "invalid syntax (<ipython-input-22-2b2414491e34>, line 1)",
     "output_type": "error",
     "traceback": [
      "\u001b[1;36m  File \u001b[1;32m\"<ipython-input-22-2b2414491e34>\"\u001b[1;36m, line \u001b[1;32m1\u001b[0m\n\u001b[1;33m    int i, j, k = 0;\u001b[0m\n\u001b[1;37m        ^\u001b[0m\n\u001b[1;31mSyntaxError\u001b[0m\u001b[1;31m:\u001b[0m invalid syntax\n"
     ]
    }
   ],
   "source": [
    "\n",
    "int i, j, k = 0; \n",
    "for (i = n / 2; i <= n; i++) { \n",
    "    for (j = 2; j <= n; j = j * 2) { \n",
    "        k = k + n / 2; \n",
    "    } \n",
    "} \n",
    "\n",
    "2. O(nLogn)\n",
    "If you notice, j keeps doubling till it is less than or equal to n. Number of times, we can double a number till it is less than n would be log(n).\n",
    "Let’s take the examples here.\n",
    "for n = 16, j = 2, 4, 8, 16\n",
    "for n = 32, j = 2, 4, 8, 16, 32\n",
    "So, j would run for O(log n) steps.\n",
    "i runs for n/2 steps.\n",
    "So, total steps = O(n/ 2 * log (n)) = O(n*logn)\n"
   ]
  },
  {
   "cell_type": "code",
   "execution_count": 24,
   "metadata": {},
   "outputs": [
    {
     "ename": "SyntaxError",
     "evalue": "invalid syntax (<ipython-input-24-eeb9a41b8def>, line 1)",
     "output_type": "error",
     "traceback": [
      "\u001b[1;36m  File \u001b[1;32m\"<ipython-input-24-eeb9a41b8def>\"\u001b[1;36m, line \u001b[1;32m1\u001b[0m\n\u001b[1;33m    int a = 0, i = N;\u001b[0m\n\u001b[1;37m        ^\u001b[0m\n\u001b[1;31mSyntaxError\u001b[0m\u001b[1;31m:\u001b[0m invalid syntax\n"
     ]
    }
   ],
   "source": [
    "\n",
    "int a = 0, i = N; \n",
    "while (i > 0) { \n",
    "    a += i; \n",
    "    i /= 2; \n",
    "} \n",
    "4. O(log N)\n",
    "Explanation: We have to find the smallest x such that N / 2^x N\n",
    "x = log(N)"
   ]
  },
  {
   "cell_type": "code",
   "execution_count": null,
   "metadata": {},
   "outputs": [],
   "source": []
  }
 ],
 "metadata": {
  "kernelspec": {
   "display_name": "Python 3",
   "language": "python",
   "name": "python3"
  },
  "language_info": {
   "codemirror_mode": {
    "name": "ipython",
    "version": 3
   },
   "file_extension": ".py",
   "mimetype": "text/x-python",
   "name": "python",
   "nbconvert_exporter": "python",
   "pygments_lexer": "ipython3",
   "version": "3.8.2"
  }
 },
 "nbformat": 4,
 "nbformat_minor": 4
}
