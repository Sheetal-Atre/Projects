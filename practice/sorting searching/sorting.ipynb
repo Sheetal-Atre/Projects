{
 "cells": [
  {
   "cell_type": "raw",
   "metadata": {},
   "source": [
    "Session Overview\n",
    "\n",
    "In this session, you will learn about how having two or more pointers or iterators can sometimes improve the algorithm time complexity significantly. You must have already done this in a few problems before, like in searching algorithms, binary search and rotated list search etc. We will reinforce this learning using the following problems\n",
    "\n",
    "    Merge Two Sorted Lists\n",
    "    Specific Sum\n",
    "    Sort 0s and 1s"
   ]
  },
  {
   "cell_type": "code",
   "execution_count": 1,
   "metadata": {},
   "outputs": [
    {
     "ename": "SyntaxError",
     "evalue": "invalid syntax (<ipython-input-1-29c7135cc449>, line 1)",
     "output_type": "error",
     "traceback": [
      "\u001b[1;36m  File \u001b[1;32m\"<ipython-input-1-29c7135cc449>\"\u001b[1;36m, line \u001b[1;32m1\u001b[0m\n\u001b[1;33m    Time Complexity\u001b[0m\n\u001b[1;37m         ^\u001b[0m\n\u001b[1;31mSyntaxError\u001b[0m\u001b[1;31m:\u001b[0m invalid syntax\n"
     ]
    }
   ],
   "source": [
    "INSERTION SORT\n",
    "\n",
    "Time Complexity\n",
    "\n",
    "What is the time complexity of the algorithm of Insertion sort as discussed above?\n",
    "\n",
    "O(1)\n",
    "\n",
    "O(n)\n",
    "\n",
    "O(n2)\n",
    "Feedback :\n",
    "\n",
    "Explanation in the video below.\n",
    "Correct\n",
    "\n",
    "O(n3)\n"
   ]
  },
  {
   "cell_type": "code",
   "execution_count": 1,
   "metadata": {},
   "outputs": [
    {
     "data": {
      "text/plain": [
       "[20, 10, 15, 5, 29]"
      ]
     },
     "execution_count": 1,
     "metadata": {},
     "output_type": "execute_result"
    }
   ],
   "source": [
    "def func(x):\n",
    "     return x % 10\n",
    "\n",
    "L = [15, 20, 5, 29, 10]\n",
    "#5, 0, 5, 9, 0 ===> [0,0,5,5,9] ===>\n",
    "\n",
    "sorted(L, key = func)"
   ]
  },
  {
   "cell_type": "raw",
   "metadata": {},
   "source": [
    "Using the Built-in Sort Function\n",
    "Description\n",
    "Sort a list of strings according to their length, with the smallest string appearing first.\n",
    "Hint: Use the appropriate ‘key’ in the sorted() function. If two strings are of the same length then their order — as in the original string — should be preserved.\n",
    "\n",
    "Example:\n",
    "Input 1:\n",
    "[‘I’, ‘love’, ‘to’, ‘code’, ‘in’, ‘Python’]\n",
    "Output 1:\n",
    "[‘I’, ‘to’, ‘in’, ‘love’, ‘code’, ‘Python’]"
   ]
  },
  {
   "cell_type": "code",
   "execution_count": 7,
   "metadata": {},
   "outputs": [
    {
     "data": {
      "text/plain": [
       "['I', 'to', 'in', 'love', 'code', 'Python']"
      ]
     },
     "execution_count": 7,
     "metadata": {},
     "output_type": "execute_result"
    }
   ],
   "source": [
    "# Read the input\n",
    "import ast,sys\n",
    "#input_str = sys.stdin.read()\n",
    "#input_list = ast.literal_eval(input_str)\n",
    "input_list = [\"I\", 'love', 'to', 'code', 'in', 'Python']\n",
    "\n",
    "# Write your code here\n",
    "def func(x):\n",
    "    return len(x)\n",
    "print(sorted(input_list, key=func))"
   ]
  },
  {
   "cell_type": "raw",
   "metadata": {},
   "source": [
    "Custom Sort\n",
    "Description\n",
    "Sort a list of integers basis the remainder they leave when divided by 5 in an ascending order, i.e. the number that leaves a lower remainder when divided by 5 should come before the number which leaves a higher remainder.\n",
    "\n",
    "Hint: Use the appropriate ‘key’ in the sorted() function. If two integers leave the same remainder then their order — as in the original list — should be preserved.\n",
    "\n",
    "Examples:\n",
    "Input 1:\n",
    "[1, 9, 35, 12, 13, 21, 10]\n",
    "#remainders %5 = [1,4,0,2,3,1,0]\n",
    "\n",
    "Output 1:\n",
    "[35, 10, 1, 21, 12, 13, 9]"
   ]
  },
  {
   "cell_type": "code",
   "execution_count": 10,
   "metadata": {},
   "outputs": [
    {
     "ename": "SyntaxError",
     "evalue": "unexpected EOF while parsing (<unknown>, line 0)",
     "output_type": "error",
     "traceback": [
      "Traceback \u001b[1;36m(most recent call last)\u001b[0m:\n",
      "  File \u001b[0;32m\"c:\\users\\sheetal.atre\\appdata\\local\\programs\\python\\python38\\lib\\site-packages\\IPython\\core\\interactiveshell.py\"\u001b[0m, line \u001b[0;32m3331\u001b[0m, in \u001b[0;35mrun_code\u001b[0m\n    exec(code_obj, self.user_global_ns, self.user_ns)\n",
      "  File \u001b[0;32m\"<ipython-input-10-a091f2a4547b>\"\u001b[0m, line \u001b[0;32m4\u001b[0m, in \u001b[0;35m<module>\u001b[0m\n    input_list = ast.literal_eval(input_str)\n",
      "  File \u001b[0;32m\"c:\\users\\sheetal.atre\\appdata\\local\\programs\\python\\python38\\lib\\ast.py\"\u001b[0m, line \u001b[0;32m59\u001b[0m, in \u001b[0;35mliteral_eval\u001b[0m\n    node_or_string = parse(node_or_string, mode='eval')\n",
      "\u001b[1;36m  File \u001b[1;32m\"c:\\users\\sheetal.atre\\appdata\\local\\programs\\python\\python38\\lib\\ast.py\"\u001b[1;36m, line \u001b[1;32m47\u001b[1;36m, in \u001b[1;35mparse\u001b[1;36m\u001b[0m\n\u001b[1;33m    return compile(source, filename, mode, flags,\u001b[0m\n",
      "\u001b[1;36m  File \u001b[1;32m\"<unknown>\"\u001b[1;36m, line \u001b[1;32munknown\u001b[0m\n\u001b[1;33m    \u001b[0m\n\u001b[1;37m    ^\u001b[0m\n\u001b[1;31mSyntaxError\u001b[0m\u001b[1;31m:\u001b[0m unexpected EOF while parsing\n"
     ]
    }
   ],
   "source": [
    "# Read the input\n",
    "import ast,sys\n",
    "input_str = sys.stdin.read()\n",
    "input_list = ast.literal_eval(input_str)\n",
    "\n",
    "# Write your code here\n",
    "\n",
    "def func(x):\n",
    "     return x % 5\n",
    "print(sorted(input_list, key = func))\n"
   ]
  },
  {
   "cell_type": "raw",
   "metadata": {},
   "source": [
    "Merge Sorted Lists\n",
    "Description\n",
    "Until now you have been doing problems with just one iterator. Now, let's add another dimension to our coding skills with a few problems where it will be easier and faster to do similar things with two iterators. You are given two sorted lists. You have to merge those such that the output is also sorted. Now, of course, you can merge and then use the sorted function. But that would be doing it in O(n*log(n)) Time and wheres the fun in that. Let's see if you can do it in O(n).\n",
    "\n",
    "\n",
    "Input:\n",
    "Two lines of input \n",
    "Each line will have a sorted list\n",
    "\n",
    "Output:\n",
    "Sorted merged list \n",
    "\n",
    "\n",
    "Sample input:\n",
    "[1, 3, 5, 7, 9, 10]\n",
    "[2, 3, 4, 5, 6, 8, 11, 12, 13]\n",
    "\n",
    "Sample output:\n",
    "[1, 2, 3, 3, 4, 5, 5, 6, 7, 8, 9, 10, 11, 12, 13]"
   ]
  },
  {
   "cell_type": "code",
   "execution_count": null,
   "metadata": {},
   "outputs": [],
   "source": [
    "#take input on your own\n",
    "\n",
    "import ast\n",
    "L1 = ast.literal_eval(input())\n",
    "L2 = ast.literal_eval(input())\n",
    "\n",
    "#L1 = [1, 3, 5, 7, 9, 10]\n",
    "#L2 = [2, 3, 4, 5, 6, 8, 11, 12, 13]\n",
    "\n",
    "#write code to find merged list\n",
    "\n",
    "def merge_lists(L1, L2):\n",
    "    L3 = []\n",
    "    i=0\n",
    "    j=0\n",
    "    while i<len(L1) and j <len(L2):\n",
    "        if L1[i] < L2[j]:\n",
    "            L3.append(L1[i])\n",
    "            i += 1\n",
    "        else:\n",
    "            L3.append(L2[j])\n",
    "            j+=1\n",
    "    L3 += L1[i::] + L2[j::]\n",
    "    return L3\n",
    "\n",
    "print(merge_lists(L1, L2))\n"
   ]
  },
  {
   "cell_type": "code",
   "execution_count": 15,
   "metadata": {},
   "outputs": [
    {
     "name": "stdout",
     "output_type": "stream",
     "text": [
      "(17, 7)\n"
     ]
    }
   ],
   "source": [
    "#inefficient sorted/unsorted list - O(n**2)\n",
    "l = [1, 2, 3, 3, 4, 17, 5, 5, 6, 7, 8, 9, 19, 10, 11, 12, 17]\n",
    "key = 24\n",
    "\n",
    "def find_nos_with_sum(l, find_sum):\n",
    "    n=len(l)\n",
    "    for i in range(0,n):\n",
    "        for j in range(i+1,n):\n",
    "            if l[i]+l[j] == find_sum:\n",
    "                return(l[i],l[j])\n",
    "print(find_nos_with_sum(l, key))         "
   ]
  },
  {
   "cell_type": "code",
   "execution_count": 16,
   "metadata": {},
   "outputs": [
    {
     "name": "stdout",
     "output_type": "stream",
     "text": [
      "(7, 17)\n"
     ]
    }
   ],
   "source": [
    "#midpoint for sorted lists : O(n log n)\n",
    "\n",
    "l = [1, 2, 3, 3, 4, 5, 5, 6, 7, 8, 9, 10, 11, 12, 17]\n",
    "key = 24\n",
    "\n",
    "def find_nos_with_sum(l, find_sum):\n",
    "    ll=0\n",
    "    r = len(l)-1\n",
    "    while ll<r:\n",
    "        if l[ll]+l[r] == find_sum:\n",
    "            return(l[ll],l[r])\n",
    "        elif l[ll]+l[r] < find_sum:\n",
    "            ll = ll+1\n",
    "        else:\n",
    "            r = r+1\n",
    "print(find_nos_with_sum(l, key))         "
   ]
  },
  {
   "cell_type": "raw",
   "metadata": {},
   "source": [
    "Specific sum\n",
    "Description\n",
    "\n",
    "Lets now raise the bar higher with this problem and drive home how amazing having more than one iterators can be.\n",
    "\n",
    "You will be given a list and an integer k, you have to find two numbers from the list that add up to k\n",
    "\n",
    "\n",
    "Input:\n",
    "\n",
    "Two lines of input, the first line will have a sorted list of integers, the second list will have the number k\n",
    "\n",
    "\n",
    "Output:\n",
    "\n",
    "Two numbers from the list that add up to k\n",
    "\n",
    "\n",
    "\n",
    "Sample input:\n",
    "\n",
    "[1, 3, 5, 6, 10] \n",
    "\n",
    "15\n",
    "\n",
    "\n",
    "Sample output:\n",
    "\n",
    "5 10\n",
    "\n",
    "\n",
    "\n",
    "Sample input:\n",
    "\n",
    "[2, 6, 7, 10, 16, 17, 19]\n",
    "\n",
    "24\n",
    "\n",
    "\n",
    "Sample output:\n",
    "\n",
    "7 17\n",
    "Execution time limit\n",
    "\n"
   ]
  },
  {
   "cell_type": "code",
   "execution_count": 41,
   "metadata": {},
   "outputs": [
    {
     "name": "stdout",
     "output_type": "stream",
     "text": [
      "[1, 2, 3, 3, 4, 5, 5, 6, 7, 8, 9, 10, 11, 12, 17]\n",
      "24\n",
      "7 17\n"
     ]
    }
   ],
   "source": [
    "#O(n) by using dict\n",
    "    #insert arr[i] in the map\n",
    "    #check (arr[i],sum-arr[i]) exists in the map\n",
    "\n",
    "#take input on your own\n",
    "\n",
    "import ast\n",
    "l = ast.literal_eval(input())\n",
    "key = int(input())\n",
    "\n",
    "#write your code here\n",
    "def find_nos_with_sum(l, sumd):\n",
    "    mydict = {}\n",
    "    sz = len(l)\n",
    "    for i in range(0,sz):        \n",
    "        diff = sumd - l[i]\n",
    "\n",
    "        if diff in mydict:\n",
    "            #(e, sum-e) exists \n",
    "            print( diff, l[i])\n",
    "            break\n",
    "        else:\n",
    "            #add(elmt:index) to dict\n",
    "            mydict[l[i]] = i\n",
    "            i += 1\n",
    "            \n",
    "find_nos_with_sum(l, key)\n",
    "\n",
    "#l = [1, 2, 3, 3, 4, 5, 5, 6, 7, 8, 9, 10, 11, 12, 17]\n",
    "#key = 24\n",
    "#print(find_nos_with_sum(l, key))  \n",
    "\n",
    "#l=[1, 3, 5, 6, 10] \n",
    "#key=15\n",
    "#print(find_nos_with_sum(l, key))  \n"
   ]
  },
  {
   "cell_type": "code",
   "execution_count": 42,
   "metadata": {},
   "outputs": [
    {
     "ename": "SyntaxError",
     "evalue": "invalid syntax (<ipython-input-42-bc1530dcfc51>, line 1)",
     "output_type": "error",
     "traceback": [
      "\u001b[1;36m  File \u001b[1;32m\"<ipython-input-42-bc1530dcfc51>\"\u001b[1;36m, line \u001b[1;32m1\u001b[0m\n\u001b[1;33m    Sort a vector of 0s, 1s, and 2s\u001b[0m\n\u001b[1;37m         ^\u001b[0m\n\u001b[1;31mSyntaxError\u001b[0m\u001b[1;31m:\u001b[0m invalid syntax\n"
     ]
    }
   ],
   "source": [
    "Sort a vector of 0s, 1s, and 2s\n",
    "Description\n",
    "Write a code to sort a listof 0s, 1s, and 2s. Note that the time complexity should be O(n). \n",
    "Note: Do not use the built-in sorted() function.\n",
    "\n",
    "Example:\n",
    "Input 1:\n",
    "[0, 2, 0, 0, 1, 1, 2, 0, 1]\n",
    "Output 1:\n",
    "[0, 0, 0, 0, 1, 1, 1, 2, 2]\n",
    "\n"
   ]
  },
  {
   "cell_type": "code",
   "execution_count": 73,
   "metadata": {},
   "outputs": [
    {
     "name": "stdout",
     "output_type": "stream",
     "text": [
      "[1, 1, 1, 1, 0, 0]\n"
     ]
    }
   ],
   "source": [
    "#a=[0, 1, 0, 0, 1, 1, 1, 0, 1]\n",
    "def segregate0and1(arr):\n",
    "    size = len(arr) \n",
    "    l = 0\n",
    "    r = size - 1\n",
    "      \n",
    "    while(l < r): \n",
    "        if(arr[l] == 1): \n",
    "            (arr[l],arr[r]) = (arr[r],  arr[l]) \n",
    "            r -= 1\n",
    "        else: \n",
    "            l += 1\n",
    "            \n",
    "  # Driver Code \n",
    "arr = [0, 1, 0, 1, 1, 1] \n",
    "segregate0and1(arr) \n",
    "print(arr)        \n",
    "        "
   ]
  },
  {
   "cell_type": "code",
   "execution_count": 14,
   "metadata": {},
   "outputs": [
    {
     "name": "stdout",
     "output_type": "stream",
     "text": [
      "[0, 0, 0, 0, 1, 1, 1, 2, 2]\n"
     ]
    }
   ],
   "source": [
    "# Read the input\n",
    "import ast,sys\n",
    "input_str = sys.stdin.read()\n",
    "input_list = ast.literal_eval(input_str)\n",
    "\n",
    "# Write your code here\n",
    "def vector_sort_012(a):\n",
    "    l = 0\n",
    "    r = len(a) - 1\n",
    "    mid = 0\n",
    "    while mid <= r: \n",
    "        #compare mid elmt\n",
    "        if a[mid] == 0: \n",
    "            #place in left partition\n",
    "            a[l], a[mid] = a[mid], a[l] \n",
    "            l += 1\n",
    "            mid += 1\n",
    "        elif a[mid] == 1: \n",
    "            #do nothing, read next elmt\n",
    "            mid += 1\n",
    "        else: \n",
    "            #place in right partition\n",
    "            a[mid], a[r] = a[r], a[mid]  \n",
    "            r -= 1\n",
    "    return a \n",
    "\n",
    "print(vector_sort_012(input_list))"
   ]
  },
  {
   "cell_type": "raw",
   "metadata": {},
   "source": [
    "Diff K\n",
    "Description\n",
    "You have done the specific sum problem. Now it's time for a similar albeit slightly modified version of the same - Diff K. \n",
    "\n",
    "Given a list 'L' of sorted integers and another non-negative integer k, find if there exist 2 indices i and j such that L[i] - L[j] = k, i != j.\n",
    "\n",
    "Format:\n",
    "Input: A single sorted list in the first line and the non-negative integer 'k' in the second line.\n",
    "Output: 'Yes' if there exist two such indices otherwise, 'No'.\n",
    "\n",
    "Examples:\n",
    "Input 1:\n",
    "[1, 3, 5, 6, 10]\n",
    "4\n",
    "Output 1:\n",
    "Yes\n",
    "\n",
    "Input 2:\n",
    "[1, 3, 5, 6, 10]\n",
    "8\n",
    "Output 2:\n",
    "No\n",
    "Execution time limit"
   ]
  },
  {
   "cell_type": "code",
   "execution_count": 25,
   "metadata": {},
   "outputs": [
    {
     "name": "stdout",
     "output_type": "stream",
     "text": [
      "Yes\n",
      "\n",
      "No\n"
     ]
    }
   ],
   "source": [
    "#take input on your own\n",
    "\n",
    "import ast\n",
    "l = ast.literal_eval(input())\n",
    "key = int(input())\n",
    "\n",
    "#write your code here\n",
    "def find_nos_with_sum(l, k):\n",
    "    mydict = {}\n",
    "    sz = len(l)\n",
    "    found = False\n",
    "    for i in range(0,sz):\n",
    "        #L[i]-L[j] = k, so L[j] should be found in the dict.\n",
    "        #L[i]-k=L[j]\n",
    "        diff =   l[i]-k\n",
    "\n",
    "        if diff in mydict:\n",
    "            #(L[i], L[j]-k) exists \n",
    "            #print( diff, l[i])\n",
    "            found= True\n",
    "            print(\"Yes\")\n",
    "            break\n",
    "        else:\n",
    "            #add(elmt:index) to dict\n",
    "            mydict[l[i]] = i\n",
    "            i += 1\n",
    "    if found == False:\n",
    "        print(\"No\")\n",
    "find_nos_with_sum(l, key)\n",
    "\n",
    "l=[1, 3, 5, 6, 10]\n",
    "key=4\n",
    "find_nos_with_sum(l, key)\n",
    "\n",
    "print()\n",
    "l=[1, 3, 5, 6, 10]\n",
    "key=8\n",
    "find_nos_with_sum(l, key)\n",
    "\n",
    "\n"
   ]
  },
  {
   "cell_type": "raw",
   "metadata": {},
   "source": [
    "Intersection of Sorted Arrays\n",
    "Description\n",
    "Find the intersection of two sorted lists, i.e., find the elements that occur in both.\n",
    "\n",
    "Format:\n",
    "Input: 2 sorted lists\n",
    "Output: A single sorted list that contains the elements present in both the arrays.\n",
    "\n",
    "Examples:\n",
    "Input 1:\n",
    "[1, 2, 3, 5, 9]\n",
    "[3, 6, 9, 12]\n",
    "Output 1:\n",
    "[3, 9]\n",
    "\n",
    "Input 2:\n",
    "[1, 1, 2, 4, 8, 8, 8, 9]\n",
    "[1, 2, 6, 7, 8, 8, 8]\n",
    "Output 2:\n",
    "[1, 2, 8, 8, 8]\n",
    "Execution time limit"
   ]
  },
  {
   "cell_type": "code",
   "execution_count": 2,
   "metadata": {},
   "outputs": [
    {
     "name": "stdout",
     "output_type": "stream",
     "text": [
      "[1,2]\n"
     ]
    },
    {
     "ename": "TypeError",
     "evalue": "object of type 'int' has no len()",
     "output_type": "error",
     "traceback": [
      "\u001b[1;31m---------------------------------------------------------------------------\u001b[0m",
      "\u001b[1;31mTypeError\u001b[0m                                 Traceback (most recent call last)",
      "\u001b[1;32m<ipython-input-2-84f6ad4596e4>\u001b[0m in \u001b[0;36m<module>\u001b[1;34m\u001b[0m\n\u001b[0;32m     21\u001b[0m     \u001b[1;32mreturn\u001b[0m \u001b[0mL3\u001b[0m\u001b[1;33m\u001b[0m\u001b[1;33m\u001b[0m\u001b[0m\n\u001b[0;32m     22\u001b[0m \u001b[1;33m\u001b[0m\u001b[0m\n\u001b[1;32m---> 23\u001b[1;33m \u001b[0mprint\u001b[0m\u001b[1;33m(\u001b[0m\u001b[0mintersection_sorted_lists\u001b[0m\u001b[1;33m(\u001b[0m\u001b[0mL1\u001b[0m\u001b[1;33m,\u001b[0m \u001b[0mL2\u001b[0m\u001b[1;33m)\u001b[0m\u001b[1;33m)\u001b[0m\u001b[1;33m\u001b[0m\u001b[1;33m\u001b[0m\u001b[0m\n\u001b[0m\u001b[0;32m     24\u001b[0m \u001b[1;33m\u001b[0m\u001b[0m\n\u001b[0;32m     25\u001b[0m \u001b[0mL1\u001b[0m\u001b[1;33m=\u001b[0m\u001b[1;33m[\u001b[0m\u001b[1;36m1\u001b[0m\u001b[1;33m,\u001b[0m \u001b[1;36m2\u001b[0m\u001b[1;33m,\u001b[0m \u001b[1;36m3\u001b[0m\u001b[1;33m,\u001b[0m \u001b[1;36m5\u001b[0m\u001b[1;33m,\u001b[0m \u001b[1;36m9\u001b[0m\u001b[1;33m]\u001b[0m\u001b[1;33m\u001b[0m\u001b[1;33m\u001b[0m\u001b[0m\n",
      "\u001b[1;32m<ipython-input-2-84f6ad4596e4>\u001b[0m in \u001b[0;36mintersection_sorted_lists\u001b[1;34m(L1, L2)\u001b[0m\n\u001b[0;32m     10\u001b[0m     \u001b[0mi\u001b[0m\u001b[1;33m=\u001b[0m\u001b[1;36m0\u001b[0m\u001b[1;33m\u001b[0m\u001b[1;33m\u001b[0m\u001b[0m\n\u001b[0;32m     11\u001b[0m     \u001b[0mj\u001b[0m\u001b[1;33m=\u001b[0m\u001b[1;36m0\u001b[0m\u001b[1;33m\u001b[0m\u001b[1;33m\u001b[0m\u001b[0m\n\u001b[1;32m---> 12\u001b[1;33m     \u001b[1;32mwhile\u001b[0m \u001b[0mi\u001b[0m\u001b[1;33m<\u001b[0m\u001b[0mlen\u001b[0m\u001b[1;33m(\u001b[0m\u001b[0mL1\u001b[0m\u001b[1;33m)\u001b[0m \u001b[1;32mand\u001b[0m \u001b[0mj\u001b[0m \u001b[1;33m<\u001b[0m\u001b[0mlen\u001b[0m\u001b[1;33m(\u001b[0m\u001b[0mL2\u001b[0m\u001b[1;33m)\u001b[0m\u001b[1;33m:\u001b[0m\u001b[1;33m\u001b[0m\u001b[1;33m\u001b[0m\u001b[0m\n\u001b[0m\u001b[0;32m     13\u001b[0m         \u001b[1;32mif\u001b[0m \u001b[0mL1\u001b[0m\u001b[1;33m[\u001b[0m\u001b[0mi\u001b[0m\u001b[1;33m]\u001b[0m \u001b[1;33m==\u001b[0m \u001b[0mL2\u001b[0m\u001b[1;33m[\u001b[0m\u001b[0mj\u001b[0m\u001b[1;33m]\u001b[0m\u001b[1;33m:\u001b[0m\u001b[1;33m\u001b[0m\u001b[1;33m\u001b[0m\u001b[0m\n\u001b[0;32m     14\u001b[0m             \u001b[0mL3\u001b[0m\u001b[1;33m.\u001b[0m\u001b[0mappend\u001b[0m\u001b[1;33m(\u001b[0m\u001b[0mL1\u001b[0m\u001b[1;33m[\u001b[0m\u001b[0mi\u001b[0m\u001b[1;33m]\u001b[0m\u001b[1;33m)\u001b[0m\u001b[1;33m\u001b[0m\u001b[1;33m\u001b[0m\u001b[0m\n",
      "\u001b[1;31mTypeError\u001b[0m: object of type 'int' has no len()"
     ]
    }
   ],
   "source": [
    "# Reading the input\n",
    "import ast \n",
    "#[input_lists = ast.literal_eval(input())\n",
    "#L1 = input_lists[0]\n",
    "#L2 = input_lists[1]\n",
    "\n",
    "# Write your code here\n",
    "def intersection_sorted_lists(L1, L2):\n",
    "    L3 = []\n",
    "    i=0\n",
    "    j=0\n",
    "    while i<len(L1) and j <len(L2):\n",
    "        if L1[i] == L2[j]:\n",
    "            L3.append(L1[i])\n",
    "            i += 1\n",
    "            j+=1\n",
    "        elif L1[i]<L2[j]:\n",
    "            i+=1\n",
    "        else:\n",
    "            j+=1\n",
    "    return L3\n",
    "\n",
    "print(intersection_sorted_lists(L1, L2))\n",
    "\n",
    "L1=[1, 2, 3, 5, 9]\n",
    "L2= [3, 6, 9, 12]\n",
    "print(intersection_sorted_lists(L1, L2))\n",
    "\n",
    "L1=[1, 1, 2, 4, 8, 8, 8, 9]\n",
    "L2=[1, 2, 6, 7, 8, 8, 8]\n",
    "print(intersection_sorted_lists(L1, L2))\n"
   ]
  },
  {
   "cell_type": "raw",
   "metadata": {},
   "source": [
    "Recursion Factorial\n",
    "Description\n",
    "Earlier you found factorial using loops. Here you have to apply the theory of recursive functions to find the factorial of a positive integer.\n",
    "\n",
    "----------------------------------------------------------------------\n",
    "Input:\n",
    "A positive integer num.\n",
    "\n",
    "Output:\n",
    "The value of num factorial, num!.\n",
    "\n",
    "Note: 0!=1.\n",
    "\n",
    "----------------------------------------------------------------------\n",
    "Sample input:\n",
    "3\n",
    "\n",
    "Sample output:\n",
    "6\n",
    "\n",
    "----------------------------------------------------------------------\n",
    "Sample input:\n",
    "5\n",
    "\n",
    "Sample output:\n",
    "120"
   ]
  },
  {
   "cell_type": "code",
   "execution_count": 8,
   "metadata": {},
   "outputs": [
    {
     "name": "stdout",
     "output_type": "stream",
     "text": [
      "4\n",
      "24\n",
      "6\n",
      "120\n",
      "24\n"
     ]
    }
   ],
   "source": [
    "\n",
    "#take input here\n",
    "num=int(input())\n",
    "\n",
    "#write the recurssive function to find the factorial of num\n",
    "def factorial(n):\n",
    "    #find and RETURN factorial of num\n",
    "    if n <= 1:\n",
    "        return 1\n",
    "    else:\n",
    "        return n* factorial(n-1)\n",
    "    \n",
    "\n",
    "#function ends here\n",
    "\n",
    "print(factorial(num))\n",
    "\n",
    "print(fact(3))\n",
    "print(fact(5))\n",
    "print(fact(4))\n"
   ]
  },
  {
   "cell_type": "raw",
   "metadata": {},
   "source": [
    "Print numbers from -n to +n\n",
    "Description\n",
    "You’re given a positive number ‘n’ as an input. \n",
    "Write a recursive program to print all the numbers from -n to +n (including 0)\n",
    "Example:\n",
    "Input 1:\n",
    "3\n",
    "Output 1:\n",
    "-3\n",
    "-2\n",
    "-1\n",
    "0\n",
    "1\n",
    "2\n",
    "3\n",
    "Execution time limit\n",
    "\n",
    "15 seconds"
   ]
  },
  {
   "cell_type": "code",
   "execution_count": 23,
   "metadata": {},
   "outputs": [
    {
     "name": "stdout",
     "output_type": "stream",
     "text": [
      "3\n",
      "-3\n",
      "-2\n",
      "-1\n",
      "0\n",
      "1\n",
      "2\n",
      "3\n"
     ]
    }
   ],
   "source": [
    "# Read the input\n",
    "n = int(input())\n",
    "\n",
    "#for i in (-n,n+1,1):\n",
    "#    print(i)\n",
    "    \n",
    "def recursive_print(n1, n2):\n",
    "    if n1 <= n2:\n",
    "        print(n1)\n",
    "        recursive_print(n1+1,n2)\n",
    "    else:\n",
    "        return\n",
    "\n",
    "recursive_print(-n, n)\n",
    "#print(get_range(5,-5))\n",
    "#print(get_range(4,-4))\n",
    "\n"
   ]
  },
  {
   "cell_type": "code",
   "execution_count": 26,
   "metadata": {},
   "outputs": [
    {
     "name": "stdout",
     "output_type": "stream",
     "text": [
      "3\n",
      "-3\n",
      "-2\n",
      "-1\n",
      "0\n",
      "1\n",
      "2\n",
      "3\n"
     ]
    }
   ],
   "source": [
    "n = int(input())\n",
    "\n",
    "def rprint(n):\n",
    "    if n == 0:\n",
    "        print(0)\n",
    "    else:\n",
    "        print(-n)\n",
    "        rprint(n-1)\n",
    "        print(n)\n",
    "rprint(n)"
   ]
  },
  {
   "cell_type": "raw",
   "metadata": {},
   "source": [
    "def PrintReverseOrder1(N)  :\n",
    "    for i in range(1,N,-1):\n",
    "        print(i)\n",
    "        \n",
    "def PrintReverseOrder(N): \n",
    "  \n",
    "    # if N is less than 1 \n",
    "    # then return void function \n",
    "    if (N <= 0): \n",
    "        return; \n",
    "    else: \n",
    "        print(N, end = \" \"); \n",
    "  \n",
    "        # recursive call of the function \n",
    "        PrintReverseOrder(N - 1); \n",
    "          \n",
    "# Driver Code \n",
    "N = 5; \n",
    "PrintReverseOrder(N); \n",
    "  "
   ]
  },
  {
   "cell_type": "raw",
   "metadata": {},
   "source": [
    "Recursive Fibonacci\n",
    "Description\n",
    "Earlier you found Fibonacci numbers using loops. \n",
    "In this question, let's try and find it by writing a recursive function.\n",
    "You will be given a positive integer n you have to find the nth Fibonacci number.\n",
    "\n",
    "The Fibonacci series: 1, 1, 2, 3, 5, 8, 13, 21...\n",
    "\n",
    "----------------------------------------------------------------------\n",
    "Input:\n",
    "A positive integer n\n",
    "\n",
    "Output:\n",
    "The nth term in Fibonacci series.\n",
    "\n",
    "----------------------------------------------------------------------\n",
    "Sample input:\n",
    "2\n",
    "\n",
    "Sample output:\n",
    "1\n",
    "\n",
    "----------------------------------------------------------------------\n",
    "Sample input:\n",
    "8\n",
    "\n",
    "Sample output: \n",
    "21\n",
    "\n",
    "----------------------------------------------------------------------\n",
    "Note the execution time limit for this problem is less.\n",
    "Execution time limit"
   ]
  },
  {
   "cell_type": "code",
   "execution_count": 28,
   "metadata": {},
   "outputs": [
    {
     "name": "stdout",
     "output_type": "stream",
     "text": [
      "8\n",
      "21\n"
     ]
    }
   ],
   "source": [
    "#input taken here\n",
    "n=int(input())\n",
    "\n",
    "#write code for finding nth fibonacci number\n",
    "\n",
    "def fibonacci_no(n): \n",
    "    if n<=0: \n",
    "        return 0\n",
    "    elif n==1: \n",
    "        return 1\n",
    "    else: \n",
    "        prevno=fibonacci_no(n-1)\n",
    "        nextno=fibonacci_no(n-2)\n",
    "        return prevno+nextno   \n",
    "print(fibonacci_no(n)) "
   ]
  },
  {
   "cell_type": "code",
   "execution_count": 29,
   "metadata": {},
   "outputs": [
    {
     "ename": "SyntaxError",
     "evalue": "invalid syntax (<ipython-input-29-9310bcda1f66>, line 1)",
     "output_type": "error",
     "traceback": [
      "\u001b[1;36m  File \u001b[1;32m\"<ipython-input-29-9310bcda1f66>\"\u001b[1;36m, line \u001b[1;32m1\u001b[0m\n\u001b[1;33m    Output of Recursive Programs\u001b[0m\n\u001b[1;37m           ^\u001b[0m\n\u001b[1;31mSyntaxError\u001b[0m\u001b[1;31m:\u001b[0m invalid syntax\n"
     ]
    }
   ],
   "source": [
    "Output of Recursive Programs\n",
    "\n",
    "What will be the output of the following code?\n",
    "\n",
    "\n",
    "\n",
    "10\n",
    "\n",
    "24\n",
    "\n",
    "30\n",
    "\n",
    "100\n"
   ]
  },
  {
   "cell_type": "code",
   "execution_count": 30,
   "metadata": {},
   "outputs": [
    {
     "data": {
      "text/plain": [
       "30"
      ]
     },
     "execution_count": 30,
     "metadata": {},
     "output_type": "execute_result"
    }
   ],
   "source": [
    "def Unknown_func(number):\n",
    "    if number == 0:\n",
    "        return 0\n",
    "    else:\n",
    "        return number*number + Unknown_func(number-1)\n",
    "\n",
    "Unknown_func(4)"
   ]
  },
  {
   "cell_type": "code",
   "execution_count": 31,
   "metadata": {},
   "outputs": [
    {
     "ename": "SyntaxError",
     "evalue": "invalid syntax (<ipython-input-31-8145cb843972>, line 1)",
     "output_type": "error",
     "traceback": [
      "\u001b[1;36m  File \u001b[1;32m\"<ipython-input-31-8145cb843972>\"\u001b[1;36m, line \u001b[1;32m1\u001b[0m\n\u001b[1;33m    Output of Recursive Programs\u001b[0m\n\u001b[1;37m           ^\u001b[0m\n\u001b[1;31mSyntaxError\u001b[0m\u001b[1;31m:\u001b[0m invalid syntax\n"
     ]
    }
   ],
   "source": [
    "Output of Recursive Programs\n",
    "\n",
    "What is the following function in Python doing?\n",
    "\n",
    "\n",
    "\n",
    "Returning the floor value of log2(number)\n",
    "\n",
    "Returning the binary equivalent of the input number\n",
    "\n",
    "Returning the floor value of 2**number\n",
    "\n",
    "None of the above\n"
   ]
  },
  {
   "cell_type": "code",
   "execution_count": 40,
   "metadata": {},
   "outputs": [
    {
     "name": "stdout",
     "output_type": "stream",
     "text": [
      "4\n",
      "4.906890595608519 4\n"
     ]
    }
   ],
   "source": [
    "import math\n",
    "def Unknown_func(number):\n",
    "    if(number == 1):\n",
    "        return (0)\n",
    "    else:\n",
    "        return (1 + Unknown_func(number//2))\n",
    "print(Unknown_func(30))\n",
    "print(math.log2(30), math.floor(math.log2(30)))"
   ]
  },
  {
   "cell_type": "code",
   "execution_count": 38,
   "metadata": {},
   "outputs": [
    {
     "ename": "SyntaxError",
     "evalue": "invalid syntax (<ipython-input-38-360a3ef3cd36>, line 1)",
     "output_type": "error",
     "traceback": [
      "\u001b[1;36m  File \u001b[1;32m\"<ipython-input-38-360a3ef3cd36>\"\u001b[1;36m, line \u001b[1;32m1\u001b[0m\n\u001b[1;33m    Output of Recursive Programs\u001b[0m\n\u001b[1;37m           ^\u001b[0m\n\u001b[1;31mSyntaxError\u001b[0m\u001b[1;31m:\u001b[0m invalid syntax\n"
     ]
    }
   ],
   "source": [
    "Output of Recursive Programs\n",
    "\n",
    "What will the output of Unknown_func(63) be in the last question?\n",
    "\n",
    "5\n",
    "\n",
    "5.91\n",
    "\n",
    "6\n",
    "\n",
    "6.34\n",
    "#ans = 5"
   ]
  },
  {
   "cell_type": "code",
   "execution_count": 41,
   "metadata": {},
   "outputs": [
    {
     "ename": "SyntaxError",
     "evalue": "invalid syntax (<ipython-input-41-fd9b447a468f>, line 1)",
     "output_type": "error",
     "traceback": [
      "\u001b[1;36m  File \u001b[1;32m\"<ipython-input-41-fd9b447a468f>\"\u001b[1;36m, line \u001b[1;32m1\u001b[0m\n\u001b[1;33m    Output of Recursive Programs\u001b[0m\n\u001b[1;37m           ^\u001b[0m\n\u001b[1;31mSyntaxError\u001b[0m\u001b[1;31m:\u001b[0m invalid syntax\n"
     ]
    }
   ],
   "source": [
    "Output of Recursive Programs\n",
    "\n",
    "What will the output of Unknown_func(6) be?\n",
    "\n"
   ]
  },
  {
   "cell_type": "code",
   "execution_count": 42,
   "metadata": {},
   "outputs": [
    {
     "data": {
      "text/plain": [
       "8"
      ]
     },
     "execution_count": 42,
     "metadata": {},
     "output_type": "execute_result"
    }
   ],
   "source": [
    "def Unknown_func(n):\n",
    "    if n <= 1:\n",
    "        return(n)\n",
    "    else:\n",
    "        return (Unknown_func(n-1) + Unknown_func(n-2))\n",
    "Unknown_func(6)"
   ]
  },
  {
   "cell_type": "raw",
   "metadata": {},
   "source": [
    "Weird Function\n",
    "Description\n",
    "In data science, quite often you need to implement research papers \n",
    "and write code according to what's present in those papers. \n",
    "Research papers have a lot of maths involved and you need to implement \n",
    "the maths in code. In this exercise, you're required to implement some maths in code. \n",
    "The problem is as follows:\n",
    "\n",
    "For fixed integers a, b, c, define a weird function F(n) as follows: \n",
    "F(n) = n - c for all n > b \n",
    "F(n) = F(a + F(a + F(a + F(a + n)))) for all n ≤ b. \n",
    " \n",
    "Also, define S(a, b, c) = ∑F(n) where n takes the values 0 till b [in other words,\n",
    "S(a, b, c) = F(0) + F(1) + F(2) + .... F(b-1) + F(b)].\n",
    "\n",
    "The input will be the value of a, b and c. The output should be S(a, b, c). You can define the functions in your own customized way with no restrictions on the number of parameters. For example, you can define the function S which can take additional parameters than a, b and c. Just make sure the code behaves as per the maths.\n",
    " \n",
    "For example, if a = 20, b = 100 and c = 15, then F(0) = 195 and F(2000) = 1985. \n",
    "Therefore, S(20, 100, 15) = 14245\n",
    "\n",
    "\n",
    "Input:\n",
    "3 values separated by a comma\n",
    "a,b,c\n",
    "\n",
    "Output:\n",
    "S(a,b,c)\n",
    "\n",
    "\n",
    "Sample input:\n",
    "20, 100, 15\n",
    "\n",
    "Sample output:\n",
    "14245\n",
    "Execution time limit\n"
   ]
  },
  {
   "cell_type": "code",
   "execution_count": 26,
   "metadata": {},
   "outputs": [
    {
     "name": "stdout",
     "output_type": "stream",
     "text": [
      "9415\n"
     ]
    }
   ],
   "source": [
    "#input_str = input()\n",
    "input_str=\"20, 100, 15\"\n",
    "input_list = input_str.split(',')\n",
    "\n",
    "a = int(input_list[0])\n",
    "b = int(input_list[1])\n",
    "c = int(input_list[2])\n",
    "\n",
    "# write code here\n",
    "\n",
    "def F(a,b,c,n):\n",
    "    #\n",
    "    #print(a,b,c,n)\n",
    "\n",
    "    if n>b:\n",
    "        return n-c\n",
    "    else:\n",
    "        T0=F(a,b,c,a+n)\n",
    "        T1=F(a,b,c,a+T0)\n",
    "        T2=F(a,b,c,a+T1)\n",
    "\n",
    "        return F(a,b,c,T2)\n",
    "    \n",
    "    \n",
    "\n",
    "def large_sum(a, b, c):\n",
    "    sumd = 0\n",
    "    for n in range(0,b+1):\n",
    "        sumd += F(a, b, c, n)\n",
    "        #print(n,sumd)\n",
    "\n",
    "    return sumd\n",
    "\n",
    "result = large_sum(a, b, c)\n",
    "\n",
    "print(result)"
   ]
  },
  {
   "cell_type": "code",
   "execution_count": 11,
   "metadata": {},
   "outputs": [
    {
     "name": "stdout",
     "output_type": "stream",
     "text": [
      "14245\n"
     ]
    }
   ],
   "source": [
    "input_str = input()\n",
    "#input_str=\"20, 100, 15\"\n",
    "\n",
    "input_list = input_str.split(',')\n",
    "\n",
    "a = int(input_list[0])\n",
    "b = int(input_list[1])\n",
    "c = int(input_list[2])\n",
    "\n",
    "# write code here\n",
    "\n",
    "    #F0=F(a+n)\n",
    "    #F1=F(a+F0)\n",
    "    #F2=F(a+F1)\n",
    "    #F3=F(a+F2)\n",
    "    #Fn=F(a+Fn-1)\n",
    "def F(a,b,c,n):\n",
    "    if n>b:\n",
    "        return n-c\n",
    "    else:\n",
    "        #base case\n",
    "        T0=F(a,b,c,a+n)\n",
    "        T1=F(a,b,c,a+T0)\n",
    "        T2=F(a,b,c,a+T1)\n",
    "\n",
    "        #function\n",
    "        return F(a,b,c,a+T2)\n",
    "\n",
    "def large_sum(a, b, c):\n",
    "    sumd = 0\n",
    "    for n in range(b+1):\n",
    "        sumd += F(a, b, c, n)\n",
    "        #rint(value,large_sum1)\n",
    "\n",
    "    return sumd\n",
    "\n",
    "result = large_sum(a, b, c)\n",
    "\n",
    "print(result)"
   ]
  },
  {
   "cell_type": "code",
   "execution_count": 13,
   "metadata": {},
   "outputs": [
    {
     "name": "stdout",
     "output_type": "stream",
     "text": [
      "2401\n"
     ]
    }
   ],
   "source": [
    "print(7**4)\n"
   ]
  },
  {
   "cell_type": "raw",
   "metadata": {},
   "source": [
    "Recursive Pattern\n",
    "Description\n",
    "Given a positive integer 'n' and another positive integer 'k' (<n),  print the following pattern using recursion.\n",
    "\n",
    "Example:\n",
    "Input 1: n = 12, k = 5\n",
    "Output 2: 12, 7, 2, -3, 2, 7, 12\n",
    "\n",
    "Input 2: n = 10, k =2\n",
    "Output 2: 10, 8, 6, 4, 2, 0, 2, 4, 6, 8, 10\n",
    "\n",
    "Basically, you need to keep decrementing the given value of 'n' by 'k' until you encounter 0 or a negative number, in which case, you need to start incrementing by 'k' until you reach 'n' again.\n",
    "\n",
    "Format:\n",
    "Input: The first line contains the positive integer 'n'. The second line contains the positive integer 'k'.\n",
    "Output: The required pattern as comma-separated-values as shown in the examples above.\n"
   ]
  },
  {
   "cell_type": "code",
   "execution_count": 47,
   "metadata": {},
   "outputs": [
    {
     "name": "stdout",
     "output_type": "stream",
     "text": [
      "12\n",
      "5\n",
      "12, 7, 2, -3, 2, 7, 12\n"
     ]
    }
   ],
   "source": [
    "\n",
    "# Reading the inputs\n",
    "n = int(input())\n",
    "k = int(input())\n",
    "\n",
    "\n",
    "def func(n,k,l):\n",
    "    #base condition\n",
    "    if n+k <= 0:\n",
    "        return n\n",
    "    else:\n",
    "        #action\n",
    "        l.append(n)\n",
    "        #recursive function\n",
    "        func(n-k,k,l)\n",
    "        if(n > 0):\n",
    "            l.append(n)\n",
    "\n",
    "def pattern(n,k):\n",
    "     # Write your recursive function here\n",
    "    l=[]\n",
    "    func(n,k,l)\n",
    "    string = \", \".join([str(i) for i in l]) \n",
    "    print(string)\n",
    "\n",
    "pattern(n,k)\n",
    "\n",
    "\n",
    "# l=[]\n",
    "# func(10,2,l)\n",
    "# print(l)\n"
   ]
  },
  {
   "cell_type": "code",
   "execution_count": null,
   "metadata": {},
   "outputs": [],
   "source": []
  }
 ],
 "metadata": {
  "kernelspec": {
   "display_name": "Python 3",
   "language": "python",
   "name": "python3"
  },
  "language_info": {
   "codemirror_mode": {
    "name": "ipython",
    "version": 3
   },
   "file_extension": ".py",
   "mimetype": "text/x-python",
   "name": "python",
   "nbconvert_exporter": "python",
   "pygments_lexer": "ipython3",
   "version": "3.8.2"
  }
 },
 "nbformat": 4,
 "nbformat_minor": 4
}
